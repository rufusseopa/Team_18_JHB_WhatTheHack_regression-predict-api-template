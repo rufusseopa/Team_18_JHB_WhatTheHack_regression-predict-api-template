{
 "cells": [
  {
   "cell_type": "markdown",
   "metadata": {},
   "source": [
    "# Regression - Predict "
   ]
  },
  {
   "cell_type": "markdown",
   "metadata": {},
   "source": [
    "# <center>Definition</center>"
   ]
  },
  {
   "cell_type": "markdown",
   "metadata": {},
   "source": [
    "## Predict Overview"
   ]
  },
  {
   "cell_type": "markdown",
   "metadata": {},
   "source": [
    "Logistics in Sub-Saharan Africa increases the cost of manufactured goods by up to 320%; while in Europe, it only accounts for up to 90% of the manufacturing cost.\n",
    "Delivery time prediction has long been a part of city logistics, but refining accuracy has recently become very important for services such as Sendy, Mr delivery and Uber Eats which deliver goods on-demand.\n",
    "\n",
    "These services and similar ones must receive an order and have it delivered within the shortest time to appease their users. In these situations +/- 20  minutes can make a big difference so it’s very important for customer satisfaction that the initial prediction is highly accurate and that any delays are communicated effectively,which will ultimately improve customer experience. In addition, the solution will enable service providers to realise cost savings, and ultimately reduce the cost of doing business, through improved resource management and planning for order scheduling.\n",
    "This project was hosted by https://www.sendyit.com/  in partnership with insight2impact facility."
   ]
  },
  {
   "cell_type": "markdown",
   "metadata": {},
   "source": [
    "<img src=\"https://raw.githubusercontent.com/rufusseopa/Team_18_JHB_WhatTheHack_regression-predict-api-template/master/meme.png\" width=\"300\" height=\"300\" align=\"center\"/>"
   ]
  },
  {
   "cell_type": "markdown",
   "metadata": {},
   "source": [
    "## Problem Statement "
   ]
  },
  {
   "cell_type": "markdown",
   "metadata": {},
   "source": [
    "The goal is to build a general model which will take data about a good delivery order as input and then output the estimated time of delivery of orders, from the point of driver pickup to the point of arrival at final destination. "
   ]
  },
  {
   "cell_type": "markdown",
   "metadata": {},
   "source": [
    "##  Performance Metrics"
   ]
  },
  {
   "cell_type": "markdown",
   "metadata": {},
   "source": [
    "There are various metrics which we can use to evaluate the performance of ML algorithms, classification as well as regression algorithms. We must carefully choose the metrics for evaluating ML model performance because they will be used to judge our model’s effectiveness.\n",
    "\n",
    "We would now like to test our model using the testing data. To achieve this, we'll use the Root Mean Square Error:\n",
    "$$\n",
    "MRSE = \\sqrt{\\frac{1}{N}\\sum_{i=1}^N (p_i - y_i)^2} \n",
    "$$\n",
    "where $p_i$ refers to the $i^{\\rm th}$ prediction made from `X_test`, $y_i$ refers to the $i^{\\rm th}$ value in `y_test`, and $N$ is the length of `y_test`.\n",
    "\n",
    "and we will also be using the R Squared metric, which is generally used for explanatory purpose and provides an indication of the goodness or fit of a set of predicted output $\\hat{y}_i$ values to the actual output  $y_i$  values.\n",
    "\n",
    "\n"
   ]
  },
  {
   "cell_type": "markdown",
   "metadata": {},
   "source": [
    " # <center>Exploratory Data Analysis</center>"
   ]
  },
  {
   "cell_type": "markdown",
   "metadata": {},
   "source": [
    "## Data Exploration "
   ]
  },
  {
   "cell_type": "markdown",
   "metadata": {},
   "source": [
    "### Modules Imports "
   ]
  },
  {
   "cell_type": "code",
   "execution_count": 1,
   "metadata": {},
   "outputs": [],
   "source": [
    "# Import modules\n",
    "import pandas as pd\n",
    "import matplotlib.pyplot as plt\n",
    "import seaborn as sns\n",
    "import re\n",
    "import numpy as np\n",
    "import datetime\n",
    "import category_encoders as ce\n",
    "from sklearn.preprocessing import OneHotEncoder\n",
    "#To get away with warnings for presentability \n",
    "import warnings\n",
    "warnings.filterwarnings(\"ignore\")\n",
    "from scipy.stats import norm, skew \n",
    "# Modelling\n",
    "from sklearn.feature_selection import VarianceThreshold\n",
    "from sklearn.preprocessing import MinMaxScaler # For normalization\n",
    "\n",
    "# Figures inline and set visualization style\n",
    "%matplotlib inline\n",
    "sns.set()\n"
   ]
  },
  {
   "cell_type": "markdown",
   "metadata": {},
   "source": [
    "### Data Loading"
   ]
  },
  {
   "cell_type": "code",
   "execution_count": 2,
   "metadata": {},
   "outputs": [],
   "source": [
    "train_df=pd.read_csv('https://raw.githubusercontent.com/rufusseopa/Team_18_JHB_WhatTheHack_regression-predict-api-template/master/Data/Train.csv')\n",
    "test_df=pd.read_csv('https://raw.githubusercontent.com/rufusseopa/Team_18_JHB_WhatTheHack_regression-predict-api-template/master/Data/Test.csv')\n",
    "riders_df=pd.read_csv('https://raw.githubusercontent.com/rufusseopa/Team_18_JHB_WhatTheHack_regression-predict-api-template/master/Data/Riders.csv')\n",
    "variable_df=pd.read_csv('https://raw.githubusercontent.com/rufusseopa/Team_18_JHB_WhatTheHack_regression-predict-api-template/master/Data/VariableDefinitions.csv')"
   ]
  },
  {
   "cell_type": "code",
   "execution_count": 3,
   "metadata": {},
   "outputs": [
    {
     "data": {
      "text/html": [
       "<div>\n",
       "<style scoped>\n",
       "    .dataframe tbody tr th:only-of-type {\n",
       "        vertical-align: middle;\n",
       "    }\n",
       "\n",
       "    .dataframe tbody tr th {\n",
       "        vertical-align: top;\n",
       "    }\n",
       "\n",
       "    .dataframe thead th {\n",
       "        text-align: right;\n",
       "    }\n",
       "</style>\n",
       "<table border=\"1\" class=\"dataframe\">\n",
       "  <thead>\n",
       "    <tr style=\"text-align: right;\">\n",
       "      <th></th>\n",
       "      <th>Order No</th>\n",
       "      <th>User Id</th>\n",
       "      <th>Vehicle Type</th>\n",
       "      <th>Platform Type</th>\n",
       "      <th>Personal or Business</th>\n",
       "      <th>Placement - Day of Month</th>\n",
       "      <th>Placement - Weekday (Mo = 1)</th>\n",
       "      <th>Placement - Time</th>\n",
       "      <th>Confirmation - Day of Month</th>\n",
       "      <th>Confirmation - Weekday (Mo = 1)</th>\n",
       "      <th>...</th>\n",
       "      <th>Arrival at Destination - Time</th>\n",
       "      <th>Distance (KM)</th>\n",
       "      <th>Temperature</th>\n",
       "      <th>Precipitation in millimeters</th>\n",
       "      <th>Pickup Lat</th>\n",
       "      <th>Pickup Long</th>\n",
       "      <th>Destination Lat</th>\n",
       "      <th>Destination Long</th>\n",
       "      <th>Rider Id</th>\n",
       "      <th>Time from Pickup to Arrival</th>\n",
       "    </tr>\n",
       "  </thead>\n",
       "  <tbody>\n",
       "    <tr>\n",
       "      <th>0</th>\n",
       "      <td>Order_No_4211</td>\n",
       "      <td>User_Id_633</td>\n",
       "      <td>Bike</td>\n",
       "      <td>3</td>\n",
       "      <td>Business</td>\n",
       "      <td>9</td>\n",
       "      <td>5</td>\n",
       "      <td>9:35:46 AM</td>\n",
       "      <td>9</td>\n",
       "      <td>5</td>\n",
       "      <td>...</td>\n",
       "      <td>10:39:55 AM</td>\n",
       "      <td>4</td>\n",
       "      <td>20.4</td>\n",
       "      <td>NaN</td>\n",
       "      <td>-1.317755</td>\n",
       "      <td>36.830370</td>\n",
       "      <td>-1.300406</td>\n",
       "      <td>36.829741</td>\n",
       "      <td>Rider_Id_432</td>\n",
       "      <td>745</td>\n",
       "    </tr>\n",
       "    <tr>\n",
       "      <th>1</th>\n",
       "      <td>Order_No_25375</td>\n",
       "      <td>User_Id_2285</td>\n",
       "      <td>Bike</td>\n",
       "      <td>3</td>\n",
       "      <td>Personal</td>\n",
       "      <td>12</td>\n",
       "      <td>5</td>\n",
       "      <td>11:16:16 AM</td>\n",
       "      <td>12</td>\n",
       "      <td>5</td>\n",
       "      <td>...</td>\n",
       "      <td>12:17:22 PM</td>\n",
       "      <td>16</td>\n",
       "      <td>26.4</td>\n",
       "      <td>NaN</td>\n",
       "      <td>-1.351453</td>\n",
       "      <td>36.899315</td>\n",
       "      <td>-1.295004</td>\n",
       "      <td>36.814358</td>\n",
       "      <td>Rider_Id_856</td>\n",
       "      <td>1993</td>\n",
       "    </tr>\n",
       "    <tr>\n",
       "      <th>2</th>\n",
       "      <td>Order_No_1899</td>\n",
       "      <td>User_Id_265</td>\n",
       "      <td>Bike</td>\n",
       "      <td>3</td>\n",
       "      <td>Business</td>\n",
       "      <td>30</td>\n",
       "      <td>2</td>\n",
       "      <td>12:39:25 PM</td>\n",
       "      <td>30</td>\n",
       "      <td>2</td>\n",
       "      <td>...</td>\n",
       "      <td>1:00:38 PM</td>\n",
       "      <td>3</td>\n",
       "      <td>NaN</td>\n",
       "      <td>NaN</td>\n",
       "      <td>-1.308284</td>\n",
       "      <td>36.843419</td>\n",
       "      <td>-1.300921</td>\n",
       "      <td>36.828195</td>\n",
       "      <td>Rider_Id_155</td>\n",
       "      <td>455</td>\n",
       "    </tr>\n",
       "    <tr>\n",
       "      <th>3</th>\n",
       "      <td>Order_No_9336</td>\n",
       "      <td>User_Id_1402</td>\n",
       "      <td>Bike</td>\n",
       "      <td>3</td>\n",
       "      <td>Business</td>\n",
       "      <td>15</td>\n",
       "      <td>5</td>\n",
       "      <td>9:25:34 AM</td>\n",
       "      <td>15</td>\n",
       "      <td>5</td>\n",
       "      <td>...</td>\n",
       "      <td>10:05:27 AM</td>\n",
       "      <td>9</td>\n",
       "      <td>19.2</td>\n",
       "      <td>NaN</td>\n",
       "      <td>-1.281301</td>\n",
       "      <td>36.832396</td>\n",
       "      <td>-1.257147</td>\n",
       "      <td>36.795063</td>\n",
       "      <td>Rider_Id_855</td>\n",
       "      <td>1341</td>\n",
       "    </tr>\n",
       "    <tr>\n",
       "      <th>4</th>\n",
       "      <td>Order_No_27883</td>\n",
       "      <td>User_Id_1737</td>\n",
       "      <td>Bike</td>\n",
       "      <td>1</td>\n",
       "      <td>Personal</td>\n",
       "      <td>13</td>\n",
       "      <td>1</td>\n",
       "      <td>9:55:18 AM</td>\n",
       "      <td>13</td>\n",
       "      <td>1</td>\n",
       "      <td>...</td>\n",
       "      <td>10:25:37 AM</td>\n",
       "      <td>9</td>\n",
       "      <td>15.4</td>\n",
       "      <td>NaN</td>\n",
       "      <td>-1.266597</td>\n",
       "      <td>36.792118</td>\n",
       "      <td>-1.295041</td>\n",
       "      <td>36.809817</td>\n",
       "      <td>Rider_Id_770</td>\n",
       "      <td>1214</td>\n",
       "    </tr>\n",
       "  </tbody>\n",
       "</table>\n",
       "<p>5 rows × 29 columns</p>\n",
       "</div>"
      ],
      "text/plain": [
       "         Order No       User Id Vehicle Type  Platform Type  \\\n",
       "0   Order_No_4211   User_Id_633         Bike              3   \n",
       "1  Order_No_25375  User_Id_2285         Bike              3   \n",
       "2   Order_No_1899   User_Id_265         Bike              3   \n",
       "3   Order_No_9336  User_Id_1402         Bike              3   \n",
       "4  Order_No_27883  User_Id_1737         Bike              1   \n",
       "\n",
       "  Personal or Business  Placement - Day of Month  \\\n",
       "0             Business                         9   \n",
       "1             Personal                        12   \n",
       "2             Business                        30   \n",
       "3             Business                        15   \n",
       "4             Personal                        13   \n",
       "\n",
       "   Placement - Weekday (Mo = 1) Placement - Time  Confirmation - Day of Month  \\\n",
       "0                             5       9:35:46 AM                            9   \n",
       "1                             5      11:16:16 AM                           12   \n",
       "2                             2      12:39:25 PM                           30   \n",
       "3                             5       9:25:34 AM                           15   \n",
       "4                             1       9:55:18 AM                           13   \n",
       "\n",
       "   Confirmation - Weekday (Mo = 1)  ... Arrival at Destination - Time  \\\n",
       "0                                5  ...                   10:39:55 AM   \n",
       "1                                5  ...                   12:17:22 PM   \n",
       "2                                2  ...                    1:00:38 PM   \n",
       "3                                5  ...                   10:05:27 AM   \n",
       "4                                1  ...                   10:25:37 AM   \n",
       "\n",
       "   Distance (KM)  Temperature Precipitation in millimeters  Pickup Lat  \\\n",
       "0              4         20.4                          NaN   -1.317755   \n",
       "1             16         26.4                          NaN   -1.351453   \n",
       "2              3          NaN                          NaN   -1.308284   \n",
       "3              9         19.2                          NaN   -1.281301   \n",
       "4              9         15.4                          NaN   -1.266597   \n",
       "\n",
       "   Pickup Long Destination Lat  Destination Long      Rider Id  \\\n",
       "0    36.830370       -1.300406         36.829741  Rider_Id_432   \n",
       "1    36.899315       -1.295004         36.814358  Rider_Id_856   \n",
       "2    36.843419       -1.300921         36.828195  Rider_Id_155   \n",
       "3    36.832396       -1.257147         36.795063  Rider_Id_855   \n",
       "4    36.792118       -1.295041         36.809817  Rider_Id_770   \n",
       "\n",
       "  Time from Pickup to Arrival  \n",
       "0                         745  \n",
       "1                        1993  \n",
       "2                         455  \n",
       "3                        1341  \n",
       "4                        1214  \n",
       "\n",
       "[5 rows x 29 columns]"
      ]
     },
     "execution_count": 3,
     "metadata": {},
     "output_type": "execute_result"
    }
   ],
   "source": [
    "train_df.head()"
   ]
  },
  {
   "cell_type": "code",
   "execution_count": 4,
   "metadata": {},
   "outputs": [
    {
     "data": {
      "text/html": [
       "<div>\n",
       "<style scoped>\n",
       "    .dataframe tbody tr th:only-of-type {\n",
       "        vertical-align: middle;\n",
       "    }\n",
       "\n",
       "    .dataframe tbody tr th {\n",
       "        vertical-align: top;\n",
       "    }\n",
       "\n",
       "    .dataframe thead th {\n",
       "        text-align: right;\n",
       "    }\n",
       "</style>\n",
       "<table border=\"1\" class=\"dataframe\">\n",
       "  <thead>\n",
       "    <tr style=\"text-align: right;\">\n",
       "      <th></th>\n",
       "      <th>Order No</th>\n",
       "      <th>User Id</th>\n",
       "      <th>Vehicle Type</th>\n",
       "      <th>Platform Type</th>\n",
       "      <th>Personal or Business</th>\n",
       "      <th>Placement - Day of Month</th>\n",
       "      <th>Placement - Weekday (Mo = 1)</th>\n",
       "      <th>Placement - Time</th>\n",
       "      <th>Confirmation - Day of Month</th>\n",
       "      <th>Confirmation - Weekday (Mo = 1)</th>\n",
       "      <th>...</th>\n",
       "      <th>Pickup - Weekday (Mo = 1)</th>\n",
       "      <th>Pickup - Time</th>\n",
       "      <th>Distance (KM)</th>\n",
       "      <th>Temperature</th>\n",
       "      <th>Precipitation in millimeters</th>\n",
       "      <th>Pickup Lat</th>\n",
       "      <th>Pickup Long</th>\n",
       "      <th>Destination Lat</th>\n",
       "      <th>Destination Long</th>\n",
       "      <th>Rider Id</th>\n",
       "    </tr>\n",
       "  </thead>\n",
       "  <tbody>\n",
       "    <tr>\n",
       "      <th>0</th>\n",
       "      <td>Order_No_19248</td>\n",
       "      <td>User_Id_3355</td>\n",
       "      <td>Bike</td>\n",
       "      <td>3</td>\n",
       "      <td>Business</td>\n",
       "      <td>27</td>\n",
       "      <td>3</td>\n",
       "      <td>4:44:10 PM</td>\n",
       "      <td>27</td>\n",
       "      <td>3</td>\n",
       "      <td>...</td>\n",
       "      <td>3</td>\n",
       "      <td>5:06:47 PM</td>\n",
       "      <td>8</td>\n",
       "      <td>NaN</td>\n",
       "      <td>NaN</td>\n",
       "      <td>-1.333275</td>\n",
       "      <td>36.870815</td>\n",
       "      <td>-1.305249</td>\n",
       "      <td>36.822390</td>\n",
       "      <td>Rider_Id_192</td>\n",
       "    </tr>\n",
       "    <tr>\n",
       "      <th>1</th>\n",
       "      <td>Order_No_12736</td>\n",
       "      <td>User_Id_3647</td>\n",
       "      <td>Bike</td>\n",
       "      <td>3</td>\n",
       "      <td>Business</td>\n",
       "      <td>17</td>\n",
       "      <td>5</td>\n",
       "      <td>12:57:35 PM</td>\n",
       "      <td>17</td>\n",
       "      <td>5</td>\n",
       "      <td>...</td>\n",
       "      <td>5</td>\n",
       "      <td>1:25:37 PM</td>\n",
       "      <td>5</td>\n",
       "      <td>NaN</td>\n",
       "      <td>NaN</td>\n",
       "      <td>-1.272639</td>\n",
       "      <td>36.794723</td>\n",
       "      <td>-1.277007</td>\n",
       "      <td>36.823907</td>\n",
       "      <td>Rider_Id_868</td>\n",
       "    </tr>\n",
       "    <tr>\n",
       "      <th>2</th>\n",
       "      <td>Order_No_768</td>\n",
       "      <td>User_Id_2154</td>\n",
       "      <td>Bike</td>\n",
       "      <td>3</td>\n",
       "      <td>Business</td>\n",
       "      <td>27</td>\n",
       "      <td>4</td>\n",
       "      <td>11:08:14 AM</td>\n",
       "      <td>27</td>\n",
       "      <td>4</td>\n",
       "      <td>...</td>\n",
       "      <td>4</td>\n",
       "      <td>11:57:54 AM</td>\n",
       "      <td>5</td>\n",
       "      <td>22.8</td>\n",
       "      <td>NaN</td>\n",
       "      <td>-1.290894</td>\n",
       "      <td>36.822971</td>\n",
       "      <td>-1.276574</td>\n",
       "      <td>36.851365</td>\n",
       "      <td>Rider_Id_26</td>\n",
       "    </tr>\n",
       "    <tr>\n",
       "      <th>3</th>\n",
       "      <td>Order_No_15332</td>\n",
       "      <td>User_Id_2910</td>\n",
       "      <td>Bike</td>\n",
       "      <td>3</td>\n",
       "      <td>Business</td>\n",
       "      <td>17</td>\n",
       "      <td>1</td>\n",
       "      <td>1:51:35 PM</td>\n",
       "      <td>17</td>\n",
       "      <td>1</td>\n",
       "      <td>...</td>\n",
       "      <td>1</td>\n",
       "      <td>2:16:52 PM</td>\n",
       "      <td>5</td>\n",
       "      <td>24.5</td>\n",
       "      <td>NaN</td>\n",
       "      <td>-1.290503</td>\n",
       "      <td>36.809646</td>\n",
       "      <td>-1.303382</td>\n",
       "      <td>36.790658</td>\n",
       "      <td>Rider_Id_685</td>\n",
       "    </tr>\n",
       "    <tr>\n",
       "      <th>4</th>\n",
       "      <td>Order_No_21373</td>\n",
       "      <td>User_Id_1205</td>\n",
       "      <td>Bike</td>\n",
       "      <td>3</td>\n",
       "      <td>Business</td>\n",
       "      <td>11</td>\n",
       "      <td>2</td>\n",
       "      <td>11:30:28 AM</td>\n",
       "      <td>11</td>\n",
       "      <td>2</td>\n",
       "      <td>...</td>\n",
       "      <td>2</td>\n",
       "      <td>11:56:04 AM</td>\n",
       "      <td>6</td>\n",
       "      <td>24.4</td>\n",
       "      <td>NaN</td>\n",
       "      <td>-1.281081</td>\n",
       "      <td>36.814423</td>\n",
       "      <td>-1.266467</td>\n",
       "      <td>36.792161</td>\n",
       "      <td>Rider_Id_858</td>\n",
       "    </tr>\n",
       "  </tbody>\n",
       "</table>\n",
       "<p>5 rows × 25 columns</p>\n",
       "</div>"
      ],
      "text/plain": [
       "         Order No       User Id Vehicle Type  Platform Type  \\\n",
       "0  Order_No_19248  User_Id_3355         Bike              3   \n",
       "1  Order_No_12736  User_Id_3647         Bike              3   \n",
       "2    Order_No_768  User_Id_2154         Bike              3   \n",
       "3  Order_No_15332  User_Id_2910         Bike              3   \n",
       "4  Order_No_21373  User_Id_1205         Bike              3   \n",
       "\n",
       "  Personal or Business  Placement - Day of Month  \\\n",
       "0             Business                        27   \n",
       "1             Business                        17   \n",
       "2             Business                        27   \n",
       "3             Business                        17   \n",
       "4             Business                        11   \n",
       "\n",
       "   Placement - Weekday (Mo = 1) Placement - Time  Confirmation - Day of Month  \\\n",
       "0                             3       4:44:10 PM                           27   \n",
       "1                             5      12:57:35 PM                           17   \n",
       "2                             4      11:08:14 AM                           27   \n",
       "3                             1       1:51:35 PM                           17   \n",
       "4                             2      11:30:28 AM                           11   \n",
       "\n",
       "   Confirmation - Weekday (Mo = 1)  ... Pickup - Weekday (Mo = 1)  \\\n",
       "0                                3  ...                         3   \n",
       "1                                5  ...                         5   \n",
       "2                                4  ...                         4   \n",
       "3                                1  ...                         1   \n",
       "4                                2  ...                         2   \n",
       "\n",
       "   Pickup - Time  Distance (KM) Temperature  Precipitation in millimeters  \\\n",
       "0     5:06:47 PM              8         NaN                           NaN   \n",
       "1     1:25:37 PM              5         NaN                           NaN   \n",
       "2    11:57:54 AM              5        22.8                           NaN   \n",
       "3     2:16:52 PM              5        24.5                           NaN   \n",
       "4    11:56:04 AM              6        24.4                           NaN   \n",
       "\n",
       "   Pickup Lat Pickup Long  Destination Lat  Destination Long      Rider Id  \n",
       "0   -1.333275   36.870815        -1.305249         36.822390  Rider_Id_192  \n",
       "1   -1.272639   36.794723        -1.277007         36.823907  Rider_Id_868  \n",
       "2   -1.290894   36.822971        -1.276574         36.851365   Rider_Id_26  \n",
       "3   -1.290503   36.809646        -1.303382         36.790658  Rider_Id_685  \n",
       "4   -1.281081   36.814423        -1.266467         36.792161  Rider_Id_858  \n",
       "\n",
       "[5 rows x 25 columns]"
      ]
     },
     "execution_count": 4,
     "metadata": {},
     "output_type": "execute_result"
    }
   ],
   "source": [
    "test_df.head()"
   ]
  },
  {
   "cell_type": "code",
   "execution_count": 5,
   "metadata": {},
   "outputs": [
    {
     "data": {
      "text/plain": [
       "Rider Id          960\n",
       "No_Of_Orders      811\n",
       "Age               725\n",
       "Average_Rating     45\n",
       "No_of_Ratings     553\n",
       "dtype: int64"
      ]
     },
     "execution_count": 5,
     "metadata": {},
     "output_type": "execute_result"
    }
   ],
   "source": [
    "riders_df.nunique()"
   ]
  },
  {
   "cell_type": "code",
   "execution_count": 6,
   "metadata": {},
   "outputs": [
    {
     "data": {
      "text/html": [
       "<div>\n",
       "<style scoped>\n",
       "    .dataframe tbody tr th:only-of-type {\n",
       "        vertical-align: middle;\n",
       "    }\n",
       "\n",
       "    .dataframe tbody tr th {\n",
       "        vertical-align: top;\n",
       "    }\n",
       "\n",
       "    .dataframe thead th {\n",
       "        text-align: right;\n",
       "    }\n",
       "</style>\n",
       "<table border=\"1\" class=\"dataframe\">\n",
       "  <thead>\n",
       "    <tr style=\"text-align: right;\">\n",
       "      <th></th>\n",
       "      <th>Order No</th>\n",
       "      <th>Unique number identifying the order</th>\n",
       "    </tr>\n",
       "  </thead>\n",
       "  <tbody>\n",
       "    <tr>\n",
       "      <th>0</th>\n",
       "      <td>User Id</td>\n",
       "      <td>Unique number identifying the customer on a pl...</td>\n",
       "    </tr>\n",
       "    <tr>\n",
       "      <th>1</th>\n",
       "      <td>Vehicle Type</td>\n",
       "      <td>For this competition limited to bikes, however...</td>\n",
       "    </tr>\n",
       "    <tr>\n",
       "      <th>2</th>\n",
       "      <td>Platform Type</td>\n",
       "      <td>Platform used to place the order, there are 4 ...</td>\n",
       "    </tr>\n",
       "    <tr>\n",
       "      <th>3</th>\n",
       "      <td>Personal or Business</td>\n",
       "      <td>Customer type</td>\n",
       "    </tr>\n",
       "    <tr>\n",
       "      <th>4</th>\n",
       "      <td>Placement - Day of Month</td>\n",
       "      <td>Placement - Day of Month i.e 1-31</td>\n",
       "    </tr>\n",
       "  </tbody>\n",
       "</table>\n",
       "</div>"
      ],
      "text/plain": [
       "                   Order No                Unique number identifying the order\n",
       "0                   User Id  Unique number identifying the customer on a pl...\n",
       "1              Vehicle Type  For this competition limited to bikes, however...\n",
       "2             Platform Type  Platform used to place the order, there are 4 ...\n",
       "3      Personal or Business                                      Customer type\n",
       "4  Placement - Day of Month                  Placement - Day of Month i.e 1-31"
      ]
     },
     "execution_count": 6,
     "metadata": {},
     "output_type": "execute_result"
    }
   ],
   "source": [
    "variable_df.head()"
   ]
  },
  {
   "cell_type": "markdown",
   "metadata": {},
   "source": [
    "The `train_df`,`test_df`, and `riders_df`  dataset have the following fields together with their datatypes:\n",
    "\n",
    "**Features Description**\n",
    "\n",
    "* Order No – Unique number identifying the order (object)\n",
    "* User Id – Unique number identifying the customer on a platform (object)\n",
    "* Vehicle Type – For this competition limited to bikes, however in practice, Sendy service extends to trucks and vans (object)\n",
    "* Platform Type – Platform used to place the order, there are 4 types (int64)\n",
    "* Personal or Business – Customer type (object)\n",
    "\n",
    "<u> Placement times </u> \n",
    "\n",
    "* Placement - Day of Month i.e 1-31 (int64)\n",
    "* Placement - Weekday (Monday = 1) (int64)\n",
    "* Placement - Time - Time of day the order was placed (object)\n",
    "\n",
    "<u>Confirmation times</u> \n",
    "\n",
    "* Confirmation - Day of Month i.e 1-31 (int64)\n",
    "* Confirmation - Weekday (Monday = 1) (int64)\n",
    "* Confirmation - Time - time of day the order was confirmed by a rider (object)\n",
    "\n",
    "\n",
    "<u>Arrival at Pickup times</u> \n",
    "* Arrival at Pickup - Day of Month i.e 1-31 (int64)\n",
    "* Arrival at Pickup - Weekday (Monday = 1) (int64)\n",
    "* Arrival at Pickup - Time - Time of day the rider arrived at the location to pick up the order - as marked by the rider through the Sendy application (object)\n",
    "\n",
    "\n",
    "<u>Pickup times</u> \n",
    "\n",
    "* Pickup - Day of Month i.e 1-31 (int64)\n",
    "* Pickup - Weekday (Monday = 1) (int64)\n",
    "* Pickup - Time - Time of day the rider picked up the order - as marked by the rider through the Sendy application (object)\n",
    "\n",
    "<u> Arrival at Destination times</u> \n",
    "\n",
    "* Arrival at Delivery - Day of Month i.e 1-31  (int64)\n",
    "* Arrival at Delivery - Weekday (Monday = 1) (int64)\n",
    "* Arrival at Delivery - Time - Time of day the rider arrived at the destination to deliver the order - as marked by the rider through the Sendy application (object)\n",
    "\n",
    "<u> Location</u> \n",
    "\n",
    "* Distance covered (KM) - The distance from Pickup to Destination (int64)\n",
    "* Pickup Latitude and Longitude - Latitude and longitude of pick up location (int64)\n",
    "* Destination Latitude and Longitude - Latitude and longitude of delivery location (int64)\n",
    "\n",
    "<u> Weather </u>\n",
    "\n",
    "* Temperature -Temperature at the time of order placement in Degrees Celsius (measured every three hours) (int64)\n",
    "* Precipitation in Millimeters - Precipitation at the time of order placement (measured every three hours) (int64)\n",
    "\n",
    "\n",
    "<u> Rider metrics </u>\n",
    "\n",
    "* Rider ID – Unique number identifying the rider (same as in order details) (object)\n",
    "* No of Orders – Number of Orders the rider has delivered  (int64)\n",
    "* Age – Number of days since the rider delivered the first order (int64)\n",
    "* Average Rating – Average rating of the rider (float64)\n",
    "* No of Ratings - Number of ratings the rider has received. Rating an order is optional for the customer. (int64)\n",
    "\n",
    "**Response Variable**\n",
    "* Time from Pickup to Arrival - Time in seconds between ‘Pickup’ and ‘Arrival at Destination’ - calculated from the columns for the purpose of facilitating the task  (int64)"
   ]
  },
  {
   "cell_type": "markdown",
   "metadata": {},
   "source": [
    "The  `variable_df` has variable infomation which was used to formulate the above list of variables and their Describtion "
   ]
  },
  {
   "cell_type": "code",
   "execution_count": 7,
   "metadata": {},
   "outputs": [
    {
     "name": "stdout",
     "output_type": "stream",
     "text": [
      "<class 'pandas.core.frame.DataFrame'>\n",
      "RangeIndex: 21201 entries, 0 to 21200\n",
      "Data columns (total 29 columns):\n",
      " #   Column                                     Non-Null Count  Dtype  \n",
      "---  ------                                     --------------  -----  \n",
      " 0   Order No                                   21201 non-null  object \n",
      " 1   User Id                                    21201 non-null  object \n",
      " 2   Vehicle Type                               21201 non-null  object \n",
      " 3   Platform Type                              21201 non-null  int64  \n",
      " 4   Personal or Business                       21201 non-null  object \n",
      " 5   Placement - Day of Month                   21201 non-null  int64  \n",
      " 6   Placement - Weekday (Mo = 1)               21201 non-null  int64  \n",
      " 7   Placement - Time                           21201 non-null  object \n",
      " 8   Confirmation - Day of Month                21201 non-null  int64  \n",
      " 9   Confirmation - Weekday (Mo = 1)            21201 non-null  int64  \n",
      " 10  Confirmation - Time                        21201 non-null  object \n",
      " 11  Arrival at Pickup - Day of Month           21201 non-null  int64  \n",
      " 12  Arrival at Pickup - Weekday (Mo = 1)       21201 non-null  int64  \n",
      " 13  Arrival at Pickup - Time                   21201 non-null  object \n",
      " 14  Pickup - Day of Month                      21201 non-null  int64  \n",
      " 15  Pickup - Weekday (Mo = 1)                  21201 non-null  int64  \n",
      " 16  Pickup - Time                              21201 non-null  object \n",
      " 17  Arrival at Destination - Day of Month      21201 non-null  int64  \n",
      " 18  Arrival at Destination - Weekday (Mo = 1)  21201 non-null  int64  \n",
      " 19  Arrival at Destination - Time              21201 non-null  object \n",
      " 20  Distance (KM)                              21201 non-null  int64  \n",
      " 21  Temperature                                16835 non-null  float64\n",
      " 22  Precipitation in millimeters               552 non-null    float64\n",
      " 23  Pickup Lat                                 21201 non-null  float64\n",
      " 24  Pickup Long                                21201 non-null  float64\n",
      " 25  Destination Lat                            21201 non-null  float64\n",
      " 26  Destination Long                           21201 non-null  float64\n",
      " 27  Rider Id                                   21201 non-null  object \n",
      " 28  Time from Pickup to Arrival                21201 non-null  int64  \n",
      "dtypes: float64(6), int64(13), object(10)\n",
      "memory usage: 4.7+ MB\n"
     ]
    }
   ],
   "source": [
    "train_df.info()"
   ]
  },
  {
   "cell_type": "code",
   "execution_count": 8,
   "metadata": {},
   "outputs": [
    {
     "name": "stdout",
     "output_type": "stream",
     "text": [
      "<class 'pandas.core.frame.DataFrame'>\n",
      "RangeIndex: 7068 entries, 0 to 7067\n",
      "Data columns (total 25 columns):\n",
      " #   Column                                Non-Null Count  Dtype  \n",
      "---  ------                                --------------  -----  \n",
      " 0   Order No                              7068 non-null   object \n",
      " 1   User Id                               7068 non-null   object \n",
      " 2   Vehicle Type                          7068 non-null   object \n",
      " 3   Platform Type                         7068 non-null   int64  \n",
      " 4   Personal or Business                  7068 non-null   object \n",
      " 5   Placement - Day of Month              7068 non-null   int64  \n",
      " 6   Placement - Weekday (Mo = 1)          7068 non-null   int64  \n",
      " 7   Placement - Time                      7068 non-null   object \n",
      " 8   Confirmation - Day of Month           7068 non-null   int64  \n",
      " 9   Confirmation - Weekday (Mo = 1)       7068 non-null   int64  \n",
      " 10  Confirmation - Time                   7068 non-null   object \n",
      " 11  Arrival at Pickup - Day of Month      7068 non-null   int64  \n",
      " 12  Arrival at Pickup - Weekday (Mo = 1)  7068 non-null   int64  \n",
      " 13  Arrival at Pickup - Time              7068 non-null   object \n",
      " 14  Pickup - Day of Month                 7068 non-null   int64  \n",
      " 15  Pickup - Weekday (Mo = 1)             7068 non-null   int64  \n",
      " 16  Pickup - Time                         7068 non-null   object \n",
      " 17  Distance (KM)                         7068 non-null   int64  \n",
      " 18  Temperature                           5631 non-null   float64\n",
      " 19  Precipitation in millimeters          199 non-null    float64\n",
      " 20  Pickup Lat                            7068 non-null   float64\n",
      " 21  Pickup Long                           7068 non-null   float64\n",
      " 22  Destination Lat                       7068 non-null   float64\n",
      " 23  Destination Long                      7068 non-null   float64\n",
      " 24  Rider Id                              7068 non-null   object \n",
      "dtypes: float64(6), int64(10), object(9)\n",
      "memory usage: 1.3+ MB\n"
     ]
    }
   ],
   "source": [
    "test_df.info()"
   ]
  },
  {
   "cell_type": "markdown",
   "metadata": {},
   "source": [
    "As it may be suspected based on the above fields ,some of the features may not be needed in our model,which means they must be discarded during preprocessing."
   ]
  },
  {
   "cell_type": "markdown",
   "metadata": {},
   "source": [
    "Lastly you must have noticed that the `Time from Pickup to Arrival` column is  missing in the Test set,this is because `Time from Pickup to Arrival` column is what our model that we will build  will be predicting. "
   ]
  },
  {
   "cell_type": "markdown",
   "metadata": {},
   "source": [
    "## Data Preprocessing "
   ]
  },
  {
   "cell_type": "markdown",
   "metadata": {},
   "source": [
    "### Combine Data"
   ]
  },
  {
   "cell_type": "code",
   "execution_count": 195,
   "metadata": {},
   "outputs": [],
   "source": [
    "train_df = train_df.merge(riders_df, on='Rider Id')\n",
    "test_df = test_df.merge(riders_df, on='Rider Id')\n"
   ]
  },
  {
   "cell_type": "markdown",
   "metadata": {},
   "source": [
    "Make `Order Id` the index of both the `test_df` and `train_df`,we will need this column for submission"
   ]
  },
  {
   "cell_type": "code",
   "execution_count": 196,
   "metadata": {},
   "outputs": [],
   "source": [
    "train_df.set_index('Order No', inplace=True)\n",
    "test_df.set_index('Order No', inplace=True)\n"
   ]
  },
  {
   "cell_type": "code",
   "execution_count": 197,
   "metadata": {},
   "outputs": [
    {
     "data": {
      "text/html": [
       "<div>\n",
       "<style scoped>\n",
       "    .dataframe tbody tr th:only-of-type {\n",
       "        vertical-align: middle;\n",
       "    }\n",
       "\n",
       "    .dataframe tbody tr th {\n",
       "        vertical-align: top;\n",
       "    }\n",
       "\n",
       "    .dataframe thead th {\n",
       "        text-align: right;\n",
       "    }\n",
       "</style>\n",
       "<table border=\"1\" class=\"dataframe\">\n",
       "  <thead>\n",
       "    <tr style=\"text-align: right;\">\n",
       "      <th></th>\n",
       "      <th>User Id</th>\n",
       "      <th>Vehicle Type</th>\n",
       "      <th>Platform Type</th>\n",
       "      <th>Personal or Business</th>\n",
       "      <th>Placement - Day of Month</th>\n",
       "      <th>Placement - Weekday (Mo = 1)</th>\n",
       "      <th>Placement - Time</th>\n",
       "      <th>Confirmation - Day of Month</th>\n",
       "      <th>Confirmation - Weekday (Mo = 1)</th>\n",
       "      <th>Confirmation - Time</th>\n",
       "      <th>...</th>\n",
       "      <th>Precipitation in millimeters</th>\n",
       "      <th>Pickup Lat</th>\n",
       "      <th>Pickup Long</th>\n",
       "      <th>Destination Lat</th>\n",
       "      <th>Destination Long</th>\n",
       "      <th>Rider Id</th>\n",
       "      <th>No_Of_Orders</th>\n",
       "      <th>Age</th>\n",
       "      <th>Average_Rating</th>\n",
       "      <th>No_of_Ratings</th>\n",
       "    </tr>\n",
       "    <tr>\n",
       "      <th>Order No</th>\n",
       "      <th></th>\n",
       "      <th></th>\n",
       "      <th></th>\n",
       "      <th></th>\n",
       "      <th></th>\n",
       "      <th></th>\n",
       "      <th></th>\n",
       "      <th></th>\n",
       "      <th></th>\n",
       "      <th></th>\n",
       "      <th></th>\n",
       "      <th></th>\n",
       "      <th></th>\n",
       "      <th></th>\n",
       "      <th></th>\n",
       "      <th></th>\n",
       "      <th></th>\n",
       "      <th></th>\n",
       "      <th></th>\n",
       "      <th></th>\n",
       "      <th></th>\n",
       "    </tr>\n",
       "  </thead>\n",
       "  <tbody>\n",
       "    <tr>\n",
       "      <th>Order_No_19248</th>\n",
       "      <td>User_Id_3355</td>\n",
       "      <td>Bike</td>\n",
       "      <td>3</td>\n",
       "      <td>Business</td>\n",
       "      <td>27</td>\n",
       "      <td>3</td>\n",
       "      <td>4:44:10 PM</td>\n",
       "      <td>27</td>\n",
       "      <td>3</td>\n",
       "      <td>4:44:29 PM</td>\n",
       "      <td>...</td>\n",
       "      <td>NaN</td>\n",
       "      <td>-1.333275</td>\n",
       "      <td>36.870815</td>\n",
       "      <td>-1.305249</td>\n",
       "      <td>36.822390</td>\n",
       "      <td>Rider_Id_192</td>\n",
       "      <td>439</td>\n",
       "      <td>1511</td>\n",
       "      <td>13.3</td>\n",
       "      <td>171</td>\n",
       "    </tr>\n",
       "    <tr>\n",
       "      <th>Order_No_2699</th>\n",
       "      <td>User_Id_592</td>\n",
       "      <td>Bike</td>\n",
       "      <td>1</td>\n",
       "      <td>Personal</td>\n",
       "      <td>26</td>\n",
       "      <td>2</td>\n",
       "      <td>2:43:21 PM</td>\n",
       "      <td>26</td>\n",
       "      <td>2</td>\n",
       "      <td>2:47:16 PM</td>\n",
       "      <td>...</td>\n",
       "      <td>NaN</td>\n",
       "      <td>-1.312745</td>\n",
       "      <td>36.875715</td>\n",
       "      <td>-1.288435</td>\n",
       "      <td>36.760677</td>\n",
       "      <td>Rider_Id_192</td>\n",
       "      <td>439</td>\n",
       "      <td>1511</td>\n",
       "      <td>13.3</td>\n",
       "      <td>171</td>\n",
       "    </tr>\n",
       "    <tr>\n",
       "      <th>Order_No_21486</th>\n",
       "      <td>User_Id_478</td>\n",
       "      <td>Bike</td>\n",
       "      <td>3</td>\n",
       "      <td>Business</td>\n",
       "      <td>29</td>\n",
       "      <td>5</td>\n",
       "      <td>11:55:05 AM</td>\n",
       "      <td>29</td>\n",
       "      <td>5</td>\n",
       "      <td>11:58:12 AM</td>\n",
       "      <td>...</td>\n",
       "      <td>NaN</td>\n",
       "      <td>-1.255189</td>\n",
       "      <td>36.782203</td>\n",
       "      <td>-1.293393</td>\n",
       "      <td>36.790237</td>\n",
       "      <td>Rider_Id_192</td>\n",
       "      <td>439</td>\n",
       "      <td>1511</td>\n",
       "      <td>13.3</td>\n",
       "      <td>171</td>\n",
       "    </tr>\n",
       "    <tr>\n",
       "      <th>Order_No_19336</th>\n",
       "      <td>User_Id_2801</td>\n",
       "      <td>Bike</td>\n",
       "      <td>3</td>\n",
       "      <td>Business</td>\n",
       "      <td>2</td>\n",
       "      <td>1</td>\n",
       "      <td>9:23:21 AM</td>\n",
       "      <td>2</td>\n",
       "      <td>1</td>\n",
       "      <td>9:23:44 AM</td>\n",
       "      <td>...</td>\n",
       "      <td>NaN</td>\n",
       "      <td>-1.310451</td>\n",
       "      <td>36.868724</td>\n",
       "      <td>-1.259542</td>\n",
       "      <td>36.787118</td>\n",
       "      <td>Rider_Id_192</td>\n",
       "      <td>439</td>\n",
       "      <td>1511</td>\n",
       "      <td>13.3</td>\n",
       "      <td>171</td>\n",
       "    </tr>\n",
       "    <tr>\n",
       "      <th>Order_No_20374</th>\n",
       "      <td>User_Id_3465</td>\n",
       "      <td>Bike</td>\n",
       "      <td>3</td>\n",
       "      <td>Business</td>\n",
       "      <td>14</td>\n",
       "      <td>4</td>\n",
       "      <td>12:55:59 PM</td>\n",
       "      <td>14</td>\n",
       "      <td>4</td>\n",
       "      <td>1:22:44 PM</td>\n",
       "      <td>...</td>\n",
       "      <td>NaN</td>\n",
       "      <td>-1.333275</td>\n",
       "      <td>36.870815</td>\n",
       "      <td>-1.255189</td>\n",
       "      <td>36.782203</td>\n",
       "      <td>Rider_Id_192</td>\n",
       "      <td>439</td>\n",
       "      <td>1511</td>\n",
       "      <td>13.3</td>\n",
       "      <td>171</td>\n",
       "    </tr>\n",
       "  </tbody>\n",
       "</table>\n",
       "<p>5 rows × 28 columns</p>\n",
       "</div>"
      ],
      "text/plain": [
       "                     User Id Vehicle Type  Platform Type Personal or Business  \\\n",
       "Order No                                                                        \n",
       "Order_No_19248  User_Id_3355         Bike              3             Business   \n",
       "Order_No_2699    User_Id_592         Bike              1             Personal   \n",
       "Order_No_21486   User_Id_478         Bike              3             Business   \n",
       "Order_No_19336  User_Id_2801         Bike              3             Business   \n",
       "Order_No_20374  User_Id_3465         Bike              3             Business   \n",
       "\n",
       "                Placement - Day of Month  Placement - Weekday (Mo = 1)  \\\n",
       "Order No                                                                 \n",
       "Order_No_19248                        27                             3   \n",
       "Order_No_2699                         26                             2   \n",
       "Order_No_21486                        29                             5   \n",
       "Order_No_19336                         2                             1   \n",
       "Order_No_20374                        14                             4   \n",
       "\n",
       "               Placement - Time  Confirmation - Day of Month  \\\n",
       "Order No                                                       \n",
       "Order_No_19248       4:44:10 PM                           27   \n",
       "Order_No_2699        2:43:21 PM                           26   \n",
       "Order_No_21486      11:55:05 AM                           29   \n",
       "Order_No_19336       9:23:21 AM                            2   \n",
       "Order_No_20374      12:55:59 PM                           14   \n",
       "\n",
       "                Confirmation - Weekday (Mo = 1) Confirmation - Time  ...  \\\n",
       "Order No                                                             ...   \n",
       "Order_No_19248                                3          4:44:29 PM  ...   \n",
       "Order_No_2699                                 2          2:47:16 PM  ...   \n",
       "Order_No_21486                                5         11:58:12 AM  ...   \n",
       "Order_No_19336                                1          9:23:44 AM  ...   \n",
       "Order_No_20374                                4          1:22:44 PM  ...   \n",
       "\n",
       "                Precipitation in millimeters  Pickup Lat Pickup Long  \\\n",
       "Order No                                                               \n",
       "Order_No_19248                           NaN   -1.333275   36.870815   \n",
       "Order_No_2699                            NaN   -1.312745   36.875715   \n",
       "Order_No_21486                           NaN   -1.255189   36.782203   \n",
       "Order_No_19336                           NaN   -1.310451   36.868724   \n",
       "Order_No_20374                           NaN   -1.333275   36.870815   \n",
       "\n",
       "                Destination Lat  Destination Long      Rider Id  No_Of_Orders  \\\n",
       "Order No                                                                        \n",
       "Order_No_19248        -1.305249         36.822390  Rider_Id_192           439   \n",
       "Order_No_2699         -1.288435         36.760677  Rider_Id_192           439   \n",
       "Order_No_21486        -1.293393         36.790237  Rider_Id_192           439   \n",
       "Order_No_19336        -1.259542         36.787118  Rider_Id_192           439   \n",
       "Order_No_20374        -1.255189         36.782203  Rider_Id_192           439   \n",
       "\n",
       "                 Age  Average_Rating  No_of_Ratings  \n",
       "Order No                                             \n",
       "Order_No_19248  1511            13.3            171  \n",
       "Order_No_2699   1511            13.3            171  \n",
       "Order_No_21486  1511            13.3            171  \n",
       "Order_No_19336  1511            13.3            171  \n",
       "Order_No_20374  1511            13.3            171  \n",
       "\n",
       "[5 rows x 28 columns]"
      ]
     },
     "execution_count": 197,
     "metadata": {},
     "output_type": "execute_result"
    }
   ],
   "source": [
    "test_df.head()"
   ]
  },
  {
   "cell_type": "code",
   "execution_count": 198,
   "metadata": {},
   "outputs": [
    {
     "data": {
      "text/html": [
       "<div>\n",
       "<style scoped>\n",
       "    .dataframe tbody tr th:only-of-type {\n",
       "        vertical-align: middle;\n",
       "    }\n",
       "\n",
       "    .dataframe tbody tr th {\n",
       "        vertical-align: top;\n",
       "    }\n",
       "\n",
       "    .dataframe thead th {\n",
       "        text-align: right;\n",
       "    }\n",
       "</style>\n",
       "<table border=\"1\" class=\"dataframe\">\n",
       "  <thead>\n",
       "    <tr style=\"text-align: right;\">\n",
       "      <th></th>\n",
       "      <th>User Id</th>\n",
       "      <th>Vehicle Type</th>\n",
       "      <th>Platform Type</th>\n",
       "      <th>Personal or Business</th>\n",
       "      <th>Placement - Day of Month</th>\n",
       "      <th>Placement - Weekday (Mo = 1)</th>\n",
       "      <th>Placement - Time</th>\n",
       "      <th>Confirmation - Day of Month</th>\n",
       "      <th>Confirmation - Weekday (Mo = 1)</th>\n",
       "      <th>Confirmation - Time</th>\n",
       "      <th>...</th>\n",
       "      <th>Pickup Lat</th>\n",
       "      <th>Pickup Long</th>\n",
       "      <th>Destination Lat</th>\n",
       "      <th>Destination Long</th>\n",
       "      <th>Rider Id</th>\n",
       "      <th>Time from Pickup to Arrival</th>\n",
       "      <th>No_Of_Orders</th>\n",
       "      <th>Age</th>\n",
       "      <th>Average_Rating</th>\n",
       "      <th>No_of_Ratings</th>\n",
       "    </tr>\n",
       "    <tr>\n",
       "      <th>Order No</th>\n",
       "      <th></th>\n",
       "      <th></th>\n",
       "      <th></th>\n",
       "      <th></th>\n",
       "      <th></th>\n",
       "      <th></th>\n",
       "      <th></th>\n",
       "      <th></th>\n",
       "      <th></th>\n",
       "      <th></th>\n",
       "      <th></th>\n",
       "      <th></th>\n",
       "      <th></th>\n",
       "      <th></th>\n",
       "      <th></th>\n",
       "      <th></th>\n",
       "      <th></th>\n",
       "      <th></th>\n",
       "      <th></th>\n",
       "      <th></th>\n",
       "      <th></th>\n",
       "    </tr>\n",
       "  </thead>\n",
       "  <tbody>\n",
       "    <tr>\n",
       "      <th>Order_No_4211</th>\n",
       "      <td>User_Id_633</td>\n",
       "      <td>Bike</td>\n",
       "      <td>3</td>\n",
       "      <td>Business</td>\n",
       "      <td>9</td>\n",
       "      <td>5</td>\n",
       "      <td>9:35:46 AM</td>\n",
       "      <td>9</td>\n",
       "      <td>5</td>\n",
       "      <td>9:40:10 AM</td>\n",
       "      <td>...</td>\n",
       "      <td>-1.317755</td>\n",
       "      <td>36.830370</td>\n",
       "      <td>-1.300406</td>\n",
       "      <td>36.829741</td>\n",
       "      <td>Rider_Id_432</td>\n",
       "      <td>745</td>\n",
       "      <td>1637</td>\n",
       "      <td>1309</td>\n",
       "      <td>13.8</td>\n",
       "      <td>549</td>\n",
       "    </tr>\n",
       "    <tr>\n",
       "      <th>Order_No_27440</th>\n",
       "      <td>User_Id_2642</td>\n",
       "      <td>Bike</td>\n",
       "      <td>3</td>\n",
       "      <td>Personal</td>\n",
       "      <td>18</td>\n",
       "      <td>5</td>\n",
       "      <td>3:41:17 PM</td>\n",
       "      <td>18</td>\n",
       "      <td>5</td>\n",
       "      <td>3:41:30 PM</td>\n",
       "      <td>...</td>\n",
       "      <td>-1.326774</td>\n",
       "      <td>36.787807</td>\n",
       "      <td>-1.356237</td>\n",
       "      <td>36.904295</td>\n",
       "      <td>Rider_Id_432</td>\n",
       "      <td>2886</td>\n",
       "      <td>1637</td>\n",
       "      <td>1309</td>\n",
       "      <td>13.8</td>\n",
       "      <td>549</td>\n",
       "    </tr>\n",
       "    <tr>\n",
       "      <th>Order_No_14170</th>\n",
       "      <td>User_Id_3339</td>\n",
       "      <td>Bike</td>\n",
       "      <td>3</td>\n",
       "      <td>Business</td>\n",
       "      <td>31</td>\n",
       "      <td>5</td>\n",
       "      <td>12:51:41 PM</td>\n",
       "      <td>31</td>\n",
       "      <td>5</td>\n",
       "      <td>1:12:49 PM</td>\n",
       "      <td>...</td>\n",
       "      <td>-1.255189</td>\n",
       "      <td>36.782203</td>\n",
       "      <td>-1.273412</td>\n",
       "      <td>36.818206</td>\n",
       "      <td>Rider_Id_432</td>\n",
       "      <td>2615</td>\n",
       "      <td>1637</td>\n",
       "      <td>1309</td>\n",
       "      <td>13.8</td>\n",
       "      <td>549</td>\n",
       "    </tr>\n",
       "    <tr>\n",
       "      <th>Order_No_21727</th>\n",
       "      <td>User_Id_3523</td>\n",
       "      <td>Bike</td>\n",
       "      <td>3</td>\n",
       "      <td>Personal</td>\n",
       "      <td>2</td>\n",
       "      <td>2</td>\n",
       "      <td>7:12:10 AM</td>\n",
       "      <td>2</td>\n",
       "      <td>2</td>\n",
       "      <td>7:12:29 AM</td>\n",
       "      <td>...</td>\n",
       "      <td>-1.290315</td>\n",
       "      <td>36.757377</td>\n",
       "      <td>-1.223520</td>\n",
       "      <td>36.802061</td>\n",
       "      <td>Rider_Id_432</td>\n",
       "      <td>2986</td>\n",
       "      <td>1637</td>\n",
       "      <td>1309</td>\n",
       "      <td>13.8</td>\n",
       "      <td>549</td>\n",
       "    </tr>\n",
       "    <tr>\n",
       "      <th>Order_No_8301</th>\n",
       "      <td>User_Id_87</td>\n",
       "      <td>Bike</td>\n",
       "      <td>2</td>\n",
       "      <td>Personal</td>\n",
       "      <td>22</td>\n",
       "      <td>2</td>\n",
       "      <td>10:40:58 AM</td>\n",
       "      <td>22</td>\n",
       "      <td>2</td>\n",
       "      <td>10:42:24 AM</td>\n",
       "      <td>...</td>\n",
       "      <td>-1.273524</td>\n",
       "      <td>36.799220</td>\n",
       "      <td>-1.300431</td>\n",
       "      <td>36.752427</td>\n",
       "      <td>Rider_Id_432</td>\n",
       "      <td>1602</td>\n",
       "      <td>1637</td>\n",
       "      <td>1309</td>\n",
       "      <td>13.8</td>\n",
       "      <td>549</td>\n",
       "    </tr>\n",
       "  </tbody>\n",
       "</table>\n",
       "<p>5 rows × 32 columns</p>\n",
       "</div>"
      ],
      "text/plain": [
       "                     User Id Vehicle Type  Platform Type Personal or Business  \\\n",
       "Order No                                                                        \n",
       "Order_No_4211    User_Id_633         Bike              3             Business   \n",
       "Order_No_27440  User_Id_2642         Bike              3             Personal   \n",
       "Order_No_14170  User_Id_3339         Bike              3             Business   \n",
       "Order_No_21727  User_Id_3523         Bike              3             Personal   \n",
       "Order_No_8301     User_Id_87         Bike              2             Personal   \n",
       "\n",
       "                Placement - Day of Month  Placement - Weekday (Mo = 1)  \\\n",
       "Order No                                                                 \n",
       "Order_No_4211                          9                             5   \n",
       "Order_No_27440                        18                             5   \n",
       "Order_No_14170                        31                             5   \n",
       "Order_No_21727                         2                             2   \n",
       "Order_No_8301                         22                             2   \n",
       "\n",
       "               Placement - Time  Confirmation - Day of Month  \\\n",
       "Order No                                                       \n",
       "Order_No_4211        9:35:46 AM                            9   \n",
       "Order_No_27440       3:41:17 PM                           18   \n",
       "Order_No_14170      12:51:41 PM                           31   \n",
       "Order_No_21727       7:12:10 AM                            2   \n",
       "Order_No_8301       10:40:58 AM                           22   \n",
       "\n",
       "                Confirmation - Weekday (Mo = 1) Confirmation - Time  ...  \\\n",
       "Order No                                                             ...   \n",
       "Order_No_4211                                 5          9:40:10 AM  ...   \n",
       "Order_No_27440                                5          3:41:30 PM  ...   \n",
       "Order_No_14170                                5          1:12:49 PM  ...   \n",
       "Order_No_21727                                2          7:12:29 AM  ...   \n",
       "Order_No_8301                                 2         10:42:24 AM  ...   \n",
       "\n",
       "                Pickup Lat  Pickup Long Destination Lat  Destination Long  \\\n",
       "Order No                                                                    \n",
       "Order_No_4211    -1.317755    36.830370       -1.300406         36.829741   \n",
       "Order_No_27440   -1.326774    36.787807       -1.356237         36.904295   \n",
       "Order_No_14170   -1.255189    36.782203       -1.273412         36.818206   \n",
       "Order_No_21727   -1.290315    36.757377       -1.223520         36.802061   \n",
       "Order_No_8301    -1.273524    36.799220       -1.300431         36.752427   \n",
       "\n",
       "                    Rider Id Time from Pickup to Arrival  No_Of_Orders   Age  \\\n",
       "Order No                                                                       \n",
       "Order_No_4211   Rider_Id_432                         745          1637  1309   \n",
       "Order_No_27440  Rider_Id_432                        2886          1637  1309   \n",
       "Order_No_14170  Rider_Id_432                        2615          1637  1309   \n",
       "Order_No_21727  Rider_Id_432                        2986          1637  1309   \n",
       "Order_No_8301   Rider_Id_432                        1602          1637  1309   \n",
       "\n",
       "               Average_Rating  No_of_Ratings  \n",
       "Order No                                      \n",
       "Order_No_4211            13.8            549  \n",
       "Order_No_27440           13.8            549  \n",
       "Order_No_14170           13.8            549  \n",
       "Order_No_21727           13.8            549  \n",
       "Order_No_8301            13.8            549  \n",
       "\n",
       "[5 rows x 32 columns]"
      ]
     },
     "execution_count": 198,
     "metadata": {},
     "output_type": "execute_result"
    }
   ],
   "source": [
    "train_df.head()"
   ]
  },
  {
   "cell_type": "markdown",
   "metadata": {},
   "source": [
    "### Drop features with too many missing values"
   ]
  },
  {
   "cell_type": "markdown",
   "metadata": {},
   "source": [
    "One of the first tasks in any dataset is to find if there are missing values. As this dataset has more features than we’d like, we’re going to drop features that have too many missing values. Let’s see how many missing values each feature has."
   ]
  },
  {
   "cell_type": "markdown",
   "metadata": {},
   "source": [
    "`train_df`"
   ]
  },
  {
   "cell_type": "code",
   "execution_count": 199,
   "metadata": {},
   "outputs": [
    {
     "data": {
      "text/plain": [
       "Temperature                      4366\n",
       "Precipitation in millimeters    20649\n",
       "dtype: int64"
      ]
     },
     "execution_count": 199,
     "metadata": {},
     "output_type": "execute_result"
    }
   ],
   "source": [
    "nulls = train_df.isnull().sum()\n",
    "# this will show only features that have nonzero missing values\n",
    "nulls[nulls != 0]"
   ]
  },
  {
   "cell_type": "markdown",
   "metadata": {},
   "source": [
    "`test_df`"
   ]
  },
  {
   "cell_type": "code",
   "execution_count": 200,
   "metadata": {},
   "outputs": [
    {
     "data": {
      "text/plain": [
       "Temperature                     1437\n",
       "Precipitation in millimeters    6869\n",
       "dtype: int64"
      ]
     },
     "execution_count": 200,
     "metadata": {},
     "output_type": "execute_result"
    }
   ],
   "source": [
    "nulls = test_df.isnull().sum()\n",
    "# this will show only features that have nonzero missing values\n",
    "nulls[nulls != 0]"
   ]
  },
  {
   "cell_type": "markdown",
   "metadata": {},
   "source": [
    "We can also visualize missing values as follows:"
   ]
  },
  {
   "cell_type": "code",
   "execution_count": 201,
   "metadata": {},
   "outputs": [
    {
     "data": {
      "text/plain": [
       "Text(0.5, 1, 'Train missing values Heatmap')"
      ]
     },
     "execution_count": 201,
     "metadata": {},
     "output_type": "execute_result"
    },
    {
     "data": {
      "image/png": "[encoded data removed]",
      "text/plain": [
       "<Figure size 1440x576 with 4 Axes>"
      ]
     },
     "metadata": {},
     "output_type": "display_data"
    }
   ],
   "source": [
    "fig, ax = plt.subplots(1, 2, figsize=(20, 8))\n",
    "sns.heatmap(train_df.isna(), ax=ax[1])\n",
    "sns.heatmap(test_df.isna(), ax=ax[0])\n",
    "ax[0].set_title('Test missing values Heatmap')\n",
    "ax[1].set_title('Train missing values Heatmap')\n"
   ]
  },
  {
   "cell_type": "markdown",
   "metadata": {},
   "source": [
    "There seem to be two features with missing data points,viz ‘Precipitation in millimeters’ and Temperatue ! Let’s see what percentage they take up in the whole dataset."
   ]
  },
  {
   "cell_type": "markdown",
   "metadata": {},
   "source": [
    "`train_df`"
   ]
  },
  {
   "cell_type": "code",
   "execution_count": 202,
   "metadata": {},
   "outputs": [
    {
     "name": "stdout",
     "output_type": "stream",
     "text": [
      "the percentages of null values per feature:\n",
      "\n",
      "Temperature                      6.78\n",
      "Precipitation in millimeters    32.40\n",
      "dtype: float64\n"
     ]
    }
   ],
   "source": [
    "nulls_percentage = nulls[nulls != 0]/train_df.shape[0]*100\n",
    "print('the percentages of null values per feature:\\n')\n",
    "print(round(nulls_percentage, 2))\n"
   ]
  },
  {
   "cell_type": "markdown",
   "metadata": {},
   "source": [
    "`test_df`"
   ]
  },
  {
   "cell_type": "code",
   "execution_count": 203,
   "metadata": {},
   "outputs": [
    {
     "name": "stdout",
     "output_type": "stream",
     "text": [
      "the percentages of null values per feature:\n",
      "\n",
      "Temperature                     20.33\n",
      "Precipitation in millimeters    97.18\n",
      "dtype: float64\n"
     ]
    }
   ],
   "source": [
    "nulls_percentage = nulls[nulls != 0]/test_df.shape[0]*100\n",
    "print('the percentages of null values per feature:\\n')\n",
    "print(round(nulls_percentage, 2))\n"
   ]
  },
  {
   "cell_type": "markdown",
   "metadata": {},
   "source": [
    "It seems like the feature that have any missing values have a significant number of missing values. For ‘Precipitation in millimeters’, it’s missing almost more than half of the data! Hence, it is safe to eliminate entire feature if they contain any missing values. We can do this with the dropna function."
   ]
  },
  {
   "cell_type": "code",
   "execution_count": 204,
   "metadata": {},
   "outputs": [],
   "source": [
    "def dropna(input_df, threshold=70):\n",
    "    drop_names = []\n",
    "    for column in input_df.columns:\n",
    "        col_null = (input_df[column].isnull().sum()/len(input_df[column]))*100\n",
    "        if col_null > threshold:\n",
    "            drop_names.append(column)\n",
    "    result_df = input_df.copy()\n",
    "#    test_df=test_df.drop(['Precipitation in millimeters'],axis=1)\n",
    "    return result_df.drop(drop_names, axis=1)\n"
   ]
  },
  {
   "cell_type": "markdown",
   "metadata": {},
   "source": [
    "We will apply the function on both `test_df` and `train_df`."
   ]
  },
  {
   "cell_type": "code",
   "execution_count": 205,
   "metadata": {},
   "outputs": [],
   "source": [
    "train_df = dropna(train_df)\n"
   ]
  },
  {
   "cell_type": "code",
   "execution_count": 206,
   "metadata": {},
   "outputs": [],
   "source": [
    "test_df = dropna(test_df)\n"
   ]
  },
  {
   "cell_type": "code",
   "execution_count": 207,
   "metadata": {},
   "outputs": [
    {
     "data": {
      "text/plain": [
       "Index(['User Id', 'Vehicle Type', 'Platform Type', 'Personal or Business',\n",
       "       'Placement - Day of Month', 'Placement - Weekday (Mo = 1)',\n",
       "       'Placement - Time', 'Confirmation - Day of Month',\n",
       "       'Confirmation - Weekday (Mo = 1)', 'Confirmation - Time',\n",
       "       'Arrival at Pickup - Day of Month',\n",
       "       'Arrival at Pickup - Weekday (Mo = 1)', 'Arrival at Pickup - Time',\n",
       "       'Pickup - Day of Month', 'Pickup - Weekday (Mo = 1)', 'Pickup - Time',\n",
       "       'Distance (KM)', 'Temperature', 'Pickup Lat', 'Pickup Long',\n",
       "       'Destination Lat', 'Destination Long', 'Rider Id', 'No_Of_Orders',\n",
       "       'Age', 'Average_Rating', 'No_of_Ratings'],\n",
       "      dtype='object')"
      ]
     },
     "execution_count": 207,
     "metadata": {},
     "output_type": "execute_result"
    }
   ],
   "source": [
    "test_df.columns\n"
   ]
  },
  {
   "cell_type": "code",
   "execution_count": 208,
   "metadata": {},
   "outputs": [
    {
     "data": {
      "text/plain": [
       "Index(['User Id', 'Vehicle Type', 'Platform Type', 'Personal or Business',\n",
       "       'Placement - Day of Month', 'Placement - Weekday (Mo = 1)',\n",
       "       'Placement - Time', 'Confirmation - Day of Month',\n",
       "       'Confirmation - Weekday (Mo = 1)', 'Confirmation - Time',\n",
       "       'Arrival at Pickup - Day of Month',\n",
       "       'Arrival at Pickup - Weekday (Mo = 1)', 'Arrival at Pickup - Time',\n",
       "       'Pickup - Day of Month', 'Pickup - Weekday (Mo = 1)', 'Pickup - Time',\n",
       "       'Arrival at Destination - Day of Month',\n",
       "       'Arrival at Destination - Weekday (Mo = 1)',\n",
       "       'Arrival at Destination - Time', 'Distance (KM)', 'Temperature',\n",
       "       'Pickup Lat', 'Pickup Long', 'Destination Lat', 'Destination Long',\n",
       "       'Rider Id', 'Time from Pickup to Arrival', 'No_Of_Orders', 'Age',\n",
       "       'Average_Rating', 'No_of_Ratings'],\n",
       "      dtype='object')"
      ]
     },
     "execution_count": 208,
     "metadata": {},
     "output_type": "execute_result"
    }
   ],
   "source": [
    "train_df.columns\n"
   ]
  },
  {
   "cell_type": "markdown",
   "metadata": {},
   "source": [
    "We can see that we lost the‘Precipitation in millimeters’ on both `test_df` and `train_df`,this is because the missing values where more than the accepted default threshold of $70\\%$"
   ]
  },
  {
   "cell_type": "markdown",
   "metadata": {},
   "source": [
    "Now for the 'Temperature' feature we can see that we have more than $50\\%$ of the data available.We can then impute the values for 'Temperature' in both the `train_df` and `test_df`,but first we need to check the distribution of the 'Temperature' so that we can decide whether to impute with mean or median. "
   ]
  },
  {
   "cell_type": "code",
   "execution_count": 209,
   "metadata": {
    "scrolled": true
   },
   "outputs": [
    {
     "data": {
      "text/plain": [
       "<matplotlib.lines.Line2D at 0x2c2ee45a988>"
      ]
     },
     "execution_count": 209,
     "metadata": {},
     "output_type": "execute_result"
    },
    {
     "data": {
      "image/png": "[encoded data removed]",
      "text/plain": [
       "<Figure size 1440x576 with 2 Axes>"
      ]
     },
     "metadata": {},
     "output_type": "display_data"
    }
   ],
   "source": [
    "fig, ax = plt.subplots(1, 2, figsize=(20, 8))\n",
    "sns.distplot(train_df['Temperature'], bins=30, color='b', ax=ax[0], kde=False)\n",
    "sns.distplot(test_df['Temperature'], bins=30, color='g', ax=ax[1], kde=False)\n",
    "ax[0].set_title('Temperature Distribution for the train dataset')\n",
    "ax[1].set_title('Temperature Distribution for the test dataset')\n",
    "ax[0].axvline(x=train_df['Temperature'].mean(), color='red')\n",
    "ax[0].axvline(x=train_df['Temperature'].median(), color='orange')\n",
    "ax[1].axvline(x=test_df['Temperature'].mean(), color='red')\n",
    "ax[1].axvline(x=test_df['Temperature'].median(), color='orange')"
   ]
  },
  {
   "cell_type": "markdown",
   "metadata": {},
   "source": [
    "The Temperature feature in both `train_df` and `test_df` is normally distrubuted hence we can use either the mean or the median to impute the feature. We will choose to use the mean in this instance."
   ]
  },
  {
   "cell_type": "code",
   "execution_count": 210,
   "metadata": {},
   "outputs": [],
   "source": [
    "train_df['Temperature'] = train_df.Temperature.fillna(train_df.Temperature.mean())\n"
   ]
  },
  {
   "cell_type": "code",
   "execution_count": 211,
   "metadata": {},
   "outputs": [],
   "source": [
    "test_df['Temperature'] = test_df.Temperature.fillna(test_df.Temperature.mean())\n"
   ]
  },
  {
   "cell_type": "code",
   "execution_count": 212,
   "metadata": {},
   "outputs": [
    {
     "name": "stdout",
     "output_type": "stream",
     "text": [
      "<class 'pandas.core.frame.DataFrame'>\n",
      "Index: 21201 entries, Order_No_4211 to Order_No_15578\n",
      "Data columns (total 31 columns):\n",
      " #   Column                                     Non-Null Count  Dtype  \n",
      "---  ------                                     --------------  -----  \n",
      " 0   User Id                                    21201 non-null  object \n",
      " 1   Vehicle Type                               21201 non-null  object \n",
      " 2   Platform Type                              21201 non-null  int64  \n",
      " 3   Personal or Business                       21201 non-null  object \n",
      " 4   Placement - Day of Month                   21201 non-null  int64  \n",
      " 5   Placement - Weekday (Mo = 1)               21201 non-null  int64  \n",
      " 6   Placement - Time                           21201 non-null  object \n",
      " 7   Confirmation - Day of Month                21201 non-null  int64  \n",
      " 8   Confirmation - Weekday (Mo = 1)            21201 non-null  int64  \n",
      " 9   Confirmation - Time                        21201 non-null  object \n",
      " 10  Arrival at Pickup - Day of Month           21201 non-null  int64  \n",
      " 11  Arrival at Pickup - Weekday (Mo = 1)       21201 non-null  int64  \n",
      " 12  Arrival at Pickup - Time                   21201 non-null  object \n",
      " 13  Pickup - Day of Month                      21201 non-null  int64  \n",
      " 14  Pickup - Weekday (Mo = 1)                  21201 non-null  int64  \n",
      " 15  Pickup - Time                              21201 non-null  object \n",
      " 16  Arrival at Destination - Day of Month      21201 non-null  int64  \n",
      " 17  Arrival at Destination - Weekday (Mo = 1)  21201 non-null  int64  \n",
      " 18  Arrival at Destination - Time              21201 non-null  object \n",
      " 19  Distance (KM)                              21201 non-null  int64  \n",
      " 20  Temperature                                21201 non-null  float64\n",
      " 21  Pickup Lat                                 21201 non-null  float64\n",
      " 22  Pickup Long                                21201 non-null  float64\n",
      " 23  Destination Lat                            21201 non-null  float64\n",
      " 24  Destination Long                           21201 non-null  float64\n",
      " 25  Rider Id                                   21201 non-null  object \n",
      " 26  Time from Pickup to Arrival                21201 non-null  int64  \n",
      " 27  No_Of_Orders                               21201 non-null  int64  \n",
      " 28  Age                                        21201 non-null  int64  \n",
      " 29  Average_Rating                             21201 non-null  float64\n",
      " 30  No_of_Ratings                              21201 non-null  int64  \n",
      "dtypes: float64(6), int64(16), object(9)\n",
      "memory usage: 5.2+ MB\n"
     ]
    }
   ],
   "source": [
    "train_df.info()\n"
   ]
  },
  {
   "cell_type": "code",
   "execution_count": 213,
   "metadata": {},
   "outputs": [
    {
     "name": "stdout",
     "output_type": "stream",
     "text": [
      "<class 'pandas.core.frame.DataFrame'>\n",
      "Index: 7068 entries, Order_No_19248 to Order_No_21633\n",
      "Data columns (total 27 columns):\n",
      " #   Column                                Non-Null Count  Dtype  \n",
      "---  ------                                --------------  -----  \n",
      " 0   User Id                               7068 non-null   object \n",
      " 1   Vehicle Type                          7068 non-null   object \n",
      " 2   Platform Type                         7068 non-null   int64  \n",
      " 3   Personal or Business                  7068 non-null   object \n",
      " 4   Placement - Day of Month              7068 non-null   int64  \n",
      " 5   Placement - Weekday (Mo = 1)          7068 non-null   int64  \n",
      " 6   Placement - Time                      7068 non-null   object \n",
      " 7   Confirmation - Day of Month           7068 non-null   int64  \n",
      " 8   Confirmation - Weekday (Mo = 1)       7068 non-null   int64  \n",
      " 9   Confirmation - Time                   7068 non-null   object \n",
      " 10  Arrival at Pickup - Day of Month      7068 non-null   int64  \n",
      " 11  Arrival at Pickup - Weekday (Mo = 1)  7068 non-null   int64  \n",
      " 12  Arrival at Pickup - Time              7068 non-null   object \n",
      " 13  Pickup - Day of Month                 7068 non-null   int64  \n",
      " 14  Pickup - Weekday (Mo = 1)             7068 non-null   int64  \n",
      " 15  Pickup - Time                         7068 non-null   object \n",
      " 16  Distance (KM)                         7068 non-null   int64  \n",
      " 17  Temperature                           7068 non-null   float64\n",
      " 18  Pickup Lat                            7068 non-null   float64\n",
      " 19  Pickup Long                           7068 non-null   float64\n",
      " 20  Destination Lat                       7068 non-null   float64\n",
      " 21  Destination Long                      7068 non-null   float64\n",
      " 22  Rider Id                              7068 non-null   object \n",
      " 23  No_Of_Orders                          7068 non-null   int64  \n",
      " 24  Age                                   7068 non-null   int64  \n",
      " 25  Average_Rating                        7068 non-null   float64\n",
      " 26  No_of_Ratings                         7068 non-null   int64  \n",
      "dtypes: float64(6), int64(13), object(8)\n",
      "memory usage: 1.5+ MB\n"
     ]
    }
   ],
   "source": [
    "test_df.info()\n"
   ]
  },
  {
   "cell_type": "markdown",
   "metadata": {},
   "source": [
    "The temperature feature has been imputed with the mean in both the `train_df` and the `test_df`"
   ]
  },
  {
   "cell_type": "markdown",
   "metadata": {},
   "source": [
    "### Rider's Features "
   ]
  },
  {
   "cell_type": "code",
   "execution_count": 214,
   "metadata": {},
   "outputs": [
    {
     "data": {
      "text/plain": [
       "Index(['User Id', 'Vehicle Type', 'Platform Type', 'Personal or Business',\n",
       "       'Placement - Day of Month', 'Placement - Weekday (Mo = 1)',\n",
       "       'Placement - Time', 'Confirmation - Day of Month',\n",
       "       'Confirmation - Weekday (Mo = 1)', 'Confirmation - Time',\n",
       "       'Arrival at Pickup - Day of Month',\n",
       "       'Arrival at Pickup - Weekday (Mo = 1)', 'Arrival at Pickup - Time',\n",
       "       'Pickup - Day of Month', 'Pickup - Weekday (Mo = 1)', 'Pickup - Time',\n",
       "       'Arrival at Destination - Day of Month',\n",
       "       'Arrival at Destination - Weekday (Mo = 1)',\n",
       "       'Arrival at Destination - Time', 'Distance (KM)', 'Temperature',\n",
       "       'Pickup Lat', 'Pickup Long', 'Destination Lat', 'Destination Long',\n",
       "       'Rider Id', 'Time from Pickup to Arrival', 'No_Of_Orders', 'Age',\n",
       "       'Average_Rating', 'No_of_Ratings'],\n",
       "      dtype='object')"
      ]
     },
     "execution_count": 214,
     "metadata": {},
     "output_type": "execute_result"
    }
   ],
   "source": [
    "train_df.columns\n"
   ]
  },
  {
   "cell_type": "markdown",
   "metadata": {},
   "source": [
    "We need to look at the Riders data and see if they is any correlation between its features `Age`,`No of Orders`,`Average Rating`,`No of Ratings`"
   ]
  },
  {
   "cell_type": "code",
   "execution_count": 215,
   "metadata": {},
   "outputs": [
    {
     "data": {
      "text/plain": [
       "<matplotlib.axes._subplots.AxesSubplot at 0x2c2ee81ea88>"
      ]
     },
     "execution_count": 215,
     "metadata": {},
     "output_type": "execute_result"
    },
    {
     "data": {
      "image/png": "[encoded data removed]",
      "text/plain": [
       "<Figure size 432x288 with 2 Axes>"
      ]
     },
     "metadata": {},
     "output_type": "display_data"
    }
   ],
   "source": [
    "sns.heatmap(train_df[['No_Of_Orders', 'Age', 'Average_Rating', 'No_of_Ratings']].corr(), cmap='RdBu',annot=True)\n"
   ]
  },
  {
   "cell_type": "markdown",
   "metadata": {},
   "source": [
    "Since we can see that they is some correlation between features from `rider_df`, We can try to reduce the dimensionality of the data.\n",
    "We do this by creating two more features that have meaning.This will also help us standardaze the data as we currently do not know what is the highest rating."
   ]
  },
  {
   "cell_type": "code",
   "execution_count": 216,
   "metadata": {},
   "outputs": [],
   "source": [
    "# Calculate delivery rate \n",
    "test_df['Delivery Rate'] = test_df['No_Of_Orders']/test_df['Age']\n",
    "train_df['Delivery Rate'] = train_df['No_Of_Orders']/train_df['Age']\n"
   ]
  },
  {
   "cell_type": "code",
   "execution_count": 217,
   "metadata": {},
   "outputs": [],
   "source": [
    "# Calculate scaled rating\n",
    "test_df['Scaled Rating'] = test_df['Average_Rating']*(test_df['No_of_Ratings']/test_df['No_of_Ratings'].sum())\n",
    "train_df['Scaled Rating'] = train_df['Average_Rating']*(train_df['No_of_Ratings']/train_df['No_of_Ratings'].sum())\n"
   ]
  },
  {
   "cell_type": "markdown",
   "metadata": {},
   "source": [
    "### Time features"
   ]
  },
  {
   "cell_type": "markdown",
   "metadata": {},
   "source": [
    "The time features in their object data type are pretty much useless , to combat this we will convert them from object data type to date time data type"
   ]
  },
  {
   "cell_type": "code",
   "execution_count": 218,
   "metadata": {},
   "outputs": [],
   "source": [
    "traindf_time_columns = ['Placement - Time',\n",
    "                        'Confirmation - Time', 'Arrival at Pickup - Time',\n",
    "                        'Pickup - Time', 'Arrival at Destination - Time']\n",
    "testdf_time_columns = ['Placement - Time', 'Confirmation - Time',\n",
    "                       'Arrival at Pickup - Time', 'Pickup - Time']\n",
    "for cols in traindf_time_columns:\n",
    "    train_df[cols] = pd.to_datetime(train_df[cols])\n",
    "\n",
    "for cols in testdf_time_columns:\n",
    "    test_df[cols] = pd.to_datetime(test_df[cols])"
   ]
  },
  {
   "cell_type": "markdown",
   "metadata": {},
   "source": [
    "Let’s think about what is involved in good delivery. We can break it down into three principal components:\n",
    "Pick-up the food from the supplier.\n",
    "Drive from the supplier to the customer.\n",
    "Drop-off the food to the customer.\n",
    "We can predict the time taken for each component and then add these together to get the final delivery time."
   ]
  },
  {
   "cell_type": "markdown",
   "metadata": {},
   "source": [
    "**Supplier Pick-Up**\n",
    "\n",
    "When a driver arrives at a destination, he is required to find a bikepark, pick-up the goods and make it back to the car. Let’s explore the potential complications that could occur during this process.\n",
    "\n",
    "* No park: For pick-ups located in the city centre this can be significantly more difficult compared to those located in more residential areas. To capture this information we can use the latitude/longitude information.\n",
    "\n",
    "* Difficult access: pick-up points will tend to be fairly easy to access since they rely on that to serve customers, but others can be in industrial areas as well as not having an obvious entrance making it more difficult. Similar to the above we can use location information while adding the category of the supplier.\n",
    "\n",
    "* Goods not ready: As the order sizes can be quite large, it’s not uncommon for goods to be unprepared. To deal with this the supplier can be contacted on the day of the pick-up to check goods will be ready on time. The response to these messages would be a useful flag to understand our timing. Whether or not the particular supplier has a history would also be useful input. Finally, the order size is a good indicator; not much can go wrong when preparing a small package of goods but when it’s for 100 pax there’s a lot more potential for something to go wrong.\n",
    "\n",
    "\n",
    "* Something missing from the order: Driver should check order on arrival and in some cases they may find something missing. This means they must wait for the extra goods to be prepared. Again, this probably depends on the supplier and how busy they are at the time of pick-up."
   ]
  },
  {
   "cell_type": "markdown",
   "metadata": {},
   "source": [
    "For this part of the problem we’ll use the following data features To calculate the time in seconds between `Placement time-Confirmation time` ,`Confirmation time-Arrival time`,`Arrival Pick up time - Pickup time`:"
   ]
  },
  {
   "cell_type": "code",
   "execution_count": 219,
   "metadata": {},
   "outputs": [],
   "source": [
    "train_df['placement_to_confirmation_time'] =  (train_df['Confirmation - Time']-train_df['Placement - Time']).astype('timedelta64[s]')\n",
    "train_df['confirmation_to_arrivalpickup_time'] = (train_df['Arrival at Pickup - Time']-train_df['Confirmation - Time']).astype('timedelta64[s]')\n",
    "train_df['arrivalpickup_to_pickup_time'] = (train_df['Pickup - Time']-train_df['Arrival at Pickup - Time']).astype('timedelta64[s]')\n",
    "\n",
    "test_df['placement_to_confirmation_time'] =  (test_df['Confirmation - Time']-test_df['Placement - Time']).astype('timedelta64[s]')\n",
    "test_df['confirmation_to_arrivalpickup_time'] = (test_df['Arrival at Pickup - Time']-test_df['Confirmation - Time']).astype('timedelta64[s]')\n",
    "test_df['arrivalpickup_to_pickup_time'] = (test_df['Pickup - Time']-test_df['Arrival at Pickup - Time']).astype('timedelta64[s]')"
   ]
  },
  {
   "cell_type": "markdown",
   "metadata": {},
   "source": [
    "Estimating the travel time between destinations is a tricky task for many reasons; there are thousands of routes to choose from, traffic conditions that are constantly changing, road closures and accidents; all of which provide so much unpredictability into any model we could create.\n",
    "Luckily for us, this infomation has been given to us as `Time from Pickup to Arrival ` in the `train_df`."
   ]
  },
  {
   "cell_type": "markdown",
   "metadata": {},
   "source": [
    "`Delivery Time = Placement to confirmation Time + Confirmation to arrival pickup Time  + Arrival pickup to pickup Time+ Point to Point Time`"
   ]
  },
  {
   "cell_type": "markdown",
   "metadata": {},
   "source": [
    "However,In this project we only intrested in the `Time from Pickup to Arrival` as a Target Variable "
   ]
  },
  {
   "cell_type": "markdown",
   "metadata": {},
   "source": [
    "We also know that different days in a month have different traffic for different reasons eg Paydays(15th ,25th).Hence we will split our `Pickup - Day of Month` into 1st week,2nd week,3rd week and lastly 4th week of the month"
   ]
  },
  {
   "cell_type": "code",
   "execution_count": 220,
   "metadata": {},
   "outputs": [],
   "source": [
    "def traffic_ofthe_month(input_df):\n",
    "    input_df['week_no'] = ''\n",
    "    for i in range(0, len(input_df['Pickup - Day of Month'])):\n",
    "        if input_df['Pickup - Day of Month'][i] < 8:\n",
    "            input_df['week_no'][i] = '1st week'\n",
    "        elif 8 <= input_df['Pickup - Day of Month'][i] < 15:\n",
    "            input_df['week_no'][i] = '2nd week'\n",
    "        elif 15 <= input_df['Pickup - Day of Month'][i] < 23:\n",
    "            input_df['week_no'][i] = '3rd week'\n",
    "        elif 23 <= input_df['Pickup - Day of Month'][i] <= 31:\n",
    "            input_df['week_no'][i] = '4th week'\n",
    "    input_df['week_no'] = input_df['week_no'].astype('category')\n"
   ]
  },
  {
   "cell_type": "code",
   "execution_count": 221,
   "metadata": {},
   "outputs": [],
   "source": [
    "traffic_ofthe_month(train_df)\n"
   ]
  },
  {
   "cell_type": "code",
   "execution_count": 222,
   "metadata": {},
   "outputs": [],
   "source": [
    "traffic_ofthe_month(test_df)\n"
   ]
  },
  {
   "cell_type": "markdown",
   "metadata": {},
   "source": [
    "Now that we have preserved the time features information by creating more features, we can now drop the `traindf_time_columns` and `testdf_time_columns` features ."
   ]
  },
  {
   "cell_type": "markdown",
   "metadata": {},
   "source": [
    "Now we will break up the hours as well into different categories depending on the traffic during specific times of the day."
   ]
  },
  {
   "cell_type": "markdown",
   "metadata": {},
   "source": [
    "We will first convert the `Pickup Time` from an object to the hour data type."
   ]
  },
  {
   "cell_type": "code",
   "execution_count": 223,
   "metadata": {},
   "outputs": [],
   "source": [
    "test_df['pickuphour'] = test_df['Pickup - Time'].dt.hour\n",
    "train_df['pickuphour'] = train_df['Pickup - Time'].dt.hour\n"
   ]
  },
  {
   "cell_type": "code",
   "execution_count": 224,
   "metadata": {},
   "outputs": [],
   "source": [
    "def peakness_hour(df):\n",
    "    df['hour_status'] = ''\n",
    "    for i in range(0, len(df['pickuphour'])):\n",
    "        if 6 <= df['pickuphour'][i] <= 9:\n",
    "            df['hour_status'][i] = 'morning_peakhour'\n",
    "\n",
    "        elif 9 < df['pickuphour'][i] <= 12:\n",
    "            df['hour_status'][i] = 'morning_offpeakhour'\n",
    "\n",
    "        elif 12 < df['pickuphour'][i] <= 15:\n",
    "            df['hour_status'][i] = 'afternoon_offpeakhour'\n",
    "\n",
    "        elif 15 < df['pickuphour'][i] <= 18:\n",
    "            df['hour_status'][i] = 'afternoon_peakhour'\n",
    "\n",
    "        elif 18 < df['pickuphour'][i] <= 21:\n",
    "            df['hour_status'][i] = 'night_peakhour'\n",
    "\n",
    "        elif (21 < df['pickuphour'][i]) or (df['pickuphour'][i] < 7):\n",
    "            df['hour_status'][i] = 'night_offpeakhour'\n",
    "    df['hour_status'] = df['hour_status'].astype('category')\n"
   ]
  },
  {
   "cell_type": "code",
   "execution_count": 225,
   "metadata": {},
   "outputs": [],
   "source": [
    "peakness_hour(train_df)\n"
   ]
  },
  {
   "cell_type": "code",
   "execution_count": 226,
   "metadata": {},
   "outputs": [],
   "source": [
    "peakness_hour(test_df)\n"
   ]
  },
  {
   "cell_type": "code",
   "execution_count": 227,
   "metadata": {},
   "outputs": [
    {
     "data": {
      "text/html": [
       "<div>\n",
       "<style scoped>\n",
       "    .dataframe tbody tr th:only-of-type {\n",
       "        vertical-align: middle;\n",
       "    }\n",
       "\n",
       "    .dataframe tbody tr th {\n",
       "        vertical-align: top;\n",
       "    }\n",
       "\n",
       "    .dataframe thead th {\n",
       "        text-align: right;\n",
       "    }\n",
       "</style>\n",
       "<table border=\"1\" class=\"dataframe\">\n",
       "  <thead>\n",
       "    <tr style=\"text-align: right;\">\n",
       "      <th></th>\n",
       "      <th>User Id</th>\n",
       "      <th>Vehicle Type</th>\n",
       "      <th>Platform Type</th>\n",
       "      <th>Personal or Business</th>\n",
       "      <th>Placement - Day of Month</th>\n",
       "      <th>Placement - Weekday (Mo = 1)</th>\n",
       "      <th>Placement - Time</th>\n",
       "      <th>Confirmation - Day of Month</th>\n",
       "      <th>Confirmation - Weekday (Mo = 1)</th>\n",
       "      <th>Confirmation - Time</th>\n",
       "      <th>...</th>\n",
       "      <th>Average_Rating</th>\n",
       "      <th>No_of_Ratings</th>\n",
       "      <th>Delivery Rate</th>\n",
       "      <th>Scaled Rating</th>\n",
       "      <th>placement_to_confirmation_time</th>\n",
       "      <th>confirmation_to_arrivalpickup_time</th>\n",
       "      <th>arrivalpickup_to_pickup_time</th>\n",
       "      <th>week_no</th>\n",
       "      <th>pickuphour</th>\n",
       "      <th>hour_status</th>\n",
       "    </tr>\n",
       "    <tr>\n",
       "      <th>Order No</th>\n",
       "      <th></th>\n",
       "      <th></th>\n",
       "      <th></th>\n",
       "      <th></th>\n",
       "      <th></th>\n",
       "      <th></th>\n",
       "      <th></th>\n",
       "      <th></th>\n",
       "      <th></th>\n",
       "      <th></th>\n",
       "      <th></th>\n",
       "      <th></th>\n",
       "      <th></th>\n",
       "      <th></th>\n",
       "      <th></th>\n",
       "      <th></th>\n",
       "      <th></th>\n",
       "      <th></th>\n",
       "      <th></th>\n",
       "      <th></th>\n",
       "      <th></th>\n",
       "    </tr>\n",
       "  </thead>\n",
       "  <tbody>\n",
       "    <tr>\n",
       "      <th>Order_No_4211</th>\n",
       "      <td>User_Id_633</td>\n",
       "      <td>Bike</td>\n",
       "      <td>3</td>\n",
       "      <td>Business</td>\n",
       "      <td>9</td>\n",
       "      <td>5</td>\n",
       "      <td>2020-06-02 09:35:46</td>\n",
       "      <td>9</td>\n",
       "      <td>5</td>\n",
       "      <td>2020-06-02 09:40:10</td>\n",
       "      <td>...</td>\n",
       "      <td>13.8</td>\n",
       "      <td>549</td>\n",
       "      <td>1.250573</td>\n",
       "      <td>0.001048</td>\n",
       "      <td>264.0</td>\n",
       "      <td>1477.0</td>\n",
       "      <td>1363.0</td>\n",
       "      <td>2nd week</td>\n",
       "      <td>10</td>\n",
       "      <td>morning_offpeakhour</td>\n",
       "    </tr>\n",
       "    <tr>\n",
       "      <th>Order_No_27440</th>\n",
       "      <td>User_Id_2642</td>\n",
       "      <td>Bike</td>\n",
       "      <td>3</td>\n",
       "      <td>Personal</td>\n",
       "      <td>18</td>\n",
       "      <td>5</td>\n",
       "      <td>2020-06-02 15:41:17</td>\n",
       "      <td>18</td>\n",
       "      <td>5</td>\n",
       "      <td>2020-06-02 15:41:30</td>\n",
       "      <td>...</td>\n",
       "      <td>13.8</td>\n",
       "      <td>549</td>\n",
       "      <td>1.250573</td>\n",
       "      <td>0.001048</td>\n",
       "      <td>13.0</td>\n",
       "      <td>1546.0</td>\n",
       "      <td>381.0</td>\n",
       "      <td>3rd week</td>\n",
       "      <td>16</td>\n",
       "      <td>afternoon_peakhour</td>\n",
       "    </tr>\n",
       "    <tr>\n",
       "      <th>Order_No_14170</th>\n",
       "      <td>User_Id_3339</td>\n",
       "      <td>Bike</td>\n",
       "      <td>3</td>\n",
       "      <td>Business</td>\n",
       "      <td>31</td>\n",
       "      <td>5</td>\n",
       "      <td>2020-06-02 12:51:41</td>\n",
       "      <td>31</td>\n",
       "      <td>5</td>\n",
       "      <td>2020-06-02 13:12:49</td>\n",
       "      <td>...</td>\n",
       "      <td>13.8</td>\n",
       "      <td>549</td>\n",
       "      <td>1.250573</td>\n",
       "      <td>0.001048</td>\n",
       "      <td>1268.0</td>\n",
       "      <td>433.0</td>\n",
       "      <td>786.0</td>\n",
       "      <td>4th week</td>\n",
       "      <td>13</td>\n",
       "      <td>afternoon_offpeakhour</td>\n",
       "    </tr>\n",
       "    <tr>\n",
       "      <th>Order_No_21727</th>\n",
       "      <td>User_Id_3523</td>\n",
       "      <td>Bike</td>\n",
       "      <td>3</td>\n",
       "      <td>Personal</td>\n",
       "      <td>2</td>\n",
       "      <td>2</td>\n",
       "      <td>2020-06-02 07:12:10</td>\n",
       "      <td>2</td>\n",
       "      <td>2</td>\n",
       "      <td>2020-06-02 07:12:29</td>\n",
       "      <td>...</td>\n",
       "      <td>13.8</td>\n",
       "      <td>549</td>\n",
       "      <td>1.250573</td>\n",
       "      <td>0.001048</td>\n",
       "      <td>19.0</td>\n",
       "      <td>1375.0</td>\n",
       "      <td>202.0</td>\n",
       "      <td>1st week</td>\n",
       "      <td>7</td>\n",
       "      <td>morning_peakhour</td>\n",
       "    </tr>\n",
       "    <tr>\n",
       "      <th>Order_No_8301</th>\n",
       "      <td>User_Id_87</td>\n",
       "      <td>Bike</td>\n",
       "      <td>2</td>\n",
       "      <td>Personal</td>\n",
       "      <td>22</td>\n",
       "      <td>2</td>\n",
       "      <td>2020-06-02 10:40:58</td>\n",
       "      <td>22</td>\n",
       "      <td>2</td>\n",
       "      <td>2020-06-02 10:42:24</td>\n",
       "      <td>...</td>\n",
       "      <td>13.8</td>\n",
       "      <td>549</td>\n",
       "      <td>1.250573</td>\n",
       "      <td>0.001048</td>\n",
       "      <td>86.0</td>\n",
       "      <td>816.0</td>\n",
       "      <td>220.0</td>\n",
       "      <td>3rd week</td>\n",
       "      <td>10</td>\n",
       "      <td>morning_offpeakhour</td>\n",
       "    </tr>\n",
       "  </tbody>\n",
       "</table>\n",
       "<p>5 rows × 39 columns</p>\n",
       "</div>"
      ],
      "text/plain": [
       "                     User Id Vehicle Type  Platform Type Personal or Business  \\\n",
       "Order No                                                                        \n",
       "Order_No_4211    User_Id_633         Bike              3             Business   \n",
       "Order_No_27440  User_Id_2642         Bike              3             Personal   \n",
       "Order_No_14170  User_Id_3339         Bike              3             Business   \n",
       "Order_No_21727  User_Id_3523         Bike              3             Personal   \n",
       "Order_No_8301     User_Id_87         Bike              2             Personal   \n",
       "\n",
       "                Placement - Day of Month  Placement - Weekday (Mo = 1)  \\\n",
       "Order No                                                                 \n",
       "Order_No_4211                          9                             5   \n",
       "Order_No_27440                        18                             5   \n",
       "Order_No_14170                        31                             5   \n",
       "Order_No_21727                         2                             2   \n",
       "Order_No_8301                         22                             2   \n",
       "\n",
       "                  Placement - Time  Confirmation - Day of Month  \\\n",
       "Order No                                                          \n",
       "Order_No_4211  2020-06-02 09:35:46                            9   \n",
       "Order_No_27440 2020-06-02 15:41:17                           18   \n",
       "Order_No_14170 2020-06-02 12:51:41                           31   \n",
       "Order_No_21727 2020-06-02 07:12:10                            2   \n",
       "Order_No_8301  2020-06-02 10:40:58                           22   \n",
       "\n",
       "                Confirmation - Weekday (Mo = 1) Confirmation - Time  ...  \\\n",
       "Order No                                                             ...   \n",
       "Order_No_4211                                 5 2020-06-02 09:40:10  ...   \n",
       "Order_No_27440                                5 2020-06-02 15:41:30  ...   \n",
       "Order_No_14170                                5 2020-06-02 13:12:49  ...   \n",
       "Order_No_21727                                2 2020-06-02 07:12:29  ...   \n",
       "Order_No_8301                                 2 2020-06-02 10:42:24  ...   \n",
       "\n",
       "                Average_Rating  No_of_Ratings Delivery Rate  Scaled Rating  \\\n",
       "Order No                                                                     \n",
       "Order_No_4211             13.8            549      1.250573       0.001048   \n",
       "Order_No_27440            13.8            549      1.250573       0.001048   \n",
       "Order_No_14170            13.8            549      1.250573       0.001048   \n",
       "Order_No_21727            13.8            549      1.250573       0.001048   \n",
       "Order_No_8301             13.8            549      1.250573       0.001048   \n",
       "\n",
       "                placement_to_confirmation_time  \\\n",
       "Order No                                         \n",
       "Order_No_4211                            264.0   \n",
       "Order_No_27440                            13.0   \n",
       "Order_No_14170                          1268.0   \n",
       "Order_No_21727                            19.0   \n",
       "Order_No_8301                             86.0   \n",
       "\n",
       "               confirmation_to_arrivalpickup_time  \\\n",
       "Order No                                            \n",
       "Order_No_4211                              1477.0   \n",
       "Order_No_27440                             1546.0   \n",
       "Order_No_14170                              433.0   \n",
       "Order_No_21727                             1375.0   \n",
       "Order_No_8301                               816.0   \n",
       "\n",
       "                arrivalpickup_to_pickup_time   week_no pickuphour  \\\n",
       "Order No                                                            \n",
       "Order_No_4211                         1363.0  2nd week         10   \n",
       "Order_No_27440                         381.0  3rd week         16   \n",
       "Order_No_14170                         786.0  4th week         13   \n",
       "Order_No_21727                         202.0  1st week          7   \n",
       "Order_No_8301                          220.0  3rd week         10   \n",
       "\n",
       "                          hour_status  \n",
       "Order No                               \n",
       "Order_No_4211     morning_offpeakhour  \n",
       "Order_No_27440     afternoon_peakhour  \n",
       "Order_No_14170  afternoon_offpeakhour  \n",
       "Order_No_21727       morning_peakhour  \n",
       "Order_No_8301     morning_offpeakhour  \n",
       "\n",
       "[5 rows x 39 columns]"
      ]
     },
     "execution_count": 227,
     "metadata": {},
     "output_type": "execute_result"
    }
   ],
   "source": [
    "train_df.head()\n"
   ]
  },
  {
   "cell_type": "markdown",
   "metadata": {},
   "source": [
    "We have now used our `Pickup - Day of Month` and `Pickup Time` to create new features which do not have many categories,hence they will be very helful to our model."
   ]
  },
  {
   "cell_type": "markdown",
   "metadata": {},
   "source": [
    "### Target Feature"
   ]
  },
  {
   "cell_type": "markdown",
   "metadata": {},
   "source": [
    "We will know look at how the target variable `Time from Pickup to Arrival` is distributed "
   ]
  },
  {
   "cell_type": "code",
   "execution_count": 228,
   "metadata": {},
   "outputs": [
    {
     "data": {
      "text/plain": [
       "<matplotlib.axes._subplots.AxesSubplot at 0x2c2ee52ef08>"
      ]
     },
     "execution_count": 228,
     "metadata": {},
     "output_type": "execute_result"
    },
    {
     "data": {
      "image/png": "[encoded data removed]",
      "text/plain": [
       "<Figure size 1440x360 with 2 Axes>"
      ]
     },
     "metadata": {},
     "output_type": "display_data"
    }
   ],
   "source": [
    "fig,ax = plt.subplots(1, 2, figsize=(20,5))\n",
    "sns.distplot(train_df['Time from Pickup to Arrival'], fit=norm, ax=ax[1])\n",
    "train_df['Time from Pickup to Arrival'].plot.hist(ax=ax[0])\n"
   ]
  },
  {
   "cell_type": "markdown",
   "metadata": {},
   "source": [
    "We can see that our data is positively skewed ,this is mainly because we do not have many large data points.We will fix this in the section for outliers"
   ]
  },
  {
   "cell_type": "markdown",
   "metadata": {},
   "source": [
    "### Outliers"
   ]
  },
  {
   "cell_type": "code",
   "execution_count": 229,
   "metadata": {},
   "outputs": [
    {
     "data": {
      "text/plain": [
       "count    21201.000000\n",
       "mean      1556.920947\n",
       "std        987.270788\n",
       "min          1.000000\n",
       "25%        882.000000\n",
       "50%       1369.000000\n",
       "75%       2040.000000\n",
       "max       7883.000000\n",
       "Name: Time from Pickup to Arrival, dtype: float64"
      ]
     },
     "execution_count": 229,
     "metadata": {},
     "output_type": "execute_result"
    }
   ],
   "source": [
    "train_df['Time from Pickup to Arrival'].describe()\n"
   ]
  },
  {
   "cell_type": "markdown",
   "metadata": {},
   "source": [
    "We can see from the above description of the  `Time from Pickup to Arrival` that the minimun Time from pickup to arrival is one second which is impossible in real life so we need to find a way to get rid of the outliers in our data."
   ]
  },
  {
   "cell_type": "markdown",
   "metadata": {},
   "source": [
    "To deal with these outliers we might want to think if them in form of a physical form(Speed).We will calculate speed of all deliveries and discard ones that tend to show unrealistic speeds."
   ]
  },
  {
   "cell_type": "markdown",
   "metadata": {},
   "source": [
    "## Calculating  Speed in m/s\n",
    "train_df['Speed(m/s)'] = (train_df['Distance (KM)'] * 1000) / train_df['Time from Pickup to Arrival']"
   ]
  },
  {
   "cell_type": "markdown",
   "metadata": {},
   "source": [
    "The maximum speed that we will use as cut off will be 75 km/h and the minimun will be 15 km/h as per road rules in Nairobi , anything outside of this interval willmbe taken as an outlier. "
   ]
  },
  {
   "cell_type": "markdown",
   "metadata": {},
   "source": [
    "# cutting off outliers\n",
    "train_df= train_df[(train_df['Speed(m/s)'] <= 21) & (train_df['Speed(m/s)'] > 4)]"
   ]
  },
  {
   "cell_type": "markdown",
   "metadata": {},
   "source": [
    "train_df['Speed(m/s)'].describe()"
   ]
  },
  {
   "cell_type": "markdown",
   "metadata": {},
   "source": [
    "fig,ax = plt.subplots(1,2,figsize=(20,5))\n",
    "sns.distplot(train_df['Speed(m/s)'], fit=norm, ax=ax[1])\n",
    "train_df['Speed(m/s)'].plot.hist(ax=ax[0])"
   ]
  },
  {
   "cell_type": "markdown",
   "metadata": {},
   "source": [
    "Our data now looks better than it was ,it is now free of outliers"
   ]
  },
  {
   "cell_type": "markdown",
   "metadata": {},
   "source": [
    "### Varibale Encoding"
   ]
  },
  {
   "cell_type": "markdown",
   "metadata": {},
   "source": [
    "#### Dropping unneccesary columns"
   ]
  },
  {
   "cell_type": "code",
   "execution_count": 230,
   "metadata": {},
   "outputs": [],
   "source": [
    "# Dropping all the columns we will no longer need\n",
    "train_columns_drop = ['User Id', 'Vehicle Type',\n",
    "                      'Placement - Day of Month',\n",
    "                      'Placement - Weekday (Mo = 1)',\n",
    "                      'Placement - Time', 'Confirmation - Day of Month',\n",
    "                      'Confirmation - Weekday (Mo = 1)', 'Confirmation - Time',\n",
    "                      'Arrival at Pickup - Day of Month',\n",
    "                      'Arrival at Destination - Day of Month',\n",
    "                      'Arrival at Destination - Weekday (Mo = 1)',\n",
    "                      'Arrival at Destination - Time',\n",
    "                      'Arrival at Pickup - Weekday (Mo = 1)',\n",
    "                      'Arrival at Pickup - Time', 'Rider Id',\n",
    "                      'Pickup - Day of Month', 'Pickup - Weekday (Mo = 1)',\n",
    "                      'Pickup - Time', 'Pickup Lat', 'Pickup Long',\n",
    "                      'Destination Lat', 'Destination Long', 'No_Of_Orders',\n",
    "                      'Age', 'Average_Rating']\n",
    "\n",
    "test_columns_drop = ['User Id', 'Vehicle Type',\n",
    "                     'Placement - Day of Month',\n",
    "                     'Placement - Weekday (Mo = 1)',\n",
    "                     'Placement - Time', 'Confirmation - Day of Month',\n",
    "                     'Confirmation - Weekday (Mo = 1)', 'Confirmation - Time',\n",
    "                     'Arrival at Pickup - Day of Month', 'Rider Id',\n",
    "                     'Arrival at Pickup - Weekday (Mo = 1)',\n",
    "                     'Arrival at Pickup - Time',\n",
    "                     'Pickup - Day of Month',\n",
    "                     'Pickup - Weekday (Mo = 1)',\n",
    "                     'Pickup - Time', 'Pickup Lat', 'Pickup Long',\n",
    "                     'Destination Lat', 'Destination Long', 'No_Of_Orders',\n",
    "                     'Age', 'Average_Rating']\n",
    "train_df = train_df.drop(train_columns_drop, axis=1)\n",
    "test_df = test_df.drop(test_columns_drop, axis=1)\n"
   ]
  },
  {
   "cell_type": "code",
   "execution_count": 231,
   "metadata": {},
   "outputs": [
    {
     "name": "stdout",
     "output_type": "stream",
     "text": [
      "<class 'pandas.core.frame.DataFrame'>\n",
      "Index: 21201 entries, Order_No_4211 to Order_No_15578\n",
      "Data columns (total 14 columns):\n",
      " #   Column                              Non-Null Count  Dtype   \n",
      "---  ------                              --------------  -----   \n",
      " 0   Platform Type                       21201 non-null  int64   \n",
      " 1   Personal or Business                21201 non-null  object  \n",
      " 2   Distance (KM)                       21201 non-null  int64   \n",
      " 3   Temperature                         21201 non-null  float64 \n",
      " 4   Time from Pickup to Arrival         21201 non-null  int64   \n",
      " 5   No_of_Ratings                       21201 non-null  int64   \n",
      " 6   Delivery Rate                       21201 non-null  float64 \n",
      " 7   Scaled Rating                       21201 non-null  float64 \n",
      " 8   placement_to_confirmation_time      21201 non-null  float64 \n",
      " 9   confirmation_to_arrivalpickup_time  21201 non-null  float64 \n",
      " 10  arrivalpickup_to_pickup_time        21201 non-null  float64 \n",
      " 11  week_no                             21201 non-null  category\n",
      " 12  pickuphour                          21201 non-null  int64   \n",
      " 13  hour_status                         21201 non-null  category\n",
      "dtypes: category(2), float64(6), int64(5), object(1)\n",
      "memory usage: 2.8+ MB\n"
     ]
    }
   ],
   "source": [
    "train_df.info()\n"
   ]
  },
  {
   "cell_type": "code",
   "execution_count": 232,
   "metadata": {},
   "outputs": [
    {
     "name": "stdout",
     "output_type": "stream",
     "text": [
      "<class 'pandas.core.frame.DataFrame'>\n",
      "Index: 7068 entries, Order_No_19248 to Order_No_21633\n",
      "Data columns (total 13 columns):\n",
      " #   Column                              Non-Null Count  Dtype   \n",
      "---  ------                              --------------  -----   \n",
      " 0   Platform Type                       7068 non-null   int64   \n",
      " 1   Personal or Business                7068 non-null   object  \n",
      " 2   Distance (KM)                       7068 non-null   int64   \n",
      " 3   Temperature                         7068 non-null   float64 \n",
      " 4   No_of_Ratings                       7068 non-null   int64   \n",
      " 5   Delivery Rate                       7068 non-null   float64 \n",
      " 6   Scaled Rating                       7068 non-null   float64 \n",
      " 7   placement_to_confirmation_time      7068 non-null   float64 \n",
      " 8   confirmation_to_arrivalpickup_time  7068 non-null   float64 \n",
      " 9   arrivalpickup_to_pickup_time        7068 non-null   float64 \n",
      " 10  week_no                             7068 non-null   category\n",
      " 11  pickuphour                          7068 non-null   int64   \n",
      " 12  hour_status                         7068 non-null   category\n",
      "dtypes: category(2), float64(6), int64(4), object(1)\n",
      "memory usage: 996.8+ KB\n"
     ]
    }
   ],
   "source": [
    "test_df.info()\n"
   ]
  },
  {
   "cell_type": "markdown",
   "metadata": {},
   "source": [
    "#### Changing DataTypes"
   ]
  },
  {
   "cell_type": "code",
   "execution_count": 233,
   "metadata": {},
   "outputs": [],
   "source": [
    "train_df['Platform Type'] = train_df['Platform Type'].astype('category')\n",
    "\n",
    "test_df['Platform Type'] = test_df['Platform Type'].astype('category')\n",
    "test_df['Personal or Business'] = test_df['Personal or Business'].astype('category')\n",
    "train_df['Personal or Business'] = train_df['Personal or Business'].astype('category')\n"
   ]
  },
  {
   "cell_type": "markdown",
   "metadata": {},
   "source": [
    "\n",
    "### Feature Correlation to the Target Feature"
   ]
  },
  {
   "cell_type": "markdown",
   "metadata": {},
   "source": [
    "To be honest, we can’t quite be sure which features will be “irrelevant” when we haven’t run any models (and seen their results) yet. This is especially true when combination of features, not individual features, may be the key to finding the right categorization scheme.\n",
    "Let’s see if there are “completely uncorrelated” features that, when deleted, might not affect the other features. This still doesn’t guarantee that the feature is useless when combined with other features, but could direct us to a few hopefuls.\n",
    "As in, let’s draw some correlation heatmaps!"
   ]
  },
  {
   "cell_type": "code",
   "execution_count": 234,
   "metadata": {},
   "outputs": [],
   "source": [
    "# Target variable\n",
    "y_train = train_df['Time from Pickup to Arrival']\n",
    "#Predictors\n",
    "X_train = train_df.drop('Time from Pickup to Arrival', axis=1) \n",
    "X_data_test = test_df\n",
    "X_test_order_no = test_df.index"
   ]
  },
  {
   "cell_type": "code",
   "execution_count": 235,
   "metadata": {},
   "outputs": [
    {
     "data": {
      "text/html": [
       "<div>\n",
       "<style scoped>\n",
       "    .dataframe tbody tr th:only-of-type {\n",
       "        vertical-align: middle;\n",
       "    }\n",
       "\n",
       "    .dataframe tbody tr th {\n",
       "        vertical-align: top;\n",
       "    }\n",
       "\n",
       "    .dataframe thead th {\n",
       "        text-align: right;\n",
       "    }\n",
       "</style>\n",
       "<table border=\"1\" class=\"dataframe\">\n",
       "  <thead>\n",
       "    <tr style=\"text-align: right;\">\n",
       "      <th></th>\n",
       "      <th>Platform Type</th>\n",
       "      <th>Personal or Business</th>\n",
       "      <th>Distance (KM)</th>\n",
       "      <th>Temperature</th>\n",
       "      <th>No_of_Ratings</th>\n",
       "      <th>Delivery Rate</th>\n",
       "      <th>Scaled Rating</th>\n",
       "      <th>placement_to_confirmation_time</th>\n",
       "      <th>confirmation_to_arrivalpickup_time</th>\n",
       "      <th>arrivalpickup_to_pickup_time</th>\n",
       "      <th>week_no</th>\n",
       "      <th>pickuphour</th>\n",
       "      <th>hour_status</th>\n",
       "    </tr>\n",
       "    <tr>\n",
       "      <th>Order No</th>\n",
       "      <th></th>\n",
       "      <th></th>\n",
       "      <th></th>\n",
       "      <th></th>\n",
       "      <th></th>\n",
       "      <th></th>\n",
       "      <th></th>\n",
       "      <th></th>\n",
       "      <th></th>\n",
       "      <th></th>\n",
       "      <th></th>\n",
       "      <th></th>\n",
       "      <th></th>\n",
       "    </tr>\n",
       "  </thead>\n",
       "  <tbody>\n",
       "    <tr>\n",
       "      <th>Order_No_19248</th>\n",
       "      <td>3</td>\n",
       "      <td>Business</td>\n",
       "      <td>8</td>\n",
       "      <td>23.24612</td>\n",
       "      <td>171</td>\n",
       "      <td>0.290536</td>\n",
       "      <td>0.000939</td>\n",
       "      <td>19.0</td>\n",
       "      <td>515.0</td>\n",
       "      <td>823.0</td>\n",
       "      <td>4th week</td>\n",
       "      <td>17</td>\n",
       "      <td>afternoon_peakhour</td>\n",
       "    </tr>\n",
       "    <tr>\n",
       "      <th>Order_No_2699</th>\n",
       "      <td>1</td>\n",
       "      <td>Personal</td>\n",
       "      <td>19</td>\n",
       "      <td>23.24612</td>\n",
       "      <td>171</td>\n",
       "      <td>0.290536</td>\n",
       "      <td>0.000939</td>\n",
       "      <td>235.0</td>\n",
       "      <td>1330.0</td>\n",
       "      <td>502.0</td>\n",
       "      <td>4th week</td>\n",
       "      <td>15</td>\n",
       "      <td>afternoon_offpeakhour</td>\n",
       "    </tr>\n",
       "    <tr>\n",
       "      <th>Order_No_21486</th>\n",
       "      <td>3</td>\n",
       "      <td>Business</td>\n",
       "      <td>9</td>\n",
       "      <td>19.70000</td>\n",
       "      <td>171</td>\n",
       "      <td>0.290536</td>\n",
       "      <td>0.000939</td>\n",
       "      <td>187.0</td>\n",
       "      <td>1657.0</td>\n",
       "      <td>185.0</td>\n",
       "      <td>4th week</td>\n",
       "      <td>12</td>\n",
       "      <td>morning_offpeakhour</td>\n",
       "    </tr>\n",
       "    <tr>\n",
       "      <th>Order_No_19336</th>\n",
       "      <td>3</td>\n",
       "      <td>Business</td>\n",
       "      <td>15</td>\n",
       "      <td>16.40000</td>\n",
       "      <td>171</td>\n",
       "      <td>0.290536</td>\n",
       "      <td>0.000939</td>\n",
       "      <td>23.0</td>\n",
       "      <td>1266.0</td>\n",
       "      <td>1241.0</td>\n",
       "      <td>1st week</td>\n",
       "      <td>10</td>\n",
       "      <td>morning_offpeakhour</td>\n",
       "    </tr>\n",
       "    <tr>\n",
       "      <th>Order_No_20374</th>\n",
       "      <td>3</td>\n",
       "      <td>Business</td>\n",
       "      <td>15</td>\n",
       "      <td>21.30000</td>\n",
       "      <td>171</td>\n",
       "      <td>0.290536</td>\n",
       "      <td>0.000939</td>\n",
       "      <td>1605.0</td>\n",
       "      <td>1614.0</td>\n",
       "      <td>131.0</td>\n",
       "      <td>2nd week</td>\n",
       "      <td>13</td>\n",
       "      <td>afternoon_offpeakhour</td>\n",
       "    </tr>\n",
       "    <tr>\n",
       "      <th>...</th>\n",
       "      <td>...</td>\n",
       "      <td>...</td>\n",
       "      <td>...</td>\n",
       "      <td>...</td>\n",
       "      <td>...</td>\n",
       "      <td>...</td>\n",
       "      <td>...</td>\n",
       "      <td>...</td>\n",
       "      <td>...</td>\n",
       "      <td>...</td>\n",
       "      <td>...</td>\n",
       "      <td>...</td>\n",
       "      <td>...</td>\n",
       "    </tr>\n",
       "    <tr>\n",
       "      <th>Order_No_5207</th>\n",
       "      <td>3</td>\n",
       "      <td>Business</td>\n",
       "      <td>8</td>\n",
       "      <td>27.10000</td>\n",
       "      <td>427</td>\n",
       "      <td>1.136872</td>\n",
       "      <td>0.002502</td>\n",
       "      <td>2808.0</td>\n",
       "      <td>1074.0</td>\n",
       "      <td>2708.0</td>\n",
       "      <td>2nd week</td>\n",
       "      <td>14</td>\n",
       "      <td>afternoon_offpeakhour</td>\n",
       "    </tr>\n",
       "    <tr>\n",
       "      <th>Order_No_11108</th>\n",
       "      <td>3</td>\n",
       "      <td>Business</td>\n",
       "      <td>24</td>\n",
       "      <td>25.10000</td>\n",
       "      <td>1086</td>\n",
       "      <td>1.568487</td>\n",
       "      <td>0.006544</td>\n",
       "      <td>549.0</td>\n",
       "      <td>358.0</td>\n",
       "      <td>877.0</td>\n",
       "      <td>2nd week</td>\n",
       "      <td>15</td>\n",
       "      <td>afternoon_offpeakhour</td>\n",
       "    </tr>\n",
       "    <tr>\n",
       "      <th>Order_No_15696</th>\n",
       "      <td>3</td>\n",
       "      <td>Business</td>\n",
       "      <td>11</td>\n",
       "      <td>24.90000</td>\n",
       "      <td>34</td>\n",
       "      <td>3.066176</td>\n",
       "      <td>0.000180</td>\n",
       "      <td>436.0</td>\n",
       "      <td>225.0</td>\n",
       "      <td>370.0</td>\n",
       "      <td>4th week</td>\n",
       "      <td>13</td>\n",
       "      <td>afternoon_offpeakhour</td>\n",
       "    </tr>\n",
       "    <tr>\n",
       "      <th>Order_No_14332</th>\n",
       "      <td>3</td>\n",
       "      <td>Business</td>\n",
       "      <td>19</td>\n",
       "      <td>20.90000</td>\n",
       "      <td>5</td>\n",
       "      <td>0.116838</td>\n",
       "      <td>0.000031</td>\n",
       "      <td>34.0</td>\n",
       "      <td>446.0</td>\n",
       "      <td>2107.0</td>\n",
       "      <td>2nd week</td>\n",
       "      <td>9</td>\n",
       "      <td>morning_peakhour</td>\n",
       "    </tr>\n",
       "    <tr>\n",
       "      <th>Order_No_21633</th>\n",
       "      <td>3</td>\n",
       "      <td>Business</td>\n",
       "      <td>5</td>\n",
       "      <td>23.24612</td>\n",
       "      <td>586</td>\n",
       "      <td>2.505128</td>\n",
       "      <td>0.003434</td>\n",
       "      <td>44.0</td>\n",
       "      <td>290.0</td>\n",
       "      <td>1000.0</td>\n",
       "      <td>4th week</td>\n",
       "      <td>13</td>\n",
       "      <td>afternoon_offpeakhour</td>\n",
       "    </tr>\n",
       "  </tbody>\n",
       "</table>\n",
       "<p>7068 rows × 13 columns</p>\n",
       "</div>"
      ],
      "text/plain": [
       "               Platform Type Personal or Business  Distance (KM)  Temperature  \\\n",
       "Order No                                                                        \n",
       "Order_No_19248             3             Business              8     23.24612   \n",
       "Order_No_2699              1             Personal             19     23.24612   \n",
       "Order_No_21486             3             Business              9     19.70000   \n",
       "Order_No_19336             3             Business             15     16.40000   \n",
       "Order_No_20374             3             Business             15     21.30000   \n",
       "...                      ...                  ...            ...          ...   \n",
       "Order_No_5207              3             Business              8     27.10000   \n",
       "Order_No_11108             3             Business             24     25.10000   \n",
       "Order_No_15696             3             Business             11     24.90000   \n",
       "Order_No_14332             3             Business             19     20.90000   \n",
       "Order_No_21633             3             Business              5     23.24612   \n",
       "\n",
       "                No_of_Ratings  Delivery Rate  Scaled Rating  \\\n",
       "Order No                                                      \n",
       "Order_No_19248            171       0.290536       0.000939   \n",
       "Order_No_2699             171       0.290536       0.000939   \n",
       "Order_No_21486            171       0.290536       0.000939   \n",
       "Order_No_19336            171       0.290536       0.000939   \n",
       "Order_No_20374            171       0.290536       0.000939   \n",
       "...                       ...            ...            ...   \n",
       "Order_No_5207             427       1.136872       0.002502   \n",
       "Order_No_11108           1086       1.568487       0.006544   \n",
       "Order_No_15696             34       3.066176       0.000180   \n",
       "Order_No_14332              5       0.116838       0.000031   \n",
       "Order_No_21633            586       2.505128       0.003434   \n",
       "\n",
       "                placement_to_confirmation_time  \\\n",
       "Order No                                         \n",
       "Order_No_19248                            19.0   \n",
       "Order_No_2699                            235.0   \n",
       "Order_No_21486                           187.0   \n",
       "Order_No_19336                            23.0   \n",
       "Order_No_20374                          1605.0   \n",
       "...                                        ...   \n",
       "Order_No_5207                           2808.0   \n",
       "Order_No_11108                           549.0   \n",
       "Order_No_15696                           436.0   \n",
       "Order_No_14332                            34.0   \n",
       "Order_No_21633                            44.0   \n",
       "\n",
       "                confirmation_to_arrivalpickup_time  \\\n",
       "Order No                                             \n",
       "Order_No_19248                               515.0   \n",
       "Order_No_2699                               1330.0   \n",
       "Order_No_21486                              1657.0   \n",
       "Order_No_19336                              1266.0   \n",
       "Order_No_20374                              1614.0   \n",
       "...                                            ...   \n",
       "Order_No_5207                               1074.0   \n",
       "Order_No_11108                               358.0   \n",
       "Order_No_15696                               225.0   \n",
       "Order_No_14332                               446.0   \n",
       "Order_No_21633                               290.0   \n",
       "\n",
       "                arrivalpickup_to_pickup_time   week_no  pickuphour  \\\n",
       "Order No                                                             \n",
       "Order_No_19248                         823.0  4th week          17   \n",
       "Order_No_2699                          502.0  4th week          15   \n",
       "Order_No_21486                         185.0  4th week          12   \n",
       "Order_No_19336                        1241.0  1st week          10   \n",
       "Order_No_20374                         131.0  2nd week          13   \n",
       "...                                      ...       ...         ...   \n",
       "Order_No_5207                         2708.0  2nd week          14   \n",
       "Order_No_11108                         877.0  2nd week          15   \n",
       "Order_No_15696                         370.0  4th week          13   \n",
       "Order_No_14332                        2107.0  2nd week           9   \n",
       "Order_No_21633                        1000.0  4th week          13   \n",
       "\n",
       "                          hour_status  \n",
       "Order No                               \n",
       "Order_No_19248     afternoon_peakhour  \n",
       "Order_No_2699   afternoon_offpeakhour  \n",
       "Order_No_21486    morning_offpeakhour  \n",
       "Order_No_19336    morning_offpeakhour  \n",
       "Order_No_20374  afternoon_offpeakhour  \n",
       "...                               ...  \n",
       "Order_No_5207   afternoon_offpeakhour  \n",
       "Order_No_11108  afternoon_offpeakhour  \n",
       "Order_No_15696  afternoon_offpeakhour  \n",
       "Order_No_14332       morning_peakhour  \n",
       "Order_No_21633  afternoon_offpeakhour  \n",
       "\n",
       "[7068 rows x 13 columns]"
      ]
     },
     "execution_count": 235,
     "metadata": {},
     "output_type": "execute_result"
    }
   ],
   "source": [
    "X_data_test"
   ]
  },
  {
   "cell_type": "code",
   "execution_count": 236,
   "metadata": {},
   "outputs": [
    {
     "name": "stdout",
     "output_type": "stream",
     "text": [
      "<class 'pandas.core.frame.DataFrame'>\n",
      "Index: 21201 entries, Order_No_4211 to Order_No_15578\n",
      "Data columns (total 14 columns):\n",
      " #   Column                              Non-Null Count  Dtype   \n",
      "---  ------                              --------------  -----   \n",
      " 0   Platform Type                       21201 non-null  category\n",
      " 1   Personal or Business                21201 non-null  category\n",
      " 2   Distance (KM)                       21201 non-null  int64   \n",
      " 3   Temperature                         21201 non-null  float64 \n",
      " 4   Time from Pickup to Arrival         21201 non-null  int64   \n",
      " 5   No_of_Ratings                       21201 non-null  int64   \n",
      " 6   Delivery Rate                       21201 non-null  float64 \n",
      " 7   Scaled Rating                       21201 non-null  float64 \n",
      " 8   placement_to_confirmation_time      21201 non-null  float64 \n",
      " 9   confirmation_to_arrivalpickup_time  21201 non-null  float64 \n",
      " 10  arrivalpickup_to_pickup_time        21201 non-null  float64 \n",
      " 11  week_no                             21201 non-null  category\n",
      " 12  pickuphour                          21201 non-null  int64   \n",
      " 13  hour_status                         21201 non-null  category\n",
      "dtypes: category(4), float64(6), int64(4)\n",
      "memory usage: 2.5+ MB\n"
     ]
    }
   ],
   "source": [
    "train_df.info()"
   ]
  },
  {
   "cell_type": "code",
   "execution_count": 237,
   "metadata": {},
   "outputs": [
    {
     "data": {
      "text/plain": [
       "3    18054\n",
       "1     2147\n",
       "2      980\n",
       "4       20\n",
       "Name: Platform Type, dtype: int64"
      ]
     },
     "execution_count": 237,
     "metadata": {},
     "output_type": "execute_result"
    }
   ],
   "source": [
    "train_df['Platform Type'].value_counts()\n"
   ]
  },
  {
   "cell_type": "code",
   "execution_count": 238,
   "metadata": {},
   "outputs": [],
   "source": [
    "train_df['Platform Type'] = train_df['Platform Type'].apply(lambda x: 1 if x in [1,3] else 0)\n"
   ]
  },
  {
   "cell_type": "code",
   "execution_count": 239,
   "metadata": {},
   "outputs": [
    {
     "data": {
      "text/html": [
       "<div>\n",
       "<style scoped>\n",
       "    .dataframe tbody tr th:only-of-type {\n",
       "        vertical-align: middle;\n",
       "    }\n",
       "\n",
       "    .dataframe tbody tr th {\n",
       "        vertical-align: top;\n",
       "    }\n",
       "\n",
       "    .dataframe thead th {\n",
       "        text-align: right;\n",
       "    }\n",
       "</style>\n",
       "<table border=\"1\" class=\"dataframe\">\n",
       "  <thead>\n",
       "    <tr style=\"text-align: right;\">\n",
       "      <th></th>\n",
       "      <th>Platform Type</th>\n",
       "      <th>Personal or Business</th>\n",
       "      <th>Distance (KM)</th>\n",
       "      <th>Temperature</th>\n",
       "      <th>Time from Pickup to Arrival</th>\n",
       "      <th>No_of_Ratings</th>\n",
       "      <th>Delivery Rate</th>\n",
       "      <th>Scaled Rating</th>\n",
       "      <th>placement_to_confirmation_time</th>\n",
       "      <th>confirmation_to_arrivalpickup_time</th>\n",
       "      <th>arrivalpickup_to_pickup_time</th>\n",
       "      <th>week_no</th>\n",
       "      <th>pickuphour</th>\n",
       "      <th>hour_status</th>\n",
       "    </tr>\n",
       "    <tr>\n",
       "      <th>Order No</th>\n",
       "      <th></th>\n",
       "      <th></th>\n",
       "      <th></th>\n",
       "      <th></th>\n",
       "      <th></th>\n",
       "      <th></th>\n",
       "      <th></th>\n",
       "      <th></th>\n",
       "      <th></th>\n",
       "      <th></th>\n",
       "      <th></th>\n",
       "      <th></th>\n",
       "      <th></th>\n",
       "      <th></th>\n",
       "    </tr>\n",
       "  </thead>\n",
       "  <tbody>\n",
       "    <tr>\n",
       "      <th>Order_No_4211</th>\n",
       "      <td>1</td>\n",
       "      <td>Business</td>\n",
       "      <td>4</td>\n",
       "      <td>20.4</td>\n",
       "      <td>745</td>\n",
       "      <td>549</td>\n",
       "      <td>1.250573</td>\n",
       "      <td>0.001048</td>\n",
       "      <td>264.0</td>\n",
       "      <td>1477.0</td>\n",
       "      <td>1363.0</td>\n",
       "      <td>2nd week</td>\n",
       "      <td>10</td>\n",
       "      <td>morning_offpeakhour</td>\n",
       "    </tr>\n",
       "    <tr>\n",
       "      <th>Order_No_27440</th>\n",
       "      <td>1</td>\n",
       "      <td>Personal</td>\n",
       "      <td>20</td>\n",
       "      <td>24.5</td>\n",
       "      <td>2886</td>\n",
       "      <td>549</td>\n",
       "      <td>1.250573</td>\n",
       "      <td>0.001048</td>\n",
       "      <td>13.0</td>\n",
       "      <td>1546.0</td>\n",
       "      <td>381.0</td>\n",
       "      <td>3rd week</td>\n",
       "      <td>16</td>\n",
       "      <td>afternoon_peakhour</td>\n",
       "    </tr>\n",
       "    <tr>\n",
       "      <th>Order_No_14170</th>\n",
       "      <td>1</td>\n",
       "      <td>Business</td>\n",
       "      <td>6</td>\n",
       "      <td>24.7</td>\n",
       "      <td>2615</td>\n",
       "      <td>549</td>\n",
       "      <td>1.250573</td>\n",
       "      <td>0.001048</td>\n",
       "      <td>1268.0</td>\n",
       "      <td>433.0</td>\n",
       "      <td>786.0</td>\n",
       "      <td>4th week</td>\n",
       "      <td>13</td>\n",
       "      <td>afternoon_offpeakhour</td>\n",
       "    </tr>\n",
       "    <tr>\n",
       "      <th>Order_No_21727</th>\n",
       "      <td>1</td>\n",
       "      <td>Personal</td>\n",
       "      <td>18</td>\n",
       "      <td>15.2</td>\n",
       "      <td>2986</td>\n",
       "      <td>549</td>\n",
       "      <td>1.250573</td>\n",
       "      <td>0.001048</td>\n",
       "      <td>19.0</td>\n",
       "      <td>1375.0</td>\n",
       "      <td>202.0</td>\n",
       "      <td>1st week</td>\n",
       "      <td>7</td>\n",
       "      <td>morning_peakhour</td>\n",
       "    </tr>\n",
       "    <tr>\n",
       "      <th>Order_No_8301</th>\n",
       "      <td>0</td>\n",
       "      <td>Personal</td>\n",
       "      <td>7</td>\n",
       "      <td>19.2</td>\n",
       "      <td>1602</td>\n",
       "      <td>549</td>\n",
       "      <td>1.250573</td>\n",
       "      <td>0.001048</td>\n",
       "      <td>86.0</td>\n",
       "      <td>816.0</td>\n",
       "      <td>220.0</td>\n",
       "      <td>3rd week</td>\n",
       "      <td>10</td>\n",
       "      <td>morning_offpeakhour</td>\n",
       "    </tr>\n",
       "  </tbody>\n",
       "</table>\n",
       "</div>"
      ],
      "text/plain": [
       "                Platform Type Personal or Business  Distance (KM)  \\\n",
       "Order No                                                            \n",
       "Order_No_4211               1             Business              4   \n",
       "Order_No_27440              1             Personal             20   \n",
       "Order_No_14170              1             Business              6   \n",
       "Order_No_21727              1             Personal             18   \n",
       "Order_No_8301               0             Personal              7   \n",
       "\n",
       "                Temperature  Time from Pickup to Arrival  No_of_Ratings  \\\n",
       "Order No                                                                  \n",
       "Order_No_4211          20.4                          745            549   \n",
       "Order_No_27440         24.5                         2886            549   \n",
       "Order_No_14170         24.7                         2615            549   \n",
       "Order_No_21727         15.2                         2986            549   \n",
       "Order_No_8301          19.2                         1602            549   \n",
       "\n",
       "                Delivery Rate  Scaled Rating  placement_to_confirmation_time  \\\n",
       "Order No                                                                       \n",
       "Order_No_4211        1.250573       0.001048                           264.0   \n",
       "Order_No_27440       1.250573       0.001048                            13.0   \n",
       "Order_No_14170       1.250573       0.001048                          1268.0   \n",
       "Order_No_21727       1.250573       0.001048                            19.0   \n",
       "Order_No_8301        1.250573       0.001048                            86.0   \n",
       "\n",
       "                confirmation_to_arrivalpickup_time  \\\n",
       "Order No                                             \n",
       "Order_No_4211                               1477.0   \n",
       "Order_No_27440                              1546.0   \n",
       "Order_No_14170                               433.0   \n",
       "Order_No_21727                              1375.0   \n",
       "Order_No_8301                                816.0   \n",
       "\n",
       "                arrivalpickup_to_pickup_time   week_no  pickuphour  \\\n",
       "Order No                                                             \n",
       "Order_No_4211                         1363.0  2nd week          10   \n",
       "Order_No_27440                         381.0  3rd week          16   \n",
       "Order_No_14170                         786.0  4th week          13   \n",
       "Order_No_21727                         202.0  1st week           7   \n",
       "Order_No_8301                          220.0  3rd week          10   \n",
       "\n",
       "                          hour_status  \n",
       "Order No                               \n",
       "Order_No_4211     morning_offpeakhour  \n",
       "Order_No_27440     afternoon_peakhour  \n",
       "Order_No_14170  afternoon_offpeakhour  \n",
       "Order_No_21727       morning_peakhour  \n",
       "Order_No_8301     morning_offpeakhour  "
      ]
     },
     "execution_count": 239,
     "metadata": {},
     "output_type": "execute_result"
    }
   ],
   "source": [
    "train_df.head()\n"
   ]
  },
  {
   "cell_type": "code",
   "execution_count": 240,
   "metadata": {},
   "outputs": [
    {
     "data": {
      "text/plain": [
       "Business    17384\n",
       "Personal     3817\n",
       "Name: Personal or Business, dtype: int64"
      ]
     },
     "execution_count": 240,
     "metadata": {},
     "output_type": "execute_result"
    }
   ],
   "source": [
    "train_df['Personal or Business'].value_counts()\n"
   ]
  },
  {
   "cell_type": "code",
   "execution_count": 241,
   "metadata": {},
   "outputs": [],
   "source": [
    "train_df['Personal or Business'] = train_df['Personal or Business'].apply(lambda x: 1 if x in ['Business'] else 0)\n"
   ]
  },
  {
   "cell_type": "code",
   "execution_count": 242,
   "metadata": {},
   "outputs": [
    {
     "data": {
      "text/html": [
       "<div>\n",
       "<style scoped>\n",
       "    .dataframe tbody tr th:only-of-type {\n",
       "        vertical-align: middle;\n",
       "    }\n",
       "\n",
       "    .dataframe tbody tr th {\n",
       "        vertical-align: top;\n",
       "    }\n",
       "\n",
       "    .dataframe thead th {\n",
       "        text-align: right;\n",
       "    }\n",
       "</style>\n",
       "<table border=\"1\" class=\"dataframe\">\n",
       "  <thead>\n",
       "    <tr style=\"text-align: right;\">\n",
       "      <th></th>\n",
       "      <th>Platform Type</th>\n",
       "      <th>Personal or Business</th>\n",
       "      <th>Distance (KM)</th>\n",
       "      <th>Temperature</th>\n",
       "      <th>Time from Pickup to Arrival</th>\n",
       "      <th>No_of_Ratings</th>\n",
       "      <th>Delivery Rate</th>\n",
       "      <th>Scaled Rating</th>\n",
       "      <th>placement_to_confirmation_time</th>\n",
       "      <th>confirmation_to_arrivalpickup_time</th>\n",
       "      <th>arrivalpickup_to_pickup_time</th>\n",
       "      <th>week_no</th>\n",
       "      <th>pickuphour</th>\n",
       "      <th>hour_status</th>\n",
       "    </tr>\n",
       "    <tr>\n",
       "      <th>Order No</th>\n",
       "      <th></th>\n",
       "      <th></th>\n",
       "      <th></th>\n",
       "      <th></th>\n",
       "      <th></th>\n",
       "      <th></th>\n",
       "      <th></th>\n",
       "      <th></th>\n",
       "      <th></th>\n",
       "      <th></th>\n",
       "      <th></th>\n",
       "      <th></th>\n",
       "      <th></th>\n",
       "      <th></th>\n",
       "    </tr>\n",
       "  </thead>\n",
       "  <tbody>\n",
       "    <tr>\n",
       "      <th>Order_No_4211</th>\n",
       "      <td>1</td>\n",
       "      <td>1</td>\n",
       "      <td>4</td>\n",
       "      <td>20.4</td>\n",
       "      <td>745</td>\n",
       "      <td>549</td>\n",
       "      <td>1.250573</td>\n",
       "      <td>0.001048</td>\n",
       "      <td>264.0</td>\n",
       "      <td>1477.0</td>\n",
       "      <td>1363.0</td>\n",
       "      <td>2nd week</td>\n",
       "      <td>10</td>\n",
       "      <td>morning_offpeakhour</td>\n",
       "    </tr>\n",
       "    <tr>\n",
       "      <th>Order_No_27440</th>\n",
       "      <td>1</td>\n",
       "      <td>0</td>\n",
       "      <td>20</td>\n",
       "      <td>24.5</td>\n",
       "      <td>2886</td>\n",
       "      <td>549</td>\n",
       "      <td>1.250573</td>\n",
       "      <td>0.001048</td>\n",
       "      <td>13.0</td>\n",
       "      <td>1546.0</td>\n",
       "      <td>381.0</td>\n",
       "      <td>3rd week</td>\n",
       "      <td>16</td>\n",
       "      <td>afternoon_peakhour</td>\n",
       "    </tr>\n",
       "    <tr>\n",
       "      <th>Order_No_14170</th>\n",
       "      <td>1</td>\n",
       "      <td>1</td>\n",
       "      <td>6</td>\n",
       "      <td>24.7</td>\n",
       "      <td>2615</td>\n",
       "      <td>549</td>\n",
       "      <td>1.250573</td>\n",
       "      <td>0.001048</td>\n",
       "      <td>1268.0</td>\n",
       "      <td>433.0</td>\n",
       "      <td>786.0</td>\n",
       "      <td>4th week</td>\n",
       "      <td>13</td>\n",
       "      <td>afternoon_offpeakhour</td>\n",
       "    </tr>\n",
       "    <tr>\n",
       "      <th>Order_No_21727</th>\n",
       "      <td>1</td>\n",
       "      <td>0</td>\n",
       "      <td>18</td>\n",
       "      <td>15.2</td>\n",
       "      <td>2986</td>\n",
       "      <td>549</td>\n",
       "      <td>1.250573</td>\n",
       "      <td>0.001048</td>\n",
       "      <td>19.0</td>\n",
       "      <td>1375.0</td>\n",
       "      <td>202.0</td>\n",
       "      <td>1st week</td>\n",
       "      <td>7</td>\n",
       "      <td>morning_peakhour</td>\n",
       "    </tr>\n",
       "    <tr>\n",
       "      <th>Order_No_8301</th>\n",
       "      <td>0</td>\n",
       "      <td>0</td>\n",
       "      <td>7</td>\n",
       "      <td>19.2</td>\n",
       "      <td>1602</td>\n",
       "      <td>549</td>\n",
       "      <td>1.250573</td>\n",
       "      <td>0.001048</td>\n",
       "      <td>86.0</td>\n",
       "      <td>816.0</td>\n",
       "      <td>220.0</td>\n",
       "      <td>3rd week</td>\n",
       "      <td>10</td>\n",
       "      <td>morning_offpeakhour</td>\n",
       "    </tr>\n",
       "  </tbody>\n",
       "</table>\n",
       "</div>"
      ],
      "text/plain": [
       "                Platform Type Personal or Business  Distance (KM)  \\\n",
       "Order No                                                            \n",
       "Order_No_4211               1                    1              4   \n",
       "Order_No_27440              1                    0             20   \n",
       "Order_No_14170              1                    1              6   \n",
       "Order_No_21727              1                    0             18   \n",
       "Order_No_8301               0                    0              7   \n",
       "\n",
       "                Temperature  Time from Pickup to Arrival  No_of_Ratings  \\\n",
       "Order No                                                                  \n",
       "Order_No_4211          20.4                          745            549   \n",
       "Order_No_27440         24.5                         2886            549   \n",
       "Order_No_14170         24.7                         2615            549   \n",
       "Order_No_21727         15.2                         2986            549   \n",
       "Order_No_8301          19.2                         1602            549   \n",
       "\n",
       "                Delivery Rate  Scaled Rating  placement_to_confirmation_time  \\\n",
       "Order No                                                                       \n",
       "Order_No_4211        1.250573       0.001048                           264.0   \n",
       "Order_No_27440       1.250573       0.001048                            13.0   \n",
       "Order_No_14170       1.250573       0.001048                          1268.0   \n",
       "Order_No_21727       1.250573       0.001048                            19.0   \n",
       "Order_No_8301        1.250573       0.001048                            86.0   \n",
       "\n",
       "                confirmation_to_arrivalpickup_time  \\\n",
       "Order No                                             \n",
       "Order_No_4211                               1477.0   \n",
       "Order_No_27440                              1546.0   \n",
       "Order_No_14170                               433.0   \n",
       "Order_No_21727                              1375.0   \n",
       "Order_No_8301                                816.0   \n",
       "\n",
       "                arrivalpickup_to_pickup_time   week_no  pickuphour  \\\n",
       "Order No                                                             \n",
       "Order_No_4211                         1363.0  2nd week          10   \n",
       "Order_No_27440                         381.0  3rd week          16   \n",
       "Order_No_14170                         786.0  4th week          13   \n",
       "Order_No_21727                         202.0  1st week           7   \n",
       "Order_No_8301                          220.0  3rd week          10   \n",
       "\n",
       "                          hour_status  \n",
       "Order No                               \n",
       "Order_No_4211     morning_offpeakhour  \n",
       "Order_No_27440     afternoon_peakhour  \n",
       "Order_No_14170  afternoon_offpeakhour  \n",
       "Order_No_21727       morning_peakhour  \n",
       "Order_No_8301     morning_offpeakhour  "
      ]
     },
     "execution_count": 242,
     "metadata": {},
     "output_type": "execute_result"
    }
   ],
   "source": [
    "train_df.head()\n"
   ]
  },
  {
   "cell_type": "code",
   "execution_count": 243,
   "metadata": {},
   "outputs": [
    {
     "data": {
      "text/plain": [
       "4th week    5790\n",
       "2nd week    5257\n",
       "3rd week    5220\n",
       "1st week    4934\n",
       "Name: week_no, dtype: int64"
      ]
     },
     "execution_count": 243,
     "metadata": {},
     "output_type": "execute_result"
    }
   ],
   "source": [
    "train_df['week_no'].value_counts()\n"
   ]
  },
  {
   "cell_type": "code",
   "execution_count": 244,
   "metadata": {},
   "outputs": [],
   "source": [
    "#train_df['week_no'] = train_df['week_no'].apply(lambda x: 1 if x in ['Business'] else 0)\n"
   ]
  },
  {
   "cell_type": "code",
   "execution_count": 245,
   "metadata": {},
   "outputs": [],
   "source": [
    "y_train = train_df['Time from Pickup to Arrival']\n"
   ]
  },
  {
   "cell_type": "code",
   "execution_count": 246,
   "metadata": {},
   "outputs": [],
   "source": [
    "X_train = train_df.drop(['Time from Pickup to Arrival'], axis=1, inplace=True)\n"
   ]
  },
  {
   "cell_type": "code",
   "execution_count": null,
   "metadata": {},
   "outputs": [],
   "source": []
  },
  {
   "cell_type": "code",
   "execution_count": 255,
   "metadata": {},
   "outputs": [],
   "source": [
    "test_df['Platform Type'] = test_df['Platform Type'].apply(lambda x: 1 if x in [1,3] else 0)\n"
   ]
  },
  {
   "cell_type": "code",
   "execution_count": 256,
   "metadata": {},
   "outputs": [],
   "source": [
    "test_df['Personal or Business'] = test_df['Personal or Business'].apply(lambda x: 1 if x in ['Business'] else 0)\n"
   ]
  },
  {
   "cell_type": "code",
   "execution_count": 257,
   "metadata": {},
   "outputs": [],
   "source": [
    "test_df = pd.get_dummies([],drop_first = True)\n"
   ]
  },
  {
   "cell_type": "code",
   "execution_count": null,
   "metadata": {},
   "outputs": [],
   "source": [
    "test_df.drop(['Personal or Business'])\n"
   ]
  },
  {
   "cell_type": "code",
   "execution_count": 261,
   "metadata": {},
   "outputs": [
    {
     "name": "stdout",
     "output_type": "stream",
     "text": [
      "<class 'pandas.core.frame.DataFrame'>\n",
      "Index: 7068 entries, Order_No_19248 to Order_No_21633\n",
      "Data columns (total 22 columns):\n",
      " #   Column                              Non-Null Count  Dtype  \n",
      "---  ------                              --------------  -----  \n",
      " 0   Platform Type                       7068 non-null   int64  \n",
      " 1   Distance (KM)                       7068 non-null   int64  \n",
      " 2   Temperature                         7068 non-null   float64\n",
      " 3   No_of_Ratings                       7068 non-null   int64  \n",
      " 4   Delivery Rate                       7068 non-null   float64\n",
      " 5   Scaled Rating                       7068 non-null   float64\n",
      " 6   placement_to_confirmation_time      7068 non-null   float64\n",
      " 7   confirmation_to_arrivalpickup_time  7068 non-null   float64\n",
      " 8   arrivalpickup_to_pickup_time        7068 non-null   float64\n",
      " 9   pickuphour                          7068 non-null   int64  \n",
      " 10  Personal or Business_1              7068 non-null   uint8  \n",
      " 11  Personal or Business_0              7068 non-null   uint8  \n",
      " 12  week_no_1st week                    7068 non-null   uint8  \n",
      " 13  week_no_2nd week                    7068 non-null   uint8  \n",
      " 14  week_no_3rd week                    7068 non-null   uint8  \n",
      " 15  week_no_4th week                    7068 non-null   uint8  \n",
      " 16  hour_status_afternoon_offpeakhour   7068 non-null   uint8  \n",
      " 17  hour_status_afternoon_peakhour      7068 non-null   uint8  \n",
      " 18  hour_status_morning_offpeakhour     7068 non-null   uint8  \n",
      " 19  hour_status_morning_peakhour        7068 non-null   uint8  \n",
      " 20  hour_status_night_offpeakhour       7068 non-null   uint8  \n",
      " 21  hour_status_night_peakhour          7068 non-null   uint8  \n",
      "dtypes: float64(6), int64(4), uint8(12)\n",
      "memory usage: 1010.2+ KB\n"
     ]
    }
   ],
   "source": [
    "test_df.info()\n"
   ]
  },
  {
   "cell_type": "code",
   "execution_count": 262,
   "metadata": {},
   "outputs": [
    {
     "data": {
      "text/plain": [
       "Order No\n",
       "Order_No_19248    1\n",
       "Order_No_2699     0\n",
       "Order_No_21486    1\n",
       "Order_No_19336    1\n",
       "Order_No_20374    1\n",
       "                 ..\n",
       "Order_No_5207     1\n",
       "Order_No_11108    1\n",
       "Order_No_15696    1\n",
       "Order_No_14332    1\n",
       "Order_No_21633    1\n",
       "Name: Personal or Business_1, Length: 7068, dtype: uint8"
      ]
     },
     "execution_count": 262,
     "metadata": {},
     "output_type": "execute_result"
    }
   ],
   "source": [
    "test_df['Personal or Business_1']\n"
   ]
  },
  {
   "cell_type": "code",
   "execution_count": 247,
   "metadata": {},
   "outputs": [],
   "source": [
    "train_df = pd.get_dummies(train_df)\n"
   ]
  },
  {
   "cell_type": "code",
   "execution_count": 248,
   "metadata": {},
   "outputs": [
    {
     "data": {
      "text/plain": [
       "Index(['Platform Type', 'Distance (KM)', 'Temperature', 'No_of_Ratings',\n",
       "       'Delivery Rate', 'Scaled Rating', 'placement_to_confirmation_time',\n",
       "       'confirmation_to_arrivalpickup_time', 'arrivalpickup_to_pickup_time',\n",
       "       'pickuphour', 'Personal or Business_1', 'Personal or Business_0',\n",
       "       'week_no_1st week', 'week_no_2nd week', 'week_no_3rd week',\n",
       "       'week_no_4th week', 'hour_status_afternoon_offpeakhour',\n",
       "       'hour_status_afternoon_peakhour', 'hour_status_morning_offpeakhour',\n",
       "       'hour_status_morning_peakhour', 'hour_status_night_offpeakhour',\n",
       "       'hour_status_night_peakhour'],\n",
       "      dtype='object')"
      ]
     },
     "execution_count": 248,
     "metadata": {},
     "output_type": "execute_result"
    }
   ],
   "source": [
    "train_df.columns\n"
   ]
  },
  {
   "cell_type": "code",
   "execution_count": 250,
   "metadata": {},
   "outputs": [
    {
     "data": {
      "text/html": [
       "<div>\n",
       "<style scoped>\n",
       "    .dataframe tbody tr th:only-of-type {\n",
       "        vertical-align: middle;\n",
       "    }\n",
       "\n",
       "    .dataframe tbody tr th {\n",
       "        vertical-align: top;\n",
       "    }\n",
       "\n",
       "    .dataframe thead th {\n",
       "        text-align: right;\n",
       "    }\n",
       "</style>\n",
       "<table border=\"1\" class=\"dataframe\">\n",
       "  <thead>\n",
       "    <tr style=\"text-align: right;\">\n",
       "      <th></th>\n",
       "      <th>Platform Type</th>\n",
       "      <th>Distance (KM)</th>\n",
       "      <th>Temperature</th>\n",
       "      <th>No_of_Ratings</th>\n",
       "      <th>Delivery Rate</th>\n",
       "      <th>Scaled Rating</th>\n",
       "      <th>placement_to_confirmation_time</th>\n",
       "      <th>confirmation_to_arrivalpickup_time</th>\n",
       "      <th>arrivalpickup_to_pickup_time</th>\n",
       "      <th>pickuphour</th>\n",
       "      <th>...</th>\n",
       "      <th>week_no_1st week</th>\n",
       "      <th>week_no_2nd week</th>\n",
       "      <th>week_no_3rd week</th>\n",
       "      <th>week_no_4th week</th>\n",
       "      <th>hour_status_afternoon_offpeakhour</th>\n",
       "      <th>hour_status_afternoon_peakhour</th>\n",
       "      <th>hour_status_morning_offpeakhour</th>\n",
       "      <th>hour_status_morning_peakhour</th>\n",
       "      <th>hour_status_night_offpeakhour</th>\n",
       "      <th>hour_status_night_peakhour</th>\n",
       "    </tr>\n",
       "    <tr>\n",
       "      <th>Order No</th>\n",
       "      <th></th>\n",
       "      <th></th>\n",
       "      <th></th>\n",
       "      <th></th>\n",
       "      <th></th>\n",
       "      <th></th>\n",
       "      <th></th>\n",
       "      <th></th>\n",
       "      <th></th>\n",
       "      <th></th>\n",
       "      <th></th>\n",
       "      <th></th>\n",
       "      <th></th>\n",
       "      <th></th>\n",
       "      <th></th>\n",
       "      <th></th>\n",
       "      <th></th>\n",
       "      <th></th>\n",
       "      <th></th>\n",
       "      <th></th>\n",
       "      <th></th>\n",
       "    </tr>\n",
       "  </thead>\n",
       "  <tbody>\n",
       "    <tr>\n",
       "      <th>Order_No_4211</th>\n",
       "      <td>1</td>\n",
       "      <td>4</td>\n",
       "      <td>20.4</td>\n",
       "      <td>549</td>\n",
       "      <td>1.250573</td>\n",
       "      <td>0.001048</td>\n",
       "      <td>264.0</td>\n",
       "      <td>1477.0</td>\n",
       "      <td>1363.0</td>\n",
       "      <td>10</td>\n",
       "      <td>...</td>\n",
       "      <td>0</td>\n",
       "      <td>1</td>\n",
       "      <td>0</td>\n",
       "      <td>0</td>\n",
       "      <td>0</td>\n",
       "      <td>0</td>\n",
       "      <td>1</td>\n",
       "      <td>0</td>\n",
       "      <td>0</td>\n",
       "      <td>0</td>\n",
       "    </tr>\n",
       "    <tr>\n",
       "      <th>Order_No_27440</th>\n",
       "      <td>1</td>\n",
       "      <td>20</td>\n",
       "      <td>24.5</td>\n",
       "      <td>549</td>\n",
       "      <td>1.250573</td>\n",
       "      <td>0.001048</td>\n",
       "      <td>13.0</td>\n",
       "      <td>1546.0</td>\n",
       "      <td>381.0</td>\n",
       "      <td>16</td>\n",
       "      <td>...</td>\n",
       "      <td>0</td>\n",
       "      <td>0</td>\n",
       "      <td>1</td>\n",
       "      <td>0</td>\n",
       "      <td>0</td>\n",
       "      <td>1</td>\n",
       "      <td>0</td>\n",
       "      <td>0</td>\n",
       "      <td>0</td>\n",
       "      <td>0</td>\n",
       "    </tr>\n",
       "    <tr>\n",
       "      <th>Order_No_14170</th>\n",
       "      <td>1</td>\n",
       "      <td>6</td>\n",
       "      <td>24.7</td>\n",
       "      <td>549</td>\n",
       "      <td>1.250573</td>\n",
       "      <td>0.001048</td>\n",
       "      <td>1268.0</td>\n",
       "      <td>433.0</td>\n",
       "      <td>786.0</td>\n",
       "      <td>13</td>\n",
       "      <td>...</td>\n",
       "      <td>0</td>\n",
       "      <td>0</td>\n",
       "      <td>0</td>\n",
       "      <td>1</td>\n",
       "      <td>1</td>\n",
       "      <td>0</td>\n",
       "      <td>0</td>\n",
       "      <td>0</td>\n",
       "      <td>0</td>\n",
       "      <td>0</td>\n",
       "    </tr>\n",
       "    <tr>\n",
       "      <th>Order_No_21727</th>\n",
       "      <td>1</td>\n",
       "      <td>18</td>\n",
       "      <td>15.2</td>\n",
       "      <td>549</td>\n",
       "      <td>1.250573</td>\n",
       "      <td>0.001048</td>\n",
       "      <td>19.0</td>\n",
       "      <td>1375.0</td>\n",
       "      <td>202.0</td>\n",
       "      <td>7</td>\n",
       "      <td>...</td>\n",
       "      <td>1</td>\n",
       "      <td>0</td>\n",
       "      <td>0</td>\n",
       "      <td>0</td>\n",
       "      <td>0</td>\n",
       "      <td>0</td>\n",
       "      <td>0</td>\n",
       "      <td>1</td>\n",
       "      <td>0</td>\n",
       "      <td>0</td>\n",
       "    </tr>\n",
       "    <tr>\n",
       "      <th>Order_No_8301</th>\n",
       "      <td>0</td>\n",
       "      <td>7</td>\n",
       "      <td>19.2</td>\n",
       "      <td>549</td>\n",
       "      <td>1.250573</td>\n",
       "      <td>0.001048</td>\n",
       "      <td>86.0</td>\n",
       "      <td>816.0</td>\n",
       "      <td>220.0</td>\n",
       "      <td>10</td>\n",
       "      <td>...</td>\n",
       "      <td>0</td>\n",
       "      <td>0</td>\n",
       "      <td>1</td>\n",
       "      <td>0</td>\n",
       "      <td>0</td>\n",
       "      <td>0</td>\n",
       "      <td>1</td>\n",
       "      <td>0</td>\n",
       "      <td>0</td>\n",
       "      <td>0</td>\n",
       "    </tr>\n",
       "  </tbody>\n",
       "</table>\n",
       "<p>5 rows × 22 columns</p>\n",
       "</div>"
      ],
      "text/plain": [
       "                Platform Type  Distance (KM)  Temperature  No_of_Ratings  \\\n",
       "Order No                                                                   \n",
       "Order_No_4211               1              4         20.4            549   \n",
       "Order_No_27440              1             20         24.5            549   \n",
       "Order_No_14170              1              6         24.7            549   \n",
       "Order_No_21727              1             18         15.2            549   \n",
       "Order_No_8301               0              7         19.2            549   \n",
       "\n",
       "                Delivery Rate  Scaled Rating  placement_to_confirmation_time  \\\n",
       "Order No                                                                       \n",
       "Order_No_4211        1.250573       0.001048                           264.0   \n",
       "Order_No_27440       1.250573       0.001048                            13.0   \n",
       "Order_No_14170       1.250573       0.001048                          1268.0   \n",
       "Order_No_21727       1.250573       0.001048                            19.0   \n",
       "Order_No_8301        1.250573       0.001048                            86.0   \n",
       "\n",
       "                confirmation_to_arrivalpickup_time  \\\n",
       "Order No                                             \n",
       "Order_No_4211                               1477.0   \n",
       "Order_No_27440                              1546.0   \n",
       "Order_No_14170                               433.0   \n",
       "Order_No_21727                              1375.0   \n",
       "Order_No_8301                                816.0   \n",
       "\n",
       "                arrivalpickup_to_pickup_time  pickuphour  ...  \\\n",
       "Order No                                                  ...   \n",
       "Order_No_4211                         1363.0          10  ...   \n",
       "Order_No_27440                         381.0          16  ...   \n",
       "Order_No_14170                         786.0          13  ...   \n",
       "Order_No_21727                         202.0           7  ...   \n",
       "Order_No_8301                          220.0          10  ...   \n",
       "\n",
       "                week_no_1st week  week_no_2nd week  week_no_3rd week  \\\n",
       "Order No                                                               \n",
       "Order_No_4211                  0                 1                 0   \n",
       "Order_No_27440                 0                 0                 1   \n",
       "Order_No_14170                 0                 0                 0   \n",
       "Order_No_21727                 1                 0                 0   \n",
       "Order_No_8301                  0                 0                 1   \n",
       "\n",
       "                week_no_4th week  hour_status_afternoon_offpeakhour  \\\n",
       "Order No                                                              \n",
       "Order_No_4211                  0                                  0   \n",
       "Order_No_27440                 0                                  0   \n",
       "Order_No_14170                 1                                  1   \n",
       "Order_No_21727                 0                                  0   \n",
       "Order_No_8301                  0                                  0   \n",
       "\n",
       "                hour_status_afternoon_peakhour  \\\n",
       "Order No                                         \n",
       "Order_No_4211                                0   \n",
       "Order_No_27440                               1   \n",
       "Order_No_14170                               0   \n",
       "Order_No_21727                               0   \n",
       "Order_No_8301                                0   \n",
       "\n",
       "                hour_status_morning_offpeakhour  hour_status_morning_peakhour  \\\n",
       "Order No                                                                        \n",
       "Order_No_4211                                 1                             0   \n",
       "Order_No_27440                                0                             0   \n",
       "Order_No_14170                                0                             0   \n",
       "Order_No_21727                                0                             1   \n",
       "Order_No_8301                                 1                             0   \n",
       "\n",
       "                hour_status_night_offpeakhour  hour_status_night_peakhour  \n",
       "Order No                                                                   \n",
       "Order_No_4211                               0                           0  \n",
       "Order_No_27440                              0                           0  \n",
       "Order_No_14170                              0                           0  \n",
       "Order_No_21727                              0                           0  \n",
       "Order_No_8301                               0                           0  \n",
       "\n",
       "[5 rows x 22 columns]"
      ]
     },
     "execution_count": 250,
     "metadata": {},
     "output_type": "execute_result"
    }
   ],
   "source": [
    "train_df.head()\n"
   ]
  },
  {
   "cell_type": "code",
   "execution_count": 251,
   "metadata": {},
   "outputs": [
    {
     "data": {
      "text/plain": [
       "Index(['Platform Type', 'Distance (KM)', 'Temperature', 'No_of_Ratings',\n",
       "       'Delivery Rate', 'Scaled Rating', 'placement_to_confirmation_time',\n",
       "       'confirmation_to_arrivalpickup_time', 'arrivalpickup_to_pickup_time',\n",
       "       'pickuphour', 'Personal or Business_1', 'Personal or Business_0',\n",
       "       'week_no_1st week', 'week_no_2nd week', 'week_no_3rd week',\n",
       "       'week_no_4th week', 'hour_status_afternoon_offpeakhour',\n",
       "       'hour_status_afternoon_peakhour', 'hour_status_morning_offpeakhour',\n",
       "       'hour_status_morning_peakhour', 'hour_status_night_offpeakhour',\n",
       "       'hour_status_night_peakhour'],\n",
       "      dtype='object')"
      ]
     },
     "execution_count": 251,
     "metadata": {},
     "output_type": "execute_result"
    }
   ],
   "source": [
    "train_df.columns\n"
   ]
  },
  {
   "cell_type": "code",
   "execution_count": 254,
   "metadata": {},
   "outputs": [
    {
     "data": {
      "text/plain": [
       "Index(['Platform Type', 'Distance (KM)', 'Temperature', 'No_of_Ratings',\n",
       "       'Delivery Rate', 'Scaled Rating', 'placement_to_confirmation_time',\n",
       "       'confirmation_to_arrivalpickup_time', 'arrivalpickup_to_pickup_time',\n",
       "       'Personal or Business_1', 'Personal or Business_0', 'week_no_1st week',\n",
       "       'week_no_2nd week', 'week_no_3rd week', 'week_no_4th week',\n",
       "       'hour_status_afternoon_offpeakhour', 'hour_status_afternoon_peakhour',\n",
       "       'hour_status_morning_offpeakhour', 'hour_status_morning_peakhour',\n",
       "       'hour_status_night_offpeakhour', 'hour_status_night_peakhour'],\n",
       "      dtype='object')"
      ]
     },
     "execution_count": 254,
     "metadata": {},
     "output_type": "execute_result"
    }
   ],
   "source": [
    "train_df.columns\n"
   ]
  },
  {
   "cell_type": "code",
   "execution_count": null,
   "metadata": {},
   "outputs": [],
   "source": [
    "#Feature Encoding Train_df\n",
    "\n",
    "oce = ce.OneHotEncoder(['hour_status', 'week_no'])\n",
    "\n",
    "X_train = oce.fit_transform(X_train,y_train)\n",
    "\n",
    "#X_train = oce.transform(X_train)\n"
   ]
  },
  {
   "cell_type": "code",
   "execution_count": 59,
   "metadata": {},
   "outputs": [
    {
     "data": {
      "text/html": [
       "<div>\n",
       "<style scoped>\n",
       "    .dataframe tbody tr th:only-of-type {\n",
       "        vertical-align: middle;\n",
       "    }\n",
       "\n",
       "    .dataframe tbody tr th {\n",
       "        vertical-align: top;\n",
       "    }\n",
       "\n",
       "    .dataframe thead th {\n",
       "        text-align: right;\n",
       "    }\n",
       "</style>\n",
       "<table border=\"1\" class=\"dataframe\">\n",
       "  <thead>\n",
       "    <tr style=\"text-align: right;\">\n",
       "      <th></th>\n",
       "      <th>Platform Type_1</th>\n",
       "      <th>Platform Type_2</th>\n",
       "      <th>Platform Type_3</th>\n",
       "      <th>Platform Type_4</th>\n",
       "      <th>Personal or Business_1</th>\n",
       "      <th>Personal or Business_2</th>\n",
       "      <th>Distance (KM)</th>\n",
       "      <th>Temperature</th>\n",
       "      <th>No_of_Ratings</th>\n",
       "      <th>Delivery Rate</th>\n",
       "      <th>...</th>\n",
       "      <th>week_no_2</th>\n",
       "      <th>week_no_3</th>\n",
       "      <th>week_no_4</th>\n",
       "      <th>pickuphour</th>\n",
       "      <th>hour_status_1</th>\n",
       "      <th>hour_status_2</th>\n",
       "      <th>hour_status_3</th>\n",
       "      <th>hour_status_4</th>\n",
       "      <th>hour_status_5</th>\n",
       "      <th>hour_status_6</th>\n",
       "    </tr>\n",
       "    <tr>\n",
       "      <th>Order No</th>\n",
       "      <th></th>\n",
       "      <th></th>\n",
       "      <th></th>\n",
       "      <th></th>\n",
       "      <th></th>\n",
       "      <th></th>\n",
       "      <th></th>\n",
       "      <th></th>\n",
       "      <th></th>\n",
       "      <th></th>\n",
       "      <th></th>\n",
       "      <th></th>\n",
       "      <th></th>\n",
       "      <th></th>\n",
       "      <th></th>\n",
       "      <th></th>\n",
       "      <th></th>\n",
       "      <th></th>\n",
       "      <th></th>\n",
       "      <th></th>\n",
       "      <th></th>\n",
       "    </tr>\n",
       "  </thead>\n",
       "  <tbody>\n",
       "    <tr>\n",
       "      <th>Order_No_4211</th>\n",
       "      <td>1</td>\n",
       "      <td>0</td>\n",
       "      <td>0</td>\n",
       "      <td>0</td>\n",
       "      <td>1</td>\n",
       "      <td>0</td>\n",
       "      <td>4</td>\n",
       "      <td>20.4</td>\n",
       "      <td>549</td>\n",
       "      <td>1.250573</td>\n",
       "      <td>...</td>\n",
       "      <td>0</td>\n",
       "      <td>0</td>\n",
       "      <td>0</td>\n",
       "      <td>10</td>\n",
       "      <td>1</td>\n",
       "      <td>0</td>\n",
       "      <td>0</td>\n",
       "      <td>0</td>\n",
       "      <td>0</td>\n",
       "      <td>0</td>\n",
       "    </tr>\n",
       "    <tr>\n",
       "      <th>Order_No_27440</th>\n",
       "      <td>1</td>\n",
       "      <td>0</td>\n",
       "      <td>0</td>\n",
       "      <td>0</td>\n",
       "      <td>0</td>\n",
       "      <td>1</td>\n",
       "      <td>20</td>\n",
       "      <td>24.5</td>\n",
       "      <td>549</td>\n",
       "      <td>1.250573</td>\n",
       "      <td>...</td>\n",
       "      <td>1</td>\n",
       "      <td>0</td>\n",
       "      <td>0</td>\n",
       "      <td>16</td>\n",
       "      <td>0</td>\n",
       "      <td>1</td>\n",
       "      <td>0</td>\n",
       "      <td>0</td>\n",
       "      <td>0</td>\n",
       "      <td>0</td>\n",
       "    </tr>\n",
       "    <tr>\n",
       "      <th>Order_No_14170</th>\n",
       "      <td>1</td>\n",
       "      <td>0</td>\n",
       "      <td>0</td>\n",
       "      <td>0</td>\n",
       "      <td>1</td>\n",
       "      <td>0</td>\n",
       "      <td>6</td>\n",
       "      <td>24.7</td>\n",
       "      <td>549</td>\n",
       "      <td>1.250573</td>\n",
       "      <td>...</td>\n",
       "      <td>0</td>\n",
       "      <td>1</td>\n",
       "      <td>0</td>\n",
       "      <td>13</td>\n",
       "      <td>0</td>\n",
       "      <td>0</td>\n",
       "      <td>1</td>\n",
       "      <td>0</td>\n",
       "      <td>0</td>\n",
       "      <td>0</td>\n",
       "    </tr>\n",
       "    <tr>\n",
       "      <th>Order_No_21727</th>\n",
       "      <td>1</td>\n",
       "      <td>0</td>\n",
       "      <td>0</td>\n",
       "      <td>0</td>\n",
       "      <td>0</td>\n",
       "      <td>1</td>\n",
       "      <td>18</td>\n",
       "      <td>15.2</td>\n",
       "      <td>549</td>\n",
       "      <td>1.250573</td>\n",
       "      <td>...</td>\n",
       "      <td>0</td>\n",
       "      <td>0</td>\n",
       "      <td>1</td>\n",
       "      <td>7</td>\n",
       "      <td>0</td>\n",
       "      <td>0</td>\n",
       "      <td>0</td>\n",
       "      <td>1</td>\n",
       "      <td>0</td>\n",
       "      <td>0</td>\n",
       "    </tr>\n",
       "    <tr>\n",
       "      <th>Order_No_8301</th>\n",
       "      <td>0</td>\n",
       "      <td>1</td>\n",
       "      <td>0</td>\n",
       "      <td>0</td>\n",
       "      <td>0</td>\n",
       "      <td>1</td>\n",
       "      <td>7</td>\n",
       "      <td>19.2</td>\n",
       "      <td>549</td>\n",
       "      <td>1.250573</td>\n",
       "      <td>...</td>\n",
       "      <td>1</td>\n",
       "      <td>0</td>\n",
       "      <td>0</td>\n",
       "      <td>10</td>\n",
       "      <td>1</td>\n",
       "      <td>0</td>\n",
       "      <td>0</td>\n",
       "      <td>0</td>\n",
       "      <td>0</td>\n",
       "      <td>0</td>\n",
       "    </tr>\n",
       "  </tbody>\n",
       "</table>\n",
       "<p>5 rows × 25 columns</p>\n",
       "</div>"
      ],
      "text/plain": [
       "                Platform Type_1  Platform Type_2  Platform Type_3  \\\n",
       "Order No                                                            \n",
       "Order_No_4211                 1                0                0   \n",
       "Order_No_27440                1                0                0   \n",
       "Order_No_14170                1                0                0   \n",
       "Order_No_21727                1                0                0   \n",
       "Order_No_8301                 0                1                0   \n",
       "\n",
       "                Platform Type_4  Personal or Business_1  \\\n",
       "Order No                                                  \n",
       "Order_No_4211                 0                       1   \n",
       "Order_No_27440                0                       0   \n",
       "Order_No_14170                0                       1   \n",
       "Order_No_21727                0                       0   \n",
       "Order_No_8301                 0                       0   \n",
       "\n",
       "                Personal or Business_2  Distance (KM)  Temperature  \\\n",
       "Order No                                                             \n",
       "Order_No_4211                        0              4         20.4   \n",
       "Order_No_27440                       1             20         24.5   \n",
       "Order_No_14170                       0              6         24.7   \n",
       "Order_No_21727                       1             18         15.2   \n",
       "Order_No_8301                        1              7         19.2   \n",
       "\n",
       "                No_of_Ratings  Delivery Rate  ...  week_no_2  week_no_3  \\\n",
       "Order No                                      ...                         \n",
       "Order_No_4211             549       1.250573  ...          0          0   \n",
       "Order_No_27440            549       1.250573  ...          1          0   \n",
       "Order_No_14170            549       1.250573  ...          0          1   \n",
       "Order_No_21727            549       1.250573  ...          0          0   \n",
       "Order_No_8301             549       1.250573  ...          1          0   \n",
       "\n",
       "                week_no_4  pickuphour  hour_status_1  hour_status_2  \\\n",
       "Order No                                                              \n",
       "Order_No_4211           0          10              1              0   \n",
       "Order_No_27440          0          16              0              1   \n",
       "Order_No_14170          0          13              0              0   \n",
       "Order_No_21727          1           7              0              0   \n",
       "Order_No_8301           0          10              1              0   \n",
       "\n",
       "                hour_status_3  hour_status_4  hour_status_5  hour_status_6  \n",
       "Order No                                                                    \n",
       "Order_No_4211               0              0              0              0  \n",
       "Order_No_27440              0              0              0              0  \n",
       "Order_No_14170              1              0              0              0  \n",
       "Order_No_21727              0              1              0              0  \n",
       "Order_No_8301               0              0              0              0  \n",
       "\n",
       "[5 rows x 25 columns]"
      ]
     },
     "execution_count": 59,
     "metadata": {},
     "output_type": "execute_result"
    }
   ],
   "source": [
    "X_train.head()\n"
   ]
  },
  {
   "cell_type": "code",
   "execution_count": 60,
   "metadata": {},
   "outputs": [],
   "source": [
    "#Feature Encoding test_df \n",
    "\n",
    "oce = ce.OneHotEncoder(['hour_status', 'week_no'])\n",
    "\n",
    "\n",
    "X_data_test = oce.fit_transform(X_data_test)\n"
   ]
  },
  {
   "cell_type": "code",
   "execution_count": 61,
   "metadata": {},
   "outputs": [
    {
     "data": {
      "text/html": [
       "<div>\n",
       "<style scoped>\n",
       "    .dataframe tbody tr th:only-of-type {\n",
       "        vertical-align: middle;\n",
       "    }\n",
       "\n",
       "    .dataframe tbody tr th {\n",
       "        vertical-align: top;\n",
       "    }\n",
       "\n",
       "    .dataframe thead th {\n",
       "        text-align: right;\n",
       "    }\n",
       "</style>\n",
       "<table border=\"1\" class=\"dataframe\">\n",
       "  <thead>\n",
       "    <tr style=\"text-align: right;\">\n",
       "      <th></th>\n",
       "      <th>Platform Type_1</th>\n",
       "      <th>Platform Type_2</th>\n",
       "      <th>Platform Type_3</th>\n",
       "      <th>Platform Type_4</th>\n",
       "      <th>Personal or Business_1</th>\n",
       "      <th>Personal or Business_2</th>\n",
       "      <th>Distance (KM)</th>\n",
       "      <th>Temperature</th>\n",
       "      <th>No_of_Ratings</th>\n",
       "      <th>Delivery Rate</th>\n",
       "      <th>...</th>\n",
       "      <th>week_no_2</th>\n",
       "      <th>week_no_3</th>\n",
       "      <th>week_no_4</th>\n",
       "      <th>pickuphour</th>\n",
       "      <th>hour_status_1</th>\n",
       "      <th>hour_status_2</th>\n",
       "      <th>hour_status_3</th>\n",
       "      <th>hour_status_4</th>\n",
       "      <th>hour_status_5</th>\n",
       "      <th>hour_status_6</th>\n",
       "    </tr>\n",
       "    <tr>\n",
       "      <th>Order No</th>\n",
       "      <th></th>\n",
       "      <th></th>\n",
       "      <th></th>\n",
       "      <th></th>\n",
       "      <th></th>\n",
       "      <th></th>\n",
       "      <th></th>\n",
       "      <th></th>\n",
       "      <th></th>\n",
       "      <th></th>\n",
       "      <th></th>\n",
       "      <th></th>\n",
       "      <th></th>\n",
       "      <th></th>\n",
       "      <th></th>\n",
       "      <th></th>\n",
       "      <th></th>\n",
       "      <th></th>\n",
       "      <th></th>\n",
       "      <th></th>\n",
       "      <th></th>\n",
       "    </tr>\n",
       "  </thead>\n",
       "  <tbody>\n",
       "    <tr>\n",
       "      <th>Order_No_19248</th>\n",
       "      <td>1</td>\n",
       "      <td>0</td>\n",
       "      <td>0</td>\n",
       "      <td>0</td>\n",
       "      <td>1</td>\n",
       "      <td>0</td>\n",
       "      <td>8</td>\n",
       "      <td>23.24612</td>\n",
       "      <td>171</td>\n",
       "      <td>0.290536</td>\n",
       "      <td>...</td>\n",
       "      <td>0</td>\n",
       "      <td>0</td>\n",
       "      <td>0</td>\n",
       "      <td>17</td>\n",
       "      <td>1</td>\n",
       "      <td>0</td>\n",
       "      <td>0</td>\n",
       "      <td>0</td>\n",
       "      <td>0</td>\n",
       "      <td>0</td>\n",
       "    </tr>\n",
       "    <tr>\n",
       "      <th>Order_No_2699</th>\n",
       "      <td>0</td>\n",
       "      <td>1</td>\n",
       "      <td>0</td>\n",
       "      <td>0</td>\n",
       "      <td>0</td>\n",
       "      <td>1</td>\n",
       "      <td>19</td>\n",
       "      <td>23.24612</td>\n",
       "      <td>171</td>\n",
       "      <td>0.290536</td>\n",
       "      <td>...</td>\n",
       "      <td>0</td>\n",
       "      <td>0</td>\n",
       "      <td>0</td>\n",
       "      <td>15</td>\n",
       "      <td>0</td>\n",
       "      <td>1</td>\n",
       "      <td>0</td>\n",
       "      <td>0</td>\n",
       "      <td>0</td>\n",
       "      <td>0</td>\n",
       "    </tr>\n",
       "    <tr>\n",
       "      <th>Order_No_21486</th>\n",
       "      <td>1</td>\n",
       "      <td>0</td>\n",
       "      <td>0</td>\n",
       "      <td>0</td>\n",
       "      <td>1</td>\n",
       "      <td>0</td>\n",
       "      <td>9</td>\n",
       "      <td>19.70000</td>\n",
       "      <td>171</td>\n",
       "      <td>0.290536</td>\n",
       "      <td>...</td>\n",
       "      <td>0</td>\n",
       "      <td>0</td>\n",
       "      <td>0</td>\n",
       "      <td>12</td>\n",
       "      <td>0</td>\n",
       "      <td>0</td>\n",
       "      <td>1</td>\n",
       "      <td>0</td>\n",
       "      <td>0</td>\n",
       "      <td>0</td>\n",
       "    </tr>\n",
       "    <tr>\n",
       "      <th>Order_No_19336</th>\n",
       "      <td>1</td>\n",
       "      <td>0</td>\n",
       "      <td>0</td>\n",
       "      <td>0</td>\n",
       "      <td>1</td>\n",
       "      <td>0</td>\n",
       "      <td>15</td>\n",
       "      <td>16.40000</td>\n",
       "      <td>171</td>\n",
       "      <td>0.290536</td>\n",
       "      <td>...</td>\n",
       "      <td>1</td>\n",
       "      <td>0</td>\n",
       "      <td>0</td>\n",
       "      <td>10</td>\n",
       "      <td>0</td>\n",
       "      <td>0</td>\n",
       "      <td>1</td>\n",
       "      <td>0</td>\n",
       "      <td>0</td>\n",
       "      <td>0</td>\n",
       "    </tr>\n",
       "    <tr>\n",
       "      <th>Order_No_20374</th>\n",
       "      <td>1</td>\n",
       "      <td>0</td>\n",
       "      <td>0</td>\n",
       "      <td>0</td>\n",
       "      <td>1</td>\n",
       "      <td>0</td>\n",
       "      <td>15</td>\n",
       "      <td>21.30000</td>\n",
       "      <td>171</td>\n",
       "      <td>0.290536</td>\n",
       "      <td>...</td>\n",
       "      <td>0</td>\n",
       "      <td>1</td>\n",
       "      <td>0</td>\n",
       "      <td>13</td>\n",
       "      <td>0</td>\n",
       "      <td>1</td>\n",
       "      <td>0</td>\n",
       "      <td>0</td>\n",
       "      <td>0</td>\n",
       "      <td>0</td>\n",
       "    </tr>\n",
       "  </tbody>\n",
       "</table>\n",
       "<p>5 rows × 25 columns</p>\n",
       "</div>"
      ],
      "text/plain": [
       "                Platform Type_1  Platform Type_2  Platform Type_3  \\\n",
       "Order No                                                            \n",
       "Order_No_19248                1                0                0   \n",
       "Order_No_2699                 0                1                0   \n",
       "Order_No_21486                1                0                0   \n",
       "Order_No_19336                1                0                0   \n",
       "Order_No_20374                1                0                0   \n",
       "\n",
       "                Platform Type_4  Personal or Business_1  \\\n",
       "Order No                                                  \n",
       "Order_No_19248                0                       1   \n",
       "Order_No_2699                 0                       0   \n",
       "Order_No_21486                0                       1   \n",
       "Order_No_19336                0                       1   \n",
       "Order_No_20374                0                       1   \n",
       "\n",
       "                Personal or Business_2  Distance (KM)  Temperature  \\\n",
       "Order No                                                             \n",
       "Order_No_19248                       0              8     23.24612   \n",
       "Order_No_2699                        1             19     23.24612   \n",
       "Order_No_21486                       0              9     19.70000   \n",
       "Order_No_19336                       0             15     16.40000   \n",
       "Order_No_20374                       0             15     21.30000   \n",
       "\n",
       "                No_of_Ratings  Delivery Rate  ...  week_no_2  week_no_3  \\\n",
       "Order No                                      ...                         \n",
       "Order_No_19248            171       0.290536  ...          0          0   \n",
       "Order_No_2699             171       0.290536  ...          0          0   \n",
       "Order_No_21486            171       0.290536  ...          0          0   \n",
       "Order_No_19336            171       0.290536  ...          1          0   \n",
       "Order_No_20374            171       0.290536  ...          0          1   \n",
       "\n",
       "                week_no_4  pickuphour  hour_status_1  hour_status_2  \\\n",
       "Order No                                                              \n",
       "Order_No_19248          0          17              1              0   \n",
       "Order_No_2699           0          15              0              1   \n",
       "Order_No_21486          0          12              0              0   \n",
       "Order_No_19336          0          10              0              0   \n",
       "Order_No_20374          0          13              0              1   \n",
       "\n",
       "                hour_status_3  hour_status_4  hour_status_5  hour_status_6  \n",
       "Order No                                                                    \n",
       "Order_No_19248              0              0              0              0  \n",
       "Order_No_2699               0              0              0              0  \n",
       "Order_No_21486              1              0              0              0  \n",
       "Order_No_19336              1              0              0              0  \n",
       "Order_No_20374              0              0              0              0  \n",
       "\n",
       "[5 rows x 25 columns]"
      ]
     },
     "execution_count": 61,
     "metadata": {},
     "output_type": "execute_result"
    }
   ],
   "source": [
    "X_data_test.head()\n"
   ]
  },
  {
   "cell_type": "code",
   "execution_count": 62,
   "metadata": {
    "scrolled": false
   },
   "outputs": [
    {
     "data": {
      "text/html": [
       "<div>\n",
       "<style scoped>\n",
       "    .dataframe tbody tr th:only-of-type {\n",
       "        vertical-align: middle;\n",
       "    }\n",
       "\n",
       "    .dataframe tbody tr th {\n",
       "        vertical-align: top;\n",
       "    }\n",
       "\n",
       "    .dataframe thead th {\n",
       "        text-align: right;\n",
       "    }\n",
       "</style>\n",
       "<table border=\"1\" class=\"dataframe\">\n",
       "  <thead>\n",
       "    <tr style=\"text-align: right;\">\n",
       "      <th></th>\n",
       "      <th>Variable_Name</th>\n",
       "      <th>Variance</th>\n",
       "    </tr>\n",
       "  </thead>\n",
       "  <tbody>\n",
       "    <tr>\n",
       "      <th>19</th>\n",
       "      <td>19</td>\n",
       "      <td>0.233206</td>\n",
       "    </tr>\n",
       "    <tr>\n",
       "      <th>21</th>\n",
       "      <td>21</td>\n",
       "      <td>0.230711</td>\n",
       "    </tr>\n",
       "    <tr>\n",
       "      <th>16</th>\n",
       "      <td>16</td>\n",
       "      <td>0.198517</td>\n",
       "    </tr>\n",
       "    <tr>\n",
       "      <th>14</th>\n",
       "      <td>14</td>\n",
       "      <td>0.186476</td>\n",
       "    </tr>\n",
       "    <tr>\n",
       "      <th>15</th>\n",
       "      <td>15</td>\n",
       "      <td>0.185593</td>\n",
       "    </tr>\n",
       "    <tr>\n",
       "      <th>17</th>\n",
       "      <td>17</td>\n",
       "      <td>0.178564</td>\n",
       "    </tr>\n",
       "    <tr>\n",
       "      <th>4</th>\n",
       "      <td>4</td>\n",
       "      <td>0.147625</td>\n",
       "    </tr>\n",
       "    <tr>\n",
       "      <th>5</th>\n",
       "      <td>5</td>\n",
       "      <td>0.147625</td>\n",
       "    </tr>\n",
       "    <tr>\n",
       "      <th>20</th>\n",
       "      <td>20</td>\n",
       "      <td>0.136184</td>\n",
       "    </tr>\n",
       "    <tr>\n",
       "      <th>0</th>\n",
       "      <td>0</td>\n",
       "      <td>0.126403</td>\n",
       "    </tr>\n",
       "    <tr>\n",
       "      <th>2</th>\n",
       "      <td>2</td>\n",
       "      <td>0.091013</td>\n",
       "    </tr>\n",
       "    <tr>\n",
       "      <th>22</th>\n",
       "      <td>22</td>\n",
       "      <td>0.086391</td>\n",
       "    </tr>\n",
       "    <tr>\n",
       "      <th>1</th>\n",
       "      <td>1</td>\n",
       "      <td>0.044088</td>\n",
       "    </tr>\n",
       "    <tr>\n",
       "      <th>8</th>\n",
       "      <td>8</td>\n",
       "      <td>0.030733</td>\n",
       "    </tr>\n",
       "    <tr>\n",
       "      <th>10</th>\n",
       "      <td>10</td>\n",
       "      <td>0.030041</td>\n",
       "    </tr>\n",
       "    <tr>\n",
       "      <th>7</th>\n",
       "      <td>7</td>\n",
       "      <td>0.023765</td>\n",
       "    </tr>\n",
       "    <tr>\n",
       "      <th>13</th>\n",
       "      <td>13</td>\n",
       "      <td>0.016505</td>\n",
       "    </tr>\n",
       "    <tr>\n",
       "      <th>6</th>\n",
       "      <td>6</td>\n",
       "      <td>0.013948</td>\n",
       "    </tr>\n",
       "    <tr>\n",
       "      <th>9</th>\n",
       "      <td>9</td>\n",
       "      <td>0.012385</td>\n",
       "    </tr>\n",
       "    <tr>\n",
       "      <th>18</th>\n",
       "      <td>18</td>\n",
       "      <td>0.012308</td>\n",
       "    </tr>\n",
       "    <tr>\n",
       "      <th>12</th>\n",
       "      <td>12</td>\n",
       "      <td>0.011642</td>\n",
       "    </tr>\n",
       "    <tr>\n",
       "      <th>23</th>\n",
       "      <td>23</td>\n",
       "      <td>0.009946</td>\n",
       "    </tr>\n",
       "    <tr>\n",
       "      <th>11</th>\n",
       "      <td>11</td>\n",
       "      <td>0.002871</td>\n",
       "    </tr>\n",
       "    <tr>\n",
       "      <th>3</th>\n",
       "      <td>3</td>\n",
       "      <td>0.000942</td>\n",
       "    </tr>\n",
       "    <tr>\n",
       "      <th>24</th>\n",
       "      <td>24</td>\n",
       "      <td>0.000283</td>\n",
       "    </tr>\n",
       "  </tbody>\n",
       "</table>\n",
       "</div>"
      ],
      "text/plain": [
       "    Variable_Name  Variance\n",
       "19             19  0.233206\n",
       "21             21  0.230711\n",
       "16             16  0.198517\n",
       "14             14  0.186476\n",
       "15             15  0.185593\n",
       "17             17  0.178564\n",
       "4               4  0.147625\n",
       "5               5  0.147625\n",
       "20             20  0.136184\n",
       "0               0  0.126403\n",
       "2               2  0.091013\n",
       "22             22  0.086391\n",
       "1               1  0.044088\n",
       "8               8  0.030733\n",
       "10             10  0.030041\n",
       "7               7  0.023765\n",
       "13             13  0.016505\n",
       "6               6  0.013948\n",
       "9               9  0.012385\n",
       "18             18  0.012308\n",
       "12             12  0.011642\n",
       "23             23  0.009946\n",
       "11             11  0.002871\n",
       "3               3  0.000942\n",
       "24             24  0.000283"
      ]
     },
     "execution_count": 62,
     "metadata": {},
     "output_type": "execute_result"
    }
   ],
   "source": [
    "#Normalizing the training data\n",
    "X_data = X_train\n",
    "scaler = MinMaxScaler()\n",
    "X_scaled = scaler.fit_transform(X_data)\n",
    "X_normalize = pd.DataFrame(X_scaled)\n",
    "\n",
    "\n",
    "# Create VarianceThreshold object\n",
    "selector = VarianceThreshold(threshold=0.05)\n",
    "\n",
    "# Use the object to apply the threshold on data\n",
    "selector.fit(X_normalize)\n",
    "\n",
    "# Get column variances\n",
    "column_variances = selector.variances_\n",
    "\n",
    "vars_dict = {}\n",
    "vars_dict = [{\"Variable_Name\": c_name, \"Variance\": c_var}\n",
    "             for c_name, c_var in zip(X_normalize.columns, column_variances)]\n",
    "df_vars = pd.DataFrame(vars_dict)\n",
    "df_vars.sort_values(by='Variance', ascending=False)\n"
   ]
  },
  {
   "cell_type": "code",
   "execution_count": 63,
   "metadata": {},
   "outputs": [],
   "source": [
    "#Normalizing the test data\n",
    "scalerr = MinMaxScaler()\n",
    "X_scaledr = scalerr.fit_transform(X_data_test)\n",
    "X_normalize_test = pd.DataFrame(X_scaledr)\n"
   ]
  },
  {
   "cell_type": "code",
   "execution_count": 64,
   "metadata": {},
   "outputs": [
    {
     "data": {
      "text/plain": [
       "(7068, 25)"
      ]
     },
     "execution_count": 64,
     "metadata": {},
     "output_type": "execute_result"
    }
   ],
   "source": [
    "X_normalize_test.shape\n"
   ]
  },
  {
   "cell_type": "code",
   "execution_count": 65,
   "metadata": {},
   "outputs": [
    {
     "data": {
      "text/html": [
       "<div>\n",
       "<style scoped>\n",
       "    .dataframe tbody tr th:only-of-type {\n",
       "        vertical-align: middle;\n",
       "    }\n",
       "\n",
       "    .dataframe tbody tr th {\n",
       "        vertical-align: top;\n",
       "    }\n",
       "\n",
       "    .dataframe thead th {\n",
       "        text-align: right;\n",
       "    }\n",
       "</style>\n",
       "<table border=\"1\" class=\"dataframe\">\n",
       "  <thead>\n",
       "    <tr style=\"text-align: right;\">\n",
       "      <th></th>\n",
       "      <th>0</th>\n",
       "      <th>1</th>\n",
       "      <th>2</th>\n",
       "      <th>3</th>\n",
       "      <th>4</th>\n",
       "      <th>5</th>\n",
       "      <th>6</th>\n",
       "      <th>7</th>\n",
       "      <th>8</th>\n",
       "      <th>9</th>\n",
       "      <th>...</th>\n",
       "      <th>15</th>\n",
       "      <th>16</th>\n",
       "      <th>17</th>\n",
       "      <th>18</th>\n",
       "      <th>19</th>\n",
       "      <th>20</th>\n",
       "      <th>21</th>\n",
       "      <th>22</th>\n",
       "      <th>23</th>\n",
       "      <th>24</th>\n",
       "    </tr>\n",
       "  </thead>\n",
       "  <tbody>\n",
       "    <tr>\n",
       "      <th>0</th>\n",
       "      <td>1.0</td>\n",
       "      <td>0.0</td>\n",
       "      <td>0.0</td>\n",
       "      <td>0.0</td>\n",
       "      <td>1.0</td>\n",
       "      <td>0.0</td>\n",
       "      <td>0.062500</td>\n",
       "      <td>0.440191</td>\n",
       "      <td>0.238903</td>\n",
       "      <td>0.124996</td>\n",
       "      <td>...</td>\n",
       "      <td>0.0</td>\n",
       "      <td>0.0</td>\n",
       "      <td>0.0</td>\n",
       "      <td>0.434783</td>\n",
       "      <td>1.0</td>\n",
       "      <td>0.0</td>\n",
       "      <td>0.0</td>\n",
       "      <td>0.0</td>\n",
       "      <td>0.0</td>\n",
       "      <td>0.0</td>\n",
       "    </tr>\n",
       "    <tr>\n",
       "      <th>1</th>\n",
       "      <td>1.0</td>\n",
       "      <td>0.0</td>\n",
       "      <td>0.0</td>\n",
       "      <td>0.0</td>\n",
       "      <td>0.0</td>\n",
       "      <td>1.0</td>\n",
       "      <td>0.395833</td>\n",
       "      <td>0.636364</td>\n",
       "      <td>0.238903</td>\n",
       "      <td>0.124996</td>\n",
       "      <td>...</td>\n",
       "      <td>1.0</td>\n",
       "      <td>0.0</td>\n",
       "      <td>0.0</td>\n",
       "      <td>0.695652</td>\n",
       "      <td>0.0</td>\n",
       "      <td>1.0</td>\n",
       "      <td>0.0</td>\n",
       "      <td>0.0</td>\n",
       "      <td>0.0</td>\n",
       "      <td>0.0</td>\n",
       "    </tr>\n",
       "    <tr>\n",
       "      <th>2</th>\n",
       "      <td>1.0</td>\n",
       "      <td>0.0</td>\n",
       "      <td>0.0</td>\n",
       "      <td>0.0</td>\n",
       "      <td>1.0</td>\n",
       "      <td>0.0</td>\n",
       "      <td>0.104167</td>\n",
       "      <td>0.645933</td>\n",
       "      <td>0.238903</td>\n",
       "      <td>0.124996</td>\n",
       "      <td>...</td>\n",
       "      <td>0.0</td>\n",
       "      <td>1.0</td>\n",
       "      <td>0.0</td>\n",
       "      <td>0.565217</td>\n",
       "      <td>0.0</td>\n",
       "      <td>0.0</td>\n",
       "      <td>1.0</td>\n",
       "      <td>0.0</td>\n",
       "      <td>0.0</td>\n",
       "      <td>0.0</td>\n",
       "    </tr>\n",
       "    <tr>\n",
       "      <th>3</th>\n",
       "      <td>1.0</td>\n",
       "      <td>0.0</td>\n",
       "      <td>0.0</td>\n",
       "      <td>0.0</td>\n",
       "      <td>0.0</td>\n",
       "      <td>1.0</td>\n",
       "      <td>0.354167</td>\n",
       "      <td>0.191388</td>\n",
       "      <td>0.238903</td>\n",
       "      <td>0.124996</td>\n",
       "      <td>...</td>\n",
       "      <td>0.0</td>\n",
       "      <td>0.0</td>\n",
       "      <td>1.0</td>\n",
       "      <td>0.304348</td>\n",
       "      <td>0.0</td>\n",
       "      <td>0.0</td>\n",
       "      <td>0.0</td>\n",
       "      <td>1.0</td>\n",
       "      <td>0.0</td>\n",
       "      <td>0.0</td>\n",
       "    </tr>\n",
       "    <tr>\n",
       "      <th>4</th>\n",
       "      <td>0.0</td>\n",
       "      <td>1.0</td>\n",
       "      <td>0.0</td>\n",
       "      <td>0.0</td>\n",
       "      <td>0.0</td>\n",
       "      <td>1.0</td>\n",
       "      <td>0.125000</td>\n",
       "      <td>0.382775</td>\n",
       "      <td>0.238903</td>\n",
       "      <td>0.124996</td>\n",
       "      <td>...</td>\n",
       "      <td>1.0</td>\n",
       "      <td>0.0</td>\n",
       "      <td>0.0</td>\n",
       "      <td>0.434783</td>\n",
       "      <td>1.0</td>\n",
       "      <td>0.0</td>\n",
       "      <td>0.0</td>\n",
       "      <td>0.0</td>\n",
       "      <td>0.0</td>\n",
       "      <td>0.0</td>\n",
       "    </tr>\n",
       "    <tr>\n",
       "      <th>...</th>\n",
       "      <td>...</td>\n",
       "      <td>...</td>\n",
       "      <td>...</td>\n",
       "      <td>...</td>\n",
       "      <td>...</td>\n",
       "      <td>...</td>\n",
       "      <td>...</td>\n",
       "      <td>...</td>\n",
       "      <td>...</td>\n",
       "      <td>...</td>\n",
       "      <td>...</td>\n",
       "      <td>...</td>\n",
       "      <td>...</td>\n",
       "      <td>...</td>\n",
       "      <td>...</td>\n",
       "      <td>...</td>\n",
       "      <td>...</td>\n",
       "      <td>...</td>\n",
       "      <td>...</td>\n",
       "      <td>...</td>\n",
       "      <td>...</td>\n",
       "    </tr>\n",
       "    <tr>\n",
       "      <th>21196</th>\n",
       "      <td>1.0</td>\n",
       "      <td>0.0</td>\n",
       "      <td>0.0</td>\n",
       "      <td>0.0</td>\n",
       "      <td>1.0</td>\n",
       "      <td>0.0</td>\n",
       "      <td>0.041667</td>\n",
       "      <td>0.526316</td>\n",
       "      <td>0.959530</td>\n",
       "      <td>0.322197</td>\n",
       "      <td>...</td>\n",
       "      <td>0.0</td>\n",
       "      <td>0.0</td>\n",
       "      <td>0.0</td>\n",
       "      <td>0.478261</td>\n",
       "      <td>1.0</td>\n",
       "      <td>0.0</td>\n",
       "      <td>0.0</td>\n",
       "      <td>0.0</td>\n",
       "      <td>0.0</td>\n",
       "      <td>0.0</td>\n",
       "    </tr>\n",
       "    <tr>\n",
       "      <th>21197</th>\n",
       "      <td>1.0</td>\n",
       "      <td>0.0</td>\n",
       "      <td>0.0</td>\n",
       "      <td>0.0</td>\n",
       "      <td>0.0</td>\n",
       "      <td>1.0</td>\n",
       "      <td>0.104167</td>\n",
       "      <td>0.416268</td>\n",
       "      <td>0.013925</td>\n",
       "      <td>0.011363</td>\n",
       "      <td>...</td>\n",
       "      <td>1.0</td>\n",
       "      <td>0.0</td>\n",
       "      <td>0.0</td>\n",
       "      <td>0.739130</td>\n",
       "      <td>0.0</td>\n",
       "      <td>1.0</td>\n",
       "      <td>0.0</td>\n",
       "      <td>0.0</td>\n",
       "      <td>0.0</td>\n",
       "      <td>0.0</td>\n",
       "    </tr>\n",
       "    <tr>\n",
       "      <th>21198</th>\n",
       "      <td>1.0</td>\n",
       "      <td>0.0</td>\n",
       "      <td>0.0</td>\n",
       "      <td>0.0</td>\n",
       "      <td>1.0</td>\n",
       "      <td>0.0</td>\n",
       "      <td>0.125000</td>\n",
       "      <td>0.373206</td>\n",
       "      <td>0.000000</td>\n",
       "      <td>0.004425</td>\n",
       "      <td>...</td>\n",
       "      <td>0.0</td>\n",
       "      <td>0.0</td>\n",
       "      <td>0.0</td>\n",
       "      <td>0.782609</td>\n",
       "      <td>0.0</td>\n",
       "      <td>1.0</td>\n",
       "      <td>0.0</td>\n",
       "      <td>0.0</td>\n",
       "      <td>0.0</td>\n",
       "      <td>0.0</td>\n",
       "    </tr>\n",
       "    <tr>\n",
       "      <th>21199</th>\n",
       "      <td>1.0</td>\n",
       "      <td>0.0</td>\n",
       "      <td>0.0</td>\n",
       "      <td>0.0</td>\n",
       "      <td>1.0</td>\n",
       "      <td>0.0</td>\n",
       "      <td>0.020833</td>\n",
       "      <td>0.755981</td>\n",
       "      <td>0.000870</td>\n",
       "      <td>0.000771</td>\n",
       "      <td>...</td>\n",
       "      <td>0.0</td>\n",
       "      <td>1.0</td>\n",
       "      <td>0.0</td>\n",
       "      <td>0.608696</td>\n",
       "      <td>0.0</td>\n",
       "      <td>0.0</td>\n",
       "      <td>1.0</td>\n",
       "      <td>0.0</td>\n",
       "      <td>0.0</td>\n",
       "      <td>0.0</td>\n",
       "    </tr>\n",
       "    <tr>\n",
       "      <th>21200</th>\n",
       "      <td>1.0</td>\n",
       "      <td>0.0</td>\n",
       "      <td>0.0</td>\n",
       "      <td>0.0</td>\n",
       "      <td>1.0</td>\n",
       "      <td>0.0</td>\n",
       "      <td>0.187500</td>\n",
       "      <td>0.377990</td>\n",
       "      <td>0.031767</td>\n",
       "      <td>0.021433</td>\n",
       "      <td>...</td>\n",
       "      <td>0.0</td>\n",
       "      <td>1.0</td>\n",
       "      <td>0.0</td>\n",
       "      <td>0.391304</td>\n",
       "      <td>0.0</td>\n",
       "      <td>0.0</td>\n",
       "      <td>0.0</td>\n",
       "      <td>1.0</td>\n",
       "      <td>0.0</td>\n",
       "      <td>0.0</td>\n",
       "    </tr>\n",
       "  </tbody>\n",
       "</table>\n",
       "<p>21201 rows × 25 columns</p>\n",
       "</div>"
      ],
      "text/plain": [
       "        0    1    2    3    4    5         6         7         8         9   \\\n",
       "0      1.0  0.0  0.0  0.0  1.0  0.0  0.062500  0.440191  0.238903  0.124996   \n",
       "1      1.0  0.0  0.0  0.0  0.0  1.0  0.395833  0.636364  0.238903  0.124996   \n",
       "2      1.0  0.0  0.0  0.0  1.0  0.0  0.104167  0.645933  0.238903  0.124996   \n",
       "3      1.0  0.0  0.0  0.0  0.0  1.0  0.354167  0.191388  0.238903  0.124996   \n",
       "4      0.0  1.0  0.0  0.0  0.0  1.0  0.125000  0.382775  0.238903  0.124996   \n",
       "...    ...  ...  ...  ...  ...  ...       ...       ...       ...       ...   \n",
       "21196  1.0  0.0  0.0  0.0  1.0  0.0  0.041667  0.526316  0.959530  0.322197   \n",
       "21197  1.0  0.0  0.0  0.0  0.0  1.0  0.104167  0.416268  0.013925  0.011363   \n",
       "21198  1.0  0.0  0.0  0.0  1.0  0.0  0.125000  0.373206  0.000000  0.004425   \n",
       "21199  1.0  0.0  0.0  0.0  1.0  0.0  0.020833  0.755981  0.000870  0.000771   \n",
       "21200  1.0  0.0  0.0  0.0  1.0  0.0  0.187500  0.377990  0.031767  0.021433   \n",
       "\n",
       "       ...   15   16   17        18   19   20   21   22   23   24  \n",
       "0      ...  0.0  0.0  0.0  0.434783  1.0  0.0  0.0  0.0  0.0  0.0  \n",
       "1      ...  1.0  0.0  0.0  0.695652  0.0  1.0  0.0  0.0  0.0  0.0  \n",
       "2      ...  0.0  1.0  0.0  0.565217  0.0  0.0  1.0  0.0  0.0  0.0  \n",
       "3      ...  0.0  0.0  1.0  0.304348  0.0  0.0  0.0  1.0  0.0  0.0  \n",
       "4      ...  1.0  0.0  0.0  0.434783  1.0  0.0  0.0  0.0  0.0  0.0  \n",
       "...    ...  ...  ...  ...       ...  ...  ...  ...  ...  ...  ...  \n",
       "21196  ...  0.0  0.0  0.0  0.478261  1.0  0.0  0.0  0.0  0.0  0.0  \n",
       "21197  ...  1.0  0.0  0.0  0.739130  0.0  1.0  0.0  0.0  0.0  0.0  \n",
       "21198  ...  0.0  0.0  0.0  0.782609  0.0  1.0  0.0  0.0  0.0  0.0  \n",
       "21199  ...  0.0  1.0  0.0  0.608696  0.0  0.0  1.0  0.0  0.0  0.0  \n",
       "21200  ...  0.0  1.0  0.0  0.391304  0.0  0.0  0.0  1.0  0.0  0.0  \n",
       "\n",
       "[21201 rows x 25 columns]"
      ]
     },
     "execution_count": 65,
     "metadata": {},
     "output_type": "execute_result"
    }
   ],
   "source": [
    "X_normalize\n"
   ]
  },
  {
   "cell_type": "code",
   "execution_count": 66,
   "metadata": {},
   "outputs": [
    {
     "data": {
      "text/plain": [
       "<matplotlib.axes._subplots.AxesSubplot at 0x2c2dde7cc88>"
      ]
     },
     "execution_count": 66,
     "metadata": {},
     "output_type": "execute_result"
    },
    {
     "data": {
      "image/png": "[encoded data removed]",
      "text/plain": [
       "<Figure size 1440x1440 with 1 Axes>"
      ]
     },
     "metadata": {},
     "output_type": "display_data"
    }
   ],
   "source": [
    "fig, ax = plt.subplots(figsize=(20, 20))\n",
    "sns.heatmap(X_normalize.corr(), annot=True, cbar=False)\n"
   ]
  },
  {
   "cell_type": "code",
   "execution_count": null,
   "metadata": {},
   "outputs": [],
   "source": []
  },
  {
   "cell_type": "code",
   "execution_count": 67,
   "metadata": {},
   "outputs": [
    {
     "data": {
      "text/plain": [
       "(21201, 25)"
      ]
     },
     "execution_count": 67,
     "metadata": {},
     "output_type": "execute_result"
    }
   ],
   "source": [
    "X_normalize.shape\n"
   ]
  },
  {
   "cell_type": "code",
   "execution_count": 68,
   "metadata": {},
   "outputs": [
    {
     "data": {
      "text/plain": [
       "(21201,)"
      ]
     },
     "execution_count": 68,
     "metadata": {},
     "output_type": "execute_result"
    }
   ],
   "source": [
    "y_train.shape\n"
   ]
  },
  {
   "cell_type": "markdown",
   "metadata": {},
   "source": [
    "## Implementation "
   ]
  },
  {
   "cell_type": "code",
   "execution_count": 69,
   "metadata": {},
   "outputs": [
    {
     "data": {
      "text/plain": [
       "(21201,)"
      ]
     },
     "execution_count": 69,
     "metadata": {},
     "output_type": "execute_result"
    }
   ],
   "source": [
    "y_train.shape\n"
   ]
  },
  {
   "cell_type": "markdown",
   "metadata": {},
   "source": [
    "### Model Building"
   ]
  },
  {
   "cell_type": "code",
   "execution_count": 70,
   "metadata": {},
   "outputs": [],
   "source": [
    "# import train/test split module\n",
    "from sklearn.model_selection import train_test_split\n",
    "\n",
    "# split into train and test\n",
    "X_train, X_test, y_train, y_test = train_test_split(X_normalize, y_train, test_size=0.20, random_state=0)\n"
   ]
  },
  {
   "cell_type": "code",
   "execution_count": 71,
   "metadata": {},
   "outputs": [
    {
     "data": {
      "text/html": [
       "<div>\n",
       "<style scoped>\n",
       "    .dataframe tbody tr th:only-of-type {\n",
       "        vertical-align: middle;\n",
       "    }\n",
       "\n",
       "    .dataframe tbody tr th {\n",
       "        vertical-align: top;\n",
       "    }\n",
       "\n",
       "    .dataframe thead th {\n",
       "        text-align: right;\n",
       "    }\n",
       "</style>\n",
       "<table border=\"1\" class=\"dataframe\">\n",
       "  <thead>\n",
       "    <tr style=\"text-align: right;\">\n",
       "      <th></th>\n",
       "      <th>0</th>\n",
       "      <th>1</th>\n",
       "      <th>2</th>\n",
       "      <th>3</th>\n",
       "      <th>4</th>\n",
       "      <th>5</th>\n",
       "      <th>6</th>\n",
       "      <th>7</th>\n",
       "      <th>8</th>\n",
       "      <th>9</th>\n",
       "      <th>...</th>\n",
       "      <th>15</th>\n",
       "      <th>16</th>\n",
       "      <th>17</th>\n",
       "      <th>18</th>\n",
       "      <th>19</th>\n",
       "      <th>20</th>\n",
       "      <th>21</th>\n",
       "      <th>22</th>\n",
       "      <th>23</th>\n",
       "      <th>24</th>\n",
       "    </tr>\n",
       "  </thead>\n",
       "  <tbody>\n",
       "    <tr>\n",
       "      <th>1691</th>\n",
       "      <td>1.0</td>\n",
       "      <td>0.0</td>\n",
       "      <td>0.0</td>\n",
       "      <td>0.0</td>\n",
       "      <td>1.0</td>\n",
       "      <td>0.0</td>\n",
       "      <td>0.083333</td>\n",
       "      <td>0.889952</td>\n",
       "      <td>0.024369</td>\n",
       "      <td>0.089205</td>\n",
       "      <td>...</td>\n",
       "      <td>1.0</td>\n",
       "      <td>0.0</td>\n",
       "      <td>0.0</td>\n",
       "      <td>0.565217</td>\n",
       "      <td>0.0</td>\n",
       "      <td>0.0</td>\n",
       "      <td>1.0</td>\n",
       "      <td>0.0</td>\n",
       "      <td>0.0</td>\n",
       "      <td>0.0</td>\n",
       "    </tr>\n",
       "    <tr>\n",
       "      <th>8701</th>\n",
       "      <td>1.0</td>\n",
       "      <td>0.0</td>\n",
       "      <td>0.0</td>\n",
       "      <td>0.0</td>\n",
       "      <td>1.0</td>\n",
       "      <td>0.0</td>\n",
       "      <td>0.208333</td>\n",
       "      <td>0.669856</td>\n",
       "      <td>0.111836</td>\n",
       "      <td>0.129021</td>\n",
       "      <td>...</td>\n",
       "      <td>0.0</td>\n",
       "      <td>1.0</td>\n",
       "      <td>0.0</td>\n",
       "      <td>0.608696</td>\n",
       "      <td>0.0</td>\n",
       "      <td>0.0</td>\n",
       "      <td>1.0</td>\n",
       "      <td>0.0</td>\n",
       "      <td>0.0</td>\n",
       "      <td>0.0</td>\n",
       "    </tr>\n",
       "    <tr>\n",
       "      <th>9142</th>\n",
       "      <td>1.0</td>\n",
       "      <td>0.0</td>\n",
       "      <td>0.0</td>\n",
       "      <td>0.0</td>\n",
       "      <td>1.0</td>\n",
       "      <td>0.0</td>\n",
       "      <td>0.458333</td>\n",
       "      <td>0.779904</td>\n",
       "      <td>0.040470</td>\n",
       "      <td>0.232247</td>\n",
       "      <td>...</td>\n",
       "      <td>0.0</td>\n",
       "      <td>1.0</td>\n",
       "      <td>0.0</td>\n",
       "      <td>0.695652</td>\n",
       "      <td>0.0</td>\n",
       "      <td>1.0</td>\n",
       "      <td>0.0</td>\n",
       "      <td>0.0</td>\n",
       "      <td>0.0</td>\n",
       "      <td>0.0</td>\n",
       "    </tr>\n",
       "    <tr>\n",
       "      <th>15111</th>\n",
       "      <td>0.0</td>\n",
       "      <td>0.0</td>\n",
       "      <td>1.0</td>\n",
       "      <td>0.0</td>\n",
       "      <td>0.0</td>\n",
       "      <td>1.0</td>\n",
       "      <td>0.229167</td>\n",
       "      <td>0.435407</td>\n",
       "      <td>0.439513</td>\n",
       "      <td>0.425717</td>\n",
       "      <td>...</td>\n",
       "      <td>0.0</td>\n",
       "      <td>1.0</td>\n",
       "      <td>0.0</td>\n",
       "      <td>0.478261</td>\n",
       "      <td>1.0</td>\n",
       "      <td>0.0</td>\n",
       "      <td>0.0</td>\n",
       "      <td>0.0</td>\n",
       "      <td>0.0</td>\n",
       "      <td>0.0</td>\n",
       "    </tr>\n",
       "    <tr>\n",
       "      <th>2461</th>\n",
       "      <td>0.0</td>\n",
       "      <td>1.0</td>\n",
       "      <td>0.0</td>\n",
       "      <td>0.0</td>\n",
       "      <td>0.0</td>\n",
       "      <td>1.0</td>\n",
       "      <td>0.020833</td>\n",
       "      <td>0.167464</td>\n",
       "      <td>0.501305</td>\n",
       "      <td>0.185301</td>\n",
       "      <td>...</td>\n",
       "      <td>1.0</td>\n",
       "      <td>0.0</td>\n",
       "      <td>0.0</td>\n",
       "      <td>0.478261</td>\n",
       "      <td>1.0</td>\n",
       "      <td>0.0</td>\n",
       "      <td>0.0</td>\n",
       "      <td>0.0</td>\n",
       "      <td>0.0</td>\n",
       "      <td>0.0</td>\n",
       "    </tr>\n",
       "    <tr>\n",
       "      <th>...</th>\n",
       "      <td>...</td>\n",
       "      <td>...</td>\n",
       "      <td>...</td>\n",
       "      <td>...</td>\n",
       "      <td>...</td>\n",
       "      <td>...</td>\n",
       "      <td>...</td>\n",
       "      <td>...</td>\n",
       "      <td>...</td>\n",
       "      <td>...</td>\n",
       "      <td>...</td>\n",
       "      <td>...</td>\n",
       "      <td>...</td>\n",
       "      <td>...</td>\n",
       "      <td>...</td>\n",
       "      <td>...</td>\n",
       "      <td>...</td>\n",
       "      <td>...</td>\n",
       "      <td>...</td>\n",
       "      <td>...</td>\n",
       "      <td>...</td>\n",
       "    </tr>\n",
       "    <tr>\n",
       "      <th>17844</th>\n",
       "      <td>1.0</td>\n",
       "      <td>0.0</td>\n",
       "      <td>0.0</td>\n",
       "      <td>0.0</td>\n",
       "      <td>1.0</td>\n",
       "      <td>0.0</td>\n",
       "      <td>0.125000</td>\n",
       "      <td>0.770335</td>\n",
       "      <td>0.090078</td>\n",
       "      <td>0.087884</td>\n",
       "      <td>...</td>\n",
       "      <td>0.0</td>\n",
       "      <td>0.0</td>\n",
       "      <td>1.0</td>\n",
       "      <td>0.695652</td>\n",
       "      <td>0.0</td>\n",
       "      <td>1.0</td>\n",
       "      <td>0.0</td>\n",
       "      <td>0.0</td>\n",
       "      <td>0.0</td>\n",
       "      <td>0.0</td>\n",
       "    </tr>\n",
       "    <tr>\n",
       "      <th>4827</th>\n",
       "      <td>1.0</td>\n",
       "      <td>0.0</td>\n",
       "      <td>0.0</td>\n",
       "      <td>0.0</td>\n",
       "      <td>1.0</td>\n",
       "      <td>0.0</td>\n",
       "      <td>0.354167</td>\n",
       "      <td>0.363636</td>\n",
       "      <td>0.090078</td>\n",
       "      <td>0.069057</td>\n",
       "      <td>...</td>\n",
       "      <td>0.0</td>\n",
       "      <td>1.0</td>\n",
       "      <td>0.0</td>\n",
       "      <td>0.521739</td>\n",
       "      <td>1.0</td>\n",
       "      <td>0.0</td>\n",
       "      <td>0.0</td>\n",
       "      <td>0.0</td>\n",
       "      <td>0.0</td>\n",
       "      <td>0.0</td>\n",
       "    </tr>\n",
       "    <tr>\n",
       "      <th>15802</th>\n",
       "      <td>1.0</td>\n",
       "      <td>0.0</td>\n",
       "      <td>0.0</td>\n",
       "      <td>0.0</td>\n",
       "      <td>1.0</td>\n",
       "      <td>0.0</td>\n",
       "      <td>0.166667</td>\n",
       "      <td>0.576980</td>\n",
       "      <td>0.013490</td>\n",
       "      <td>0.193574</td>\n",
       "      <td>...</td>\n",
       "      <td>0.0</td>\n",
       "      <td>0.0</td>\n",
       "      <td>1.0</td>\n",
       "      <td>0.565217</td>\n",
       "      <td>0.0</td>\n",
       "      <td>0.0</td>\n",
       "      <td>1.0</td>\n",
       "      <td>0.0</td>\n",
       "      <td>0.0</td>\n",
       "      <td>0.0</td>\n",
       "    </tr>\n",
       "    <tr>\n",
       "      <th>19790</th>\n",
       "      <td>0.0</td>\n",
       "      <td>0.0</td>\n",
       "      <td>1.0</td>\n",
       "      <td>0.0</td>\n",
       "      <td>0.0</td>\n",
       "      <td>1.0</td>\n",
       "      <td>0.312500</td>\n",
       "      <td>0.576980</td>\n",
       "      <td>0.060487</td>\n",
       "      <td>0.041779</td>\n",
       "      <td>...</td>\n",
       "      <td>0.0</td>\n",
       "      <td>1.0</td>\n",
       "      <td>0.0</td>\n",
       "      <td>0.478261</td>\n",
       "      <td>1.0</td>\n",
       "      <td>0.0</td>\n",
       "      <td>0.0</td>\n",
       "      <td>0.0</td>\n",
       "      <td>0.0</td>\n",
       "      <td>0.0</td>\n",
       "    </tr>\n",
       "    <tr>\n",
       "      <th>12145</th>\n",
       "      <td>1.0</td>\n",
       "      <td>0.0</td>\n",
       "      <td>0.0</td>\n",
       "      <td>0.0</td>\n",
       "      <td>0.0</td>\n",
       "      <td>1.0</td>\n",
       "      <td>0.020833</td>\n",
       "      <td>0.576980</td>\n",
       "      <td>0.028721</td>\n",
       "      <td>0.098087</td>\n",
       "      <td>...</td>\n",
       "      <td>0.0</td>\n",
       "      <td>1.0</td>\n",
       "      <td>0.0</td>\n",
       "      <td>0.652174</td>\n",
       "      <td>0.0</td>\n",
       "      <td>0.0</td>\n",
       "      <td>1.0</td>\n",
       "      <td>0.0</td>\n",
       "      <td>0.0</td>\n",
       "      <td>0.0</td>\n",
       "    </tr>\n",
       "  </tbody>\n",
       "</table>\n",
       "<p>4241 rows × 25 columns</p>\n",
       "</div>"
      ],
      "text/plain": [
       "        0    1    2    3    4    5         6         7         8         9   \\\n",
       "1691   1.0  0.0  0.0  0.0  1.0  0.0  0.083333  0.889952  0.024369  0.089205   \n",
       "8701   1.0  0.0  0.0  0.0  1.0  0.0  0.208333  0.669856  0.111836  0.129021   \n",
       "9142   1.0  0.0  0.0  0.0  1.0  0.0  0.458333  0.779904  0.040470  0.232247   \n",
       "15111  0.0  0.0  1.0  0.0  0.0  1.0  0.229167  0.435407  0.439513  0.425717   \n",
       "2461   0.0  1.0  0.0  0.0  0.0  1.0  0.020833  0.167464  0.501305  0.185301   \n",
       "...    ...  ...  ...  ...  ...  ...       ...       ...       ...       ...   \n",
       "17844  1.0  0.0  0.0  0.0  1.0  0.0  0.125000  0.770335  0.090078  0.087884   \n",
       "4827   1.0  0.0  0.0  0.0  1.0  0.0  0.354167  0.363636  0.090078  0.069057   \n",
       "15802  1.0  0.0  0.0  0.0  1.0  0.0  0.166667  0.576980  0.013490  0.193574   \n",
       "19790  0.0  0.0  1.0  0.0  0.0  1.0  0.312500  0.576980  0.060487  0.041779   \n",
       "12145  1.0  0.0  0.0  0.0  0.0  1.0  0.020833  0.576980  0.028721  0.098087   \n",
       "\n",
       "       ...   15   16   17        18   19   20   21   22   23   24  \n",
       "1691   ...  1.0  0.0  0.0  0.565217  0.0  0.0  1.0  0.0  0.0  0.0  \n",
       "8701   ...  0.0  1.0  0.0  0.608696  0.0  0.0  1.0  0.0  0.0  0.0  \n",
       "9142   ...  0.0  1.0  0.0  0.695652  0.0  1.0  0.0  0.0  0.0  0.0  \n",
       "15111  ...  0.0  1.0  0.0  0.478261  1.0  0.0  0.0  0.0  0.0  0.0  \n",
       "2461   ...  1.0  0.0  0.0  0.478261  1.0  0.0  0.0  0.0  0.0  0.0  \n",
       "...    ...  ...  ...  ...       ...  ...  ...  ...  ...  ...  ...  \n",
       "17844  ...  0.0  0.0  1.0  0.695652  0.0  1.0  0.0  0.0  0.0  0.0  \n",
       "4827   ...  0.0  1.0  0.0  0.521739  1.0  0.0  0.0  0.0  0.0  0.0  \n",
       "15802  ...  0.0  0.0  1.0  0.565217  0.0  0.0  1.0  0.0  0.0  0.0  \n",
       "19790  ...  0.0  1.0  0.0  0.478261  1.0  0.0  0.0  0.0  0.0  0.0  \n",
       "12145  ...  0.0  1.0  0.0  0.652174  0.0  0.0  1.0  0.0  0.0  0.0  \n",
       "\n",
       "[4241 rows x 25 columns]"
      ]
     },
     "execution_count": 71,
     "metadata": {},
     "output_type": "execute_result"
    }
   ],
   "source": [
    "X_test\n"
   ]
  },
  {
   "cell_type": "markdown",
   "metadata": {},
   "source": [
    "### Multiple Linear Regression"
   ]
  },
  {
   "cell_type": "code",
   "execution_count": 72,
   "metadata": {},
   "outputs": [
    {
     "name": "stdout",
     "output_type": "stream",
     "text": [
      "Root Mean Square Error: 781.4495148494428\n"
     ]
    }
   ],
   "source": [
    "# import regression module\n",
    "from sklearn.linear_model import LinearRegression\n",
    "\n",
    "# create model object\n",
    "lm = LinearRegression()\n",
    "\n",
    "# train model\n",
    "lm.fit(X_train, y_train)\n",
    "\n",
    "###Assessing Model Accuracy\n",
    "\n",
    "#Predict y\n",
    "y_pred = lm.predict(X_test)\n",
    "\n",
    "from sklearn.metrics import r2_score\n",
    "r2_score(y_test, y_pred)\n",
    "\n",
    "from sklearn.metrics import mean_squared_error \n",
    "from math import sqrt\n",
    "\n",
    "rmse = sqrt(mean_squared_error(y_test, y_pred))\n",
    "print('Root Mean Square Error:', rmse)\n"
   ]
  },
  {
   "cell_type": "markdown",
   "metadata": {},
   "source": [
    "def rmse(model, name):\n",
    "    model.fit(X_train, y_train)\n",
    "    y_pred = model.predict(X_test)\n",
    "    print(f\"{name} RMSE score on training set: \", (MSE(y_test, y_pred)) ** (1/2))"
   ]
  },
  {
   "cell_type": "code",
   "execution_count": 73,
   "metadata": {},
   "outputs": [],
   "source": [
    "pred = lm.predict(X_normalize_test)\n"
   ]
  },
  {
   "cell_type": "code",
   "execution_count": 74,
   "metadata": {},
   "outputs": [
    {
     "data": {
      "text/plain": [
       "(7068, 25)"
      ]
     },
     "execution_count": 74,
     "metadata": {},
     "output_type": "execute_result"
    }
   ],
   "source": [
    "X_normalize_test.shape\n"
   ]
  },
  {
   "cell_type": "code",
   "execution_count": 75,
   "metadata": {},
   "outputs": [
    {
     "data": {
      "text/plain": [
       "(7068,)"
      ]
     },
     "execution_count": 75,
     "metadata": {},
     "output_type": "execute_result"
    }
   ],
   "source": [
    "X_test_order_no.shape\n"
   ]
  },
  {
   "cell_type": "code",
   "execution_count": 76,
   "metadata": {},
   "outputs": [
    {
     "data": {
      "text/plain": [
       "array([1354., 2548., 1496., ..., 1420., 1924.,  636.])"
      ]
     },
     "execution_count": 76,
     "metadata": {},
     "output_type": "execute_result"
    }
   ],
   "source": [
    "pred\n"
   ]
  },
  {
   "cell_type": "code",
   "execution_count": 77,
   "metadata": {},
   "outputs": [],
   "source": [
    "averaged_models_output = pd.DataFrame({\"Order_No\":X_test_order_no, \n",
    "                           \"Time from Pickup to Arrival\": pred})\n",
    "averaged_models_output.to_csv(\"submission_linear.csv\", index=False)\n"
   ]
  },
  {
   "cell_type": "code",
   "execution_count": null,
   "metadata": {},
   "outputs": [],
   "source": []
  },
  {
   "cell_type": "code",
   "execution_count": null,
   "metadata": {},
   "outputs": [],
   "source": []
  },
  {
   "cell_type": "code",
   "execution_count": null,
   "metadata": {},
   "outputs": [],
   "source": []
  },
  {
   "cell_type": "markdown",
   "metadata": {},
   "source": [
    "Random Forest \n"
   ]
  },
  {
   "cell_type": "code",
   "execution_count": null,
   "metadata": {},
   "outputs": [],
   "source": []
  },
  {
   "cell_type": "code",
   "execution_count": 78,
   "metadata": {},
   "outputs": [
    {
     "data": {
      "text/plain": [
       "RandomForestRegressor(bootstrap=True, ccp_alpha=0.0, criterion='mse',\n",
       "                      max_depth=1, max_features='auto', max_leaf_nodes=None,\n",
       "                      max_samples=None, min_impurity_decrease=0.0,\n",
       "                      min_impurity_split=None, min_samples_leaf=1,\n",
       "                      min_samples_split=2, min_weight_fraction_leaf=0.0,\n",
       "                      n_estimators=100, n_jobs=None, oob_score=False,\n",
       "                      random_state=0, verbose=0, warm_start=False)"
      ]
     },
     "execution_count": 78,
     "metadata": {},
     "output_type": "execute_result"
    }
   ],
   "source": [
    "\n",
    "from sklearn.ensemble import RandomForestRegressor\n",
    "regressor = RandomForestRegressor(n_estimators=100, random_state=0,max_depth=1)\n",
    "regressor.fit(X_train, y_train)\n"
   ]
  },
  {
   "cell_type": "code",
   "execution_count": 79,
   "metadata": {},
   "outputs": [],
   "source": [
    "y_pred_R = regressor.predict(X_normalize_test)\n"
   ]
  },
  {
   "cell_type": "code",
   "execution_count": 80,
   "metadata": {},
   "outputs": [
    {
     "data": {
      "text/plain": [
       "array([1250.46001535, 2258.46741234, 1250.46001535, ..., 1346.91986891,\n",
       "       2258.46741234, 1250.46001535])"
      ]
     },
     "execution_count": 80,
     "metadata": {},
     "output_type": "execute_result"
    }
   ],
   "source": [
    "y_pred_R\n"
   ]
  },
  {
   "cell_type": "code",
   "execution_count": 81,
   "metadata": {},
   "outputs": [],
   "source": [
    "averaged_models_output = pd.DataFrame({\"Order_No\":X_test_order_no, \n",
    "                           \"Time from Pickup to Arrival\": y_pred_R})\n",
    "averaged_models_output.to_csv(\"submission_random1.csv\", index=False)\n"
   ]
  },
  {
   "cell_type": "code",
   "execution_count": 82,
   "metadata": {},
   "outputs": [],
   "source": [
    "import pickle\n",
    "\n",
    "model_save_path = \"lm.pkl\"\n",
    "with open(model_save_path,'wb') as file:\n",
    "    pickle.dump(lm,file)\n",
    "    "
   ]
  },
  {
   "cell_type": "code",
   "execution_count": 83,
   "metadata": {},
   "outputs": [
    {
     "data": {
      "text/plain": [
       "b'\\x80\\x03csklearn.linear_model._base\\nLinearRegression\\nq\\x00)\\x81q\\x01}q\\x02(X\\r\\x00\\x00\\x00fit_interceptq\\x03\\x88X\\t\\x00\\x00\\x00normalizeq\\x04\\x89X\\x06\\x00\\x00\\x00copy_Xq\\x05\\x88X\\x06\\x00\\x00\\x00n_jobsq\\x06NX\\x05\\x00\\x00\\x00coef_q\\x07cnumpy.core.multiarray\\n_reconstruct\\nq\\x08cnumpy\\nndarray\\nq\\tK\\x00\\x85q\\nC\\x01bq\\x0b\\x87q\\x0cRq\\r(K\\x01K\\x19\\x85q\\x0ecnumpy\\ndtype\\nq\\x0fX\\x02\\x00\\x00\\x00f8q\\x10K\\x00K\\x01\\x87q\\x11Rq\\x12(K\\x03X\\x01\\x00\\x00\\x00<q\\x13NNNJ\\xff\\xff\\xff\\xffJ\\xff\\xff\\xff\\xffK\\x00tq\\x14b\\x89C\\xc8K\\xf9~\\xd7\\x8e\\xaf$Ci\\xf9~\\xd7\\x8e\\xaf$C\\x19\\xf9~\\xd7\\x8e\\xaf$C\\x14\\xf6~\\xd7\\x8e\\xaf$Cq\\x12\\'\\x86\\tV0\\xc3e\\x12\\'\\x86\\tV0\\xc3\\x8cX\\xb0]\\xbd3\\xb3@\\xa7@\\\\\\xa2\\x1f1\\x1c\\xc0?\\xe7o\\x89\\xc2`\\xb3@\\xc7\\xa1\\xe5\\xd4\\xd4ne\\xc0)\\xc7\\xa9\\x1b>\\xb9\\xb3\\xc0\\xf2LX\\xacL\\xe3\\x8b@\\x1c\\x0e\\x00\\x14\\x1c\\xc3\\x8c@\\xc1\\x16\\xc5\\xde\\xf2\\x1f\\x90\\xc0E\\x7f\\xb1\\x8b\\x8fIAC/\\x7f\\xb1\\x8b\\x8fIAC.\\x7f\\xb1\\x8b\\x8fIAC1\\x7f\\xb1\\x8b\\x8fIACS\\xc6`\\x88\\xcb\\xd2\\x82@\\x0f)o\\xcaP\\xd18C\\xa0(o\\xcaP\\xd18C\\xdd(o\\xcaP\\xd18C\\x04)o\\xcaP\\xd18C\"(o\\xcaP\\xd18C\\xcc%o\\xcaP\\xd18Cq\\x15tq\\x16bX\\t\\x00\\x00\\x00_residuesq\\x17h\\x08h\\tK\\x00\\x85q\\x18h\\x0b\\x87q\\x19Rq\\x1a(K\\x01K\\x00\\x85q\\x1bh\\x12\\x89C\\x00q\\x1ctq\\x1dbX\\x05\\x00\\x00\\x00rank_q\\x1eK\\x17X\\t\\x00\\x00\\x00singular_q\\x1fh\\x08h\\tK\\x00\\x85q h\\x0b\\x87q!Rq\"(K\\x01K\\x19\\x85q#h\\x12\\x89C\\xc8h\\xdcW\\x84^yU@N\\xb2\\xe2\\xf8a\\xd2S@\\x89:\\xc6\\xf2\\xe1\\xb7P@I\\xb0L\\x9e\\x9d8P@\\xffd.\\xf3\\xed\\xbeO@\\x1a-\\x9d\\x14\\xfb\\xbeM@FQ\\xd5x,jF@>D:\\xc7\\xc9\\xbeA@\\x83\\xee\\xc2\\xdfsq@@\\xaa\\xaaT\\xed\\xd9x<@4\\xaf>\\xaf\\x0b41@2x\\x12\\xdb\\x17\\xfa0@L\\xed\\x9c\\xac\\x89\\xf8.@C\\xf0pz{y-@N.\\xa6\\x06gM*@\\x86\\xe3\\xff|K\\x0b)@R;\\xc5\\xf0w\\xb1\\x1b@\\xe9?\\xf6J\\xfd_\\x12@\\x0b\\xbb\\xe8da\\x9a\\x10@\\xedly\\xb6\\xce2\\x05@\\x10\\xa6oP\\\\\\xec\\xdb?\\xf7\\xabp\\xfc\\x88yE=iE \\x81\\xaf%\\x16=\\x82A$\\x9c\\xb83\\x10=@\\x89\\x03\\xdf\\x81\\x95\\x00=q$tq%bX\\n\\x00\\x00\\x00intercept_q&cnumpy.core.multiarray\\nscalar\\nq\\'h\\x12C\\x08vH\\xb5\\xe3\\x16\\xb3J\\xc3q(\\x86q)Rq*X\\x10\\x00\\x00\\x00_sklearn_versionq+X\\x06\\x00\\x00\\x000.22.1q,ub.'"
      ]
     },
     "execution_count": 83,
     "metadata": {},
     "output_type": "execute_result"
    }
   ],
   "source": [
    "pickle.dumps(lm)\n"
   ]
  },
  {
   "cell_type": "code",
   "execution_count": 84,
   "metadata": {},
   "outputs": [],
   "source": [
    "#import xgboost as xgb\n",
    "from xgboost import XGBRegressor\n",
    "from sklearn.metrics import accuracy_score\n"
   ]
  },
  {
   "cell_type": "code",
   "execution_count": 85,
   "metadata": {},
   "outputs": [
    {
     "data": {
      "text/plain": [
       "XGBRegressor(base_score=0.5, booster='gbtree', colsample_bylevel=1,\n",
       "             colsample_bynode=1, colsample_bytree=1, gamma=0, gpu_id=-1,\n",
       "             importance_type='gain', interaction_constraints='',\n",
       "             learning_rate=0.300000012, max_delta_step=0, max_depth=6,\n",
       "             min_child_weight=1, missing=nan, monotone_constraints='()',\n",
       "             n_estimators=100, n_jobs=0, num_parallel_tree=1,\n",
       "             objective='reg:squarederror', random_state=0, reg_alpha=0,\n",
       "             reg_lambda=1, scale_pos_weight=1, subsample=1, tree_method='exact',\n",
       "             validate_parameters=1, verbosity=None)"
      ]
     },
     "execution_count": 85,
     "metadata": {},
     "output_type": "execute_result"
    }
   ],
   "source": [
    "xgb = XGBRegressor()\n",
    "xgb.fit(X_train,y_train)\n"
   ]
  },
  {
   "cell_type": "code",
   "execution_count": 86,
   "metadata": {},
   "outputs": [],
   "source": [
    "y_pred_xgb = xgb.predict(X_normalize_test)\n"
   ]
  },
  {
   "cell_type": "code",
   "execution_count": 87,
   "metadata": {},
   "outputs": [
    {
     "name": "stdout",
     "output_type": "stream",
     "text": [
      "[1449.5549  2858.7566  1627.4517  ... 1476.6262  2900.3696   855.01416]\n"
     ]
    }
   ],
   "source": [
    "print(y_pred_xgb)\n"
   ]
  },
  {
   "cell_type": "code",
   "execution_count": 88,
   "metadata": {},
   "outputs": [],
   "source": [
    "averaged_models_output = pd.DataFrame({\"Order_No\":X_test_order_no, \n",
    "                           \"Time from Pickup to Arrival\": y_pred_xgb})\n",
    "averaged_models_output.to_csv(\"submission_xgb.csv\", index=False)\n"
   ]
  },
  {
   "cell_type": "code",
   "execution_count": 89,
   "metadata": {},
   "outputs": [],
   "source": [
    "##CatBoost\n"
   ]
  },
  {
   "cell_type": "code",
   "execution_count": null,
   "metadata": {},
   "outputs": [],
   "source": []
  },
  {
   "cell_type": "code",
   "execution_count": 90,
   "metadata": {},
   "outputs": [
    {
     "data": {
      "text/html": [
       "<div>\n",
       "<style scoped>\n",
       "    .dataframe tbody tr th:only-of-type {\n",
       "        vertical-align: middle;\n",
       "    }\n",
       "\n",
       "    .dataframe tbody tr th {\n",
       "        vertical-align: top;\n",
       "    }\n",
       "\n",
       "    .dataframe thead th {\n",
       "        text-align: right;\n",
       "    }\n",
       "</style>\n",
       "<table border=\"1\" class=\"dataframe\">\n",
       "  <thead>\n",
       "    <tr style=\"text-align: right;\">\n",
       "      <th></th>\n",
       "      <th>0</th>\n",
       "      <th>1</th>\n",
       "      <th>2</th>\n",
       "      <th>3</th>\n",
       "      <th>4</th>\n",
       "      <th>5</th>\n",
       "      <th>6</th>\n",
       "      <th>7</th>\n",
       "      <th>8</th>\n",
       "      <th>9</th>\n",
       "      <th>...</th>\n",
       "      <th>15</th>\n",
       "      <th>16</th>\n",
       "      <th>17</th>\n",
       "      <th>18</th>\n",
       "      <th>19</th>\n",
       "      <th>20</th>\n",
       "      <th>21</th>\n",
       "      <th>22</th>\n",
       "      <th>23</th>\n",
       "      <th>24</th>\n",
       "    </tr>\n",
       "  </thead>\n",
       "  <tbody>\n",
       "    <tr>\n",
       "      <th>9470</th>\n",
       "      <td>1.0</td>\n",
       "      <td>0.0</td>\n",
       "      <td>0.0</td>\n",
       "      <td>0.0</td>\n",
       "      <td>1.0</td>\n",
       "      <td>0.0</td>\n",
       "      <td>0.416667</td>\n",
       "      <td>0.521531</td>\n",
       "      <td>0.067885</td>\n",
       "      <td>0.065391</td>\n",
       "      <td>...</td>\n",
       "      <td>0.0</td>\n",
       "      <td>0.0</td>\n",
       "      <td>1.0</td>\n",
       "      <td>0.565217</td>\n",
       "      <td>0.0</td>\n",
       "      <td>0.0</td>\n",
       "      <td>1.0</td>\n",
       "      <td>0.0</td>\n",
       "      <td>0.0</td>\n",
       "      <td>0.0</td>\n",
       "    </tr>\n",
       "    <tr>\n",
       "      <th>20042</th>\n",
       "      <td>1.0</td>\n",
       "      <td>0.0</td>\n",
       "      <td>0.0</td>\n",
       "      <td>0.0</td>\n",
       "      <td>1.0</td>\n",
       "      <td>0.0</td>\n",
       "      <td>0.229167</td>\n",
       "      <td>0.576980</td>\n",
       "      <td>0.519147</td>\n",
       "      <td>0.182204</td>\n",
       "      <td>...</td>\n",
       "      <td>0.0</td>\n",
       "      <td>0.0</td>\n",
       "      <td>0.0</td>\n",
       "      <td>0.652174</td>\n",
       "      <td>0.0</td>\n",
       "      <td>0.0</td>\n",
       "      <td>1.0</td>\n",
       "      <td>0.0</td>\n",
       "      <td>0.0</td>\n",
       "      <td>0.0</td>\n",
       "    </tr>\n",
       "    <tr>\n",
       "      <th>1889</th>\n",
       "      <td>1.0</td>\n",
       "      <td>0.0</td>\n",
       "      <td>0.0</td>\n",
       "      <td>0.0</td>\n",
       "      <td>1.0</td>\n",
       "      <td>0.0</td>\n",
       "      <td>0.041667</td>\n",
       "      <td>0.576980</td>\n",
       "      <td>0.018712</td>\n",
       "      <td>0.187937</td>\n",
       "      <td>...</td>\n",
       "      <td>0.0</td>\n",
       "      <td>1.0</td>\n",
       "      <td>0.0</td>\n",
       "      <td>0.695652</td>\n",
       "      <td>0.0</td>\n",
       "      <td>1.0</td>\n",
       "      <td>0.0</td>\n",
       "      <td>0.0</td>\n",
       "      <td>0.0</td>\n",
       "      <td>0.0</td>\n",
       "    </tr>\n",
       "    <tr>\n",
       "      <th>18964</th>\n",
       "      <td>1.0</td>\n",
       "      <td>0.0</td>\n",
       "      <td>0.0</td>\n",
       "      <td>0.0</td>\n",
       "      <td>1.0</td>\n",
       "      <td>0.0</td>\n",
       "      <td>0.104167</td>\n",
       "      <td>0.569378</td>\n",
       "      <td>0.018277</td>\n",
       "      <td>0.213328</td>\n",
       "      <td>...</td>\n",
       "      <td>0.0</td>\n",
       "      <td>0.0</td>\n",
       "      <td>0.0</td>\n",
       "      <td>0.652174</td>\n",
       "      <td>0.0</td>\n",
       "      <td>0.0</td>\n",
       "      <td>1.0</td>\n",
       "      <td>0.0</td>\n",
       "      <td>0.0</td>\n",
       "      <td>0.0</td>\n",
       "    </tr>\n",
       "    <tr>\n",
       "      <th>6894</th>\n",
       "      <td>1.0</td>\n",
       "      <td>0.0</td>\n",
       "      <td>0.0</td>\n",
       "      <td>0.0</td>\n",
       "      <td>1.0</td>\n",
       "      <td>0.0</td>\n",
       "      <td>0.020833</td>\n",
       "      <td>0.267943</td>\n",
       "      <td>0.036554</td>\n",
       "      <td>0.026387</td>\n",
       "      <td>...</td>\n",
       "      <td>0.0</td>\n",
       "      <td>0.0</td>\n",
       "      <td>1.0</td>\n",
       "      <td>0.478261</td>\n",
       "      <td>1.0</td>\n",
       "      <td>0.0</td>\n",
       "      <td>0.0</td>\n",
       "      <td>0.0</td>\n",
       "      <td>0.0</td>\n",
       "      <td>0.0</td>\n",
       "    </tr>\n",
       "  </tbody>\n",
       "</table>\n",
       "<p>5 rows × 25 columns</p>\n",
       "</div>"
      ],
      "text/plain": [
       "        0    1    2    3    4    5         6         7         8         9   \\\n",
       "9470   1.0  0.0  0.0  0.0  1.0  0.0  0.416667  0.521531  0.067885  0.065391   \n",
       "20042  1.0  0.0  0.0  0.0  1.0  0.0  0.229167  0.576980  0.519147  0.182204   \n",
       "1889   1.0  0.0  0.0  0.0  1.0  0.0  0.041667  0.576980  0.018712  0.187937   \n",
       "18964  1.0  0.0  0.0  0.0  1.0  0.0  0.104167  0.569378  0.018277  0.213328   \n",
       "6894   1.0  0.0  0.0  0.0  1.0  0.0  0.020833  0.267943  0.036554  0.026387   \n",
       "\n",
       "       ...   15   16   17        18   19   20   21   22   23   24  \n",
       "9470   ...  0.0  0.0  1.0  0.565217  0.0  0.0  1.0  0.0  0.0  0.0  \n",
       "20042  ...  0.0  0.0  0.0  0.652174  0.0  0.0  1.0  0.0  0.0  0.0  \n",
       "1889   ...  0.0  1.0  0.0  0.695652  0.0  1.0  0.0  0.0  0.0  0.0  \n",
       "18964  ...  0.0  0.0  0.0  0.652174  0.0  0.0  1.0  0.0  0.0  0.0  \n",
       "6894   ...  0.0  0.0  1.0  0.478261  1.0  0.0  0.0  0.0  0.0  0.0  \n",
       "\n",
       "[5 rows x 25 columns]"
      ]
     },
     "execution_count": 90,
     "metadata": {},
     "output_type": "execute_result"
    }
   ],
   "source": [
    "X_train.head()\n"
   ]
  },
  {
   "cell_type": "code",
   "execution_count": 91,
   "metadata": {},
   "outputs": [
    {
     "name": "stdout",
     "output_type": "stream",
     "text": [
      "Ridge : 781.9707278192675\n"
     ]
    }
   ],
   "source": [
    "##Ridge\n",
    "\n",
    "# import the ridge regression module from sklearn\n",
    "from sklearn.linear_model import Ridge\n",
    "\n",
    "# create ridge model\n",
    "ridge = Ridge()\n",
    "\n",
    "# train the model\n",
    "ridge.fit(X_train, y_train)\n",
    "\n",
    "test_ridge = ridge.predict(X_test)\n",
    "\n",
    "from sklearn.metrics import mean_squared_error \n",
    "from math import sqrt\n",
    "\n",
    "print('Ridge :', sqrt(mean_squared_error(y_test, test_ridge)))\n"
   ]
  },
  {
   "cell_type": "code",
   "execution_count": 92,
   "metadata": {},
   "outputs": [],
   "source": [
    "y_pred_Ridge = ridge.predict(X_normalize_test)\n"
   ]
  },
  {
   "cell_type": "code",
   "execution_count": 93,
   "metadata": {},
   "outputs": [
    {
     "data": {
      "text/plain": [
       "array([1345.59586718, 2516.86664397, 1501.63855805, ..., 1429.39594718,\n",
       "       1940.85400105,  668.25725452])"
      ]
     },
     "execution_count": 93,
     "metadata": {},
     "output_type": "execute_result"
    }
   ],
   "source": [
    "y_pred_Ridge\n"
   ]
  },
  {
   "cell_type": "code",
   "execution_count": 94,
   "metadata": {},
   "outputs": [],
   "source": [
    "averaged_models_output = pd.DataFrame({\"Order_No\":X_test_order_no, \n",
    "                           \"Time from Pickup to Arrival\": y_pred_Ridge})\n",
    "averaged_models_output.to_csv(\"submission_ridge.csv\", index=False)\n"
   ]
  },
  {
   "cell_type": "code",
   "execution_count": 95,
   "metadata": {},
   "outputs": [
    {
     "name": "stdout",
     "output_type": "stream",
     "text": [
      "Lasso : 781.8489859993315\n"
     ]
    }
   ],
   "source": [
    "##Lasso\n",
    "\n",
    "# import the lasso regression module from sklearn\n",
    "from sklearn.linear_model import Lasso\n",
    "\n",
    "lasso = Lasso(alpha=0.01)\n",
    "\n",
    "lasso.fit(X_train, y_train)\n",
    "\n",
    "test_lasso = lasso.predict(X_test)\n",
    "\n",
    "from sklearn.metrics import mean_squared_error \n",
    "from math import sqrt\n",
    "\n",
    "print('Lasso :', sqrt(mean_squared_error(y_test, test_lasso)))\n"
   ]
  },
  {
   "cell_type": "code",
   "execution_count": 96,
   "metadata": {},
   "outputs": [],
   "source": [
    "y_pred_Lasso = ridge.predict(X_normalize_test)\n"
   ]
  },
  {
   "cell_type": "code",
   "execution_count": 97,
   "metadata": {},
   "outputs": [
    {
     "data": {
      "text/plain": [
       "array([1345.59586718, 2516.86664397, 1501.63855805, ..., 1429.39594718,\n",
       "       1940.85400105,  668.25725452])"
      ]
     },
     "execution_count": 97,
     "metadata": {},
     "output_type": "execute_result"
    }
   ],
   "source": [
    "y_pred_Lasso\n"
   ]
  },
  {
   "cell_type": "code",
   "execution_count": 98,
   "metadata": {},
   "outputs": [],
   "source": [
    "averaged_models_output = pd.DataFrame({\"Order_No\":X_test_order_no, \n",
    "                           \"Time from Pickup to Arrival\": y_pred_Lasso})\n",
    "averaged_models_output.to_csv(\"submission_lasso.csv\", index=False)\n"
   ]
  },
  {
   "cell_type": "code",
   "execution_count": 99,
   "metadata": {},
   "outputs": [
    {
     "data": {
      "text/plain": [
       "VotingRegressor(estimators=[('RF',\n",
       "                             RandomForestRegressor(bootstrap=True,\n",
       "                                                   ccp_alpha=0.0,\n",
       "                                                   criterion='mse', max_depth=1,\n",
       "                                                   max_features='auto',\n",
       "                                                   max_leaf_nodes=None,\n",
       "                                                   max_samples=None,\n",
       "                                                   min_impurity_decrease=0.0,\n",
       "                                                   min_impurity_split=None,\n",
       "                                                   min_samples_leaf=1,\n",
       "                                                   min_samples_split=2,\n",
       "                                                   min_weight_fraction_leaf=0.0,\n",
       "                                                   n_estimators=100,\n",
       "                                                   n_jobs=None, oob_score=False,\n",
       "                                                   random_state=0, ve...\n",
       "                                   random_state=None, solver='auto',\n",
       "                                   tol=0.001)),\n",
       "                            ('lasso',\n",
       "                             Lasso(alpha=0.01, copy_X=True, fit_intercept=True,\n",
       "                                   max_iter=1000, normalize=False,\n",
       "                                   positive=False, precompute=False,\n",
       "                                   random_state=None, selection='cyclic',\n",
       "                                   tol=0.0001, warm_start=False)),\n",
       "                            ('Lm',\n",
       "                             LinearRegression(copy_X=True, fit_intercept=True,\n",
       "                                              n_jobs=None, normalize=False))],\n",
       "                n_jobs=None, weights=array([0.1 , 0.35, 0.35, 0.2 ]))"
      ]
     },
     "execution_count": 99,
     "metadata": {},
     "output_type": "execute_result"
    }
   ],
   "source": [
    "##Ensemble Method\n",
    "\n",
    "from sklearn.ensemble import VotingRegressor\n",
    "\n",
    "models = [('RF', regressor), ('Ridge', ridge),\n",
    "          ('lasso', lasso), ('Lm', lm)]\n",
    "\n",
    "# specify weights for weighted model averaging\n",
    "model_weightings = np.array([0.1, 0.35, 0.35, 0.2])\n",
    "\n",
    "v_reg = VotingRegressor(estimators=models, weights=model_weightings)\n",
    "v_reg.fit(X_train, y_train)\n"
   ]
  },
  {
   "cell_type": "code",
   "execution_count": 100,
   "metadata": {},
   "outputs": [],
   "source": [
    "y_pred_ensemble = v_reg.predict(X_normalize_test)\n"
   ]
  },
  {
   "cell_type": "code",
   "execution_count": 265,
   "metadata": {},
   "outputs": [
    {
     "name": "stdout",
     "output_type": "stream",
     "text": [
      "[1338.71821707 2497.89303136 1473.64735523 ... 1416.93217605 1966.62900407\n",
      "  713.92607194]\n"
     ]
    }
   ],
   "source": [
    "print(y_pred_ensemble)\n"
   ]
  },
  {
   "cell_type": "code",
   "execution_count": 264,
   "metadata": {},
   "outputs": [],
   "source": [
    "import pickle\n",
    "\n",
    "model_save_path = \"ensemble.pkl\"\n",
    "with open(model_save_path,'wb') as file:\n",
    "    pickle.dump(v_reg, file)\n"
   ]
  },
  {
   "cell_type": "code",
   "execution_count": null,
   "metadata": {},
   "outputs": [],
   "source": []
  },
  {
   "cell_type": "code",
   "execution_count": 102,
   "metadata": {},
   "outputs": [],
   "source": [
    "averaged_models_output = pd.DataFrame({\"Order_No\":X_test_order_no,\n",
    "                                       \"Time from Pickup to Arrival\": y_pred_ensemble})\n",
    "averaged_models_output.to_csv(\"submission_ensemble.csv\", index=False)\n"
   ]
  },
  {
   "cell_type": "code",
   "execution_count": 103,
   "metadata": {},
   "outputs": [],
   "source": [
    "from sklearn.model_selection import KFold\n",
    "\n",
    "kfolds = KFold(n_splits=10)\n"
   ]
  },
  {
   "cell_type": "code",
   "execution_count": 104,
   "metadata": {},
   "outputs": [],
   "source": [
    "def model_fitting(model, model_name, X, y):\n",
    "    train_fold = np.zeros((len(X_data)))\n",
    "    test_fold = np.zeros((len(X_normalize_test)))\n",
    "    cross_val_scores = []\n",
    "    training_scores = []\n",
    "    testing_scores = []\n",
    "    for i, (train_index, validation_index) in (enumerate(kfolds.split(X, y))):\n",
    "        X_train, X_valid = X.iloc[train_index], X.iloc[validation_index]\n",
    "        y_train, y_valid = y.iloc[train_index], y.iloc[validation_index]\n",
    "        model.fit(X_train, y_train)\n",
    "        valid_pred = model.predict(X_valid)\n",
    "        train_pred = model.predict(X_train)\n",
    "        test_pred = model.predict(X_normalize_test)  # predictbyfold onthe test\n",
    "        test_fold += test_pred  # contains for each fold predictions for test\n",
    "        train_fold[validation_index] += valid_pred\n",
    "        cross_val_RMSE = np.sqrt(mean_squared_error(y_valid, valid_pred))\n",
    "        train_RMSE = np.sqrt(mean_squared_error(y_train, train_pred))\n",
    "        training_scores.append(train_RMSE)\n",
    "        cross_val_scores.append(cross_valid_RMSE)\n",
    "        print(f'Iteration : {str(i+1)} - Training {model_name} Score : {train_RMSE} - Cross_Validation {model_name} Score : {cross_valid_RMSE}')\n",
    "    final_training_score = np.mean(training_scores)\n",
    "    final_cross_val_score = np.mean(cross_val_scores)\n",
    "    print(f'final_training_score : {final_training_score} -  final_cross_val_score : {final_cross_val_score} ')\n",
    "    return train_fold, test_fold/10"
   ]
  },
  {
   "cell_type": "code",
   "execution_count": 105,
   "metadata": {},
   "outputs": [
    {
     "name": "stdout",
     "output_type": "stream",
     "text": [
      "Iteration : 1 - Training linear model Score : 785.1419472671745 - Cross_Validation linear model Score : 752.700116165169\n",
      "Iteration : 2 - Training linear model Score : 781.4023388207331 - Cross_Validation linear model Score : 784.7598133331252\n",
      "Iteration : 3 - Training linear model Score : 786.6135031336516 - Cross_Validation linear model Score : 736.5492135532079\n",
      "Iteration : 4 - Training linear model Score : 779.304650085432 - Cross_Validation linear model Score : 803.4214867535959\n",
      "Iteration : 5 - Training linear model Score : 781.4516172839187 - Cross_Validation linear model Score : 783.9119924521995\n",
      "Iteration : 6 - Training linear model Score : 788.2164491246272 - Cross_Validation linear model Score : 720.5368919495404\n",
      "Iteration : 7 - Training linear model Score : 780.4585037499927 - Cross_Validation linear model Score : 793.2496204709829\n",
      "Iteration : 8 - Training linear model Score : 778.2176963584311 - Cross_Validation linear model Score : 812.9459467050383\n",
      "Iteration : 9 - Training linear model Score : 775.1870537466051 - Cross_Validation linear model Score : 838.1764663119845\n",
      "Iteration : 10 - Training linear model Score : 779.8692634694594 - Cross_Validation linear model Score : 798.9784243166926\n",
      "final_training_score : 781.5863023040025 -  final_cross_val_score : 782.5229972011537 \n"
     ]
    }
   ],
   "source": [
    "(train, test) = model_fitting(lm, 'linear model', X_normalize, train_df['Time from Pickup to Arrival'])\n"
   ]
  },
  {
   "cell_type": "code",
   "execution_count": 106,
   "metadata": {},
   "outputs": [
    {
     "data": {
      "text/plain": [
       "array([1369.55625, 2528.475  , 1513.94375, ..., 1417.525  , 1953.36875,\n",
       "        640.46875])"
      ]
     },
     "execution_count": 106,
     "metadata": {},
     "output_type": "execute_result"
    }
   ],
   "source": [
    "test\n"
   ]
  },
  {
   "cell_type": "code",
   "execution_count": 107,
   "metadata": {},
   "outputs": [],
   "source": [
    "averaged_models_output = pd.DataFrame({\"Order_No\":X_test_order_no,\n",
    "                                       \"Time from Pickup to Arrival\": test})\n",
    "averaged_models_output.to_csv(\"submission_linear_kfold.csv\", index=False)\n"
   ]
  },
  {
   "cell_type": "code",
   "execution_count": 108,
   "metadata": {},
   "outputs": [
    {
     "name": "stdout",
     "output_type": "stream",
     "text": [
      "Iteration : 1 - Training Ensemble Score : 786.058001876757 - Cross_Validation Ensemble Score : 756.0715617135485\n",
      "Iteration : 2 - Training Ensemble Score : 782.7354478028489 - Cross_Validation Ensemble Score : 786.0090070686475\n",
      "Iteration : 3 - Training Ensemble Score : 787.9444973955766 - Cross_Validation Ensemble Score : 737.706725258798\n",
      "Iteration : 4 - Training Ensemble Score : 780.5794733361811 - Cross_Validation Ensemble Score : 804.6464830533167\n",
      "Iteration : 5 - Training Ensemble Score : 782.8142521801559 - Cross_Validation Ensemble Score : 785.861502748101\n",
      "Iteration : 6 - Training Ensemble Score : 789.5029602583279 - Cross_Validation Ensemble Score : 720.7845785592473\n",
      "Iteration : 7 - Training Ensemble Score : 781.7377881748521 - Cross_Validation Ensemble Score : 792.4077478655906\n",
      "Iteration : 8 - Training Ensemble Score : 779.4932453707265 - Cross_Validation Ensemble Score : 813.6047826052862\n",
      "Iteration : 9 - Training Ensemble Score : 776.4266680245025 - Cross_Validation Ensemble Score : 839.7760503570231\n",
      "Iteration : 10 - Training Ensemble Score : 781.1988077017461 - Cross_Validation Ensemble Score : 798.9996121729042\n",
      "final_training_score : 782.8491142121675 -  final_cross_val_score : 783.5868051402464 \n"
     ]
    }
   ],
   "source": [
    "(train, test) = model_fitting(v_reg, 'Ensemble', X_normalize, train_df['Time from Pickup to Arrival'])\n"
   ]
  },
  {
   "cell_type": "code",
   "execution_count": 109,
   "metadata": {},
   "outputs": [],
   "source": [
    "averaged_models_output = pd.DataFrame({\"Order_No\":X_test_order_no,\n",
    "                                       \"Time from Pickup to Arrival\": test})\n",
    "averaged_models_output.to_csv(\"submission_ensemble_kfold.csv\", index=False)\n"
   ]
  },
  {
   "cell_type": "code",
   "execution_count": 263,
   "metadata": {},
   "outputs": [
    {
     "data": {
      "text/plain": [
       "array([1348.67749176, 2493.27934414, 1484.46771309, ..., 1407.36027573,\n",
       "       1993.74937349,  717.61650631])"
      ]
     },
     "execution_count": 263,
     "metadata": {},
     "output_type": "execute_result"
    }
   ],
   "source": [
    "test\n"
   ]
  },
  {
   "cell_type": "code",
   "execution_count": 110,
   "metadata": {},
   "outputs": [
    {
     "data": {
      "text/plain": [
       "(21201,)"
      ]
     },
     "execution_count": 110,
     "metadata": {},
     "output_type": "execute_result"
    }
   ],
   "source": [
    "train_df['Time from Pickup to Arrival'].shape\n"
   ]
  },
  {
   "cell_type": "code",
   "execution_count": 111,
   "metadata": {},
   "outputs": [
    {
     "data": {
      "text/plain": [
       "(21201, 25)"
      ]
     },
     "execution_count": 111,
     "metadata": {},
     "output_type": "execute_result"
    }
   ],
   "source": [
    "X_normalize.shape\n"
   ]
  },
  {
   "cell_type": "code",
   "execution_count": 112,
   "metadata": {},
   "outputs": [
    {
     "ename": "NameError",
     "evalue": "name 'R' is not defined",
     "output_type": "error",
     "traceback": [
      "\u001b[1;31m---------------------------------------------------------------------------\u001b[0m",
      "\u001b[1;31mNameError\u001b[0m                                 Traceback (most recent call last)",
      "\u001b[1;32m<ipython-input-112-b1aa98ad3a02>\u001b[0m in \u001b[0;36m<module>\u001b[1;34m\u001b[0m\n\u001b[1;32m----> 1\u001b[1;33m \u001b[0mR\u001b[0m\u001b[1;33m\u001b[0m\u001b[1;33m\u001b[0m\u001b[0m\n\u001b[0m",
      "\u001b[1;31mNameError\u001b[0m: name 'R' is not defined"
     ]
    }
   ],
   "source": [
    "R"
   ]
  },
  {
   "cell_type": "markdown",
   "metadata": {},
   "source": [
    "## Refinement "
   ]
  },
  {
   "cell_type": "markdown",
   "metadata": {},
   "source": [
    "## Model Evaluation and Validation"
   ]
  },
  {
   "cell_type": "markdown",
   "metadata": {},
   "source": [
    "# <center>Conclusion</center>"
   ]
  },
  {
   "cell_type": "markdown",
   "metadata": {},
   "source": [
    "## Reflection "
   ]
  },
  {
   "cell_type": "markdown",
   "metadata": {},
   "source": [
    "## Improvement "
   ]
  },
  {
   "cell_type": "markdown",
   "metadata": {},
   "source": [
    "## References "
   ]
  },
  {
   "cell_type": "code",
   "execution_count": null,
   "metadata": {},
   "outputs": [],
   "source": [
    "https://towardsdatascience.com/is-the-food-here-yet-f13a7bb0cd20"
   ]
  },
  {
   "cell_type": "code",
   "execution_count": null,
   "metadata": {},
   "outputs": [],
   "source": [
    "https://towardsdatascience.com/data-preprocessing-and-eda-for-data-science-50ba6ea65c0a"
   ]
  },
  {
   "cell_type": "code",
   "execution_count": null,
   "metadata": {},
   "outputs": [],
   "source": [
    "https://towardsdatascience.com/categorical-encoding-using-label-encoding-and-one-hot-encoder-911ef77fb5bd"
   ]
  },
  {
   "cell_type": "code",
   "execution_count": null,
   "metadata": {},
   "outputs": [],
   "source": []
  }
 ],
 "metadata": {
  "kernelspec": {
   "display_name": "Python 3",
   "language": "python",
   "name": "python3"
  },
  "language_info": {
   "codemirror_mode": {
    "name": "ipython",
    "version": 3
   },
   "file_extension": ".py",
   "mimetype": "text/x-python",
   "name": "python",
   "nbconvert_exporter": "python",
   "pygments_lexer": "ipython3",
   "version": "3.6.5"
  }
 },
 "nbformat": 4,
 "nbformat_minor": 2
}
