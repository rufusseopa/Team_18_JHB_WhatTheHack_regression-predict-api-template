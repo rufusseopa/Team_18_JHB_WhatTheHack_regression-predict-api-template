{
 "cells": [
  {
   "cell_type": "markdown",
   "metadata": {},
   "source": [
    "## Visualizing the target variable"
   ]
  },
  {
   "cell_type": "code",
   "execution_count": null,
   "metadata": {},
   "outputs": [],
   "source": [
    "print(data2['Time from Pickup to Arrival'].describe())\n",
    "plt.figure(figsize=(9,8))\n",
    "sns.distplot(data2['Time from Pickup to Arrival'],color='orange',bins=100,hist_kws={'alpha':0.4})\n",
    "plt.show()"
   ]
  },
  {
   "cell_type": "markdown",
   "metadata": {},
   "source": [
    "## dist of numeric features"
   ]
  },
  {
   "cell_type": "code",
   "execution_count": null,
   "metadata": {},
   "outputs": [],
   "source": [
    "df_num = data2.select_dtypes(include = ['float64','int64'])\n",
    "df_num.head()"
   ]
  },
  {
   "cell_type": "code",
   "execution_count": null,
   "metadata": {},
   "outputs": [],
   "source": [
    "df_num.hist(figsize=(16,20),bins=50,xlabelsize=8,ylabelsize=8)\n",
    "plt.show()"
   ]
  },
  {
   "cell_type": "markdown",
   "metadata": {},
   "source": [
    "## see if features form some relationship with Time from pickup to arrival"
   ]
  },
  {
   "cell_type": "code",
   "execution_count": null,
   "metadata": {},
   "outputs": [],
   "source": [
    "for i in range(0,len(df_num.columns),5):\n",
    "    sns.pairplot(data=df_num,x_vars=df_num.columns[i:i+5],y_vars=['Time from Pickup to Arrival'])"
   ]
  },
  {
   "cell_type": "markdown",
   "metadata": {},
   "source": [
    "## box plots with categorical data"
   ]
  },
  {
   "cell_type": "markdown",
   "metadata": {},
   "source": [
    "#### this can be used  for all categorical data"
   ]
  },
  {
   "cell_type": "code",
   "execution_count": null,
   "metadata": {},
   "outputs": [],
   "source": [
    "plt.figure(figsize=(10,6))\n",
    "ax=sns.boxplot(x='Personal or Business',y='Time from Pickup to Arrival',data=df_cat_features)\n",
    "plt.setp(ax.artists,alpha=0.5,linewidth=2,edgecolor='K')\n",
    "plt.xticks(rotation=45)"
   ]
  },
  {
   "cell_type": "markdown",
   "metadata": {},
   "source": [
    "### change date to categorical"
   ]
  },
  {
   "cell_type": "code",
   "execution_count": null,
   "metadata": {},
   "outputs": [],
   "source": [
    "data['Arrival at Destination - Time'] = pd.to_datetime(data['Arrival at Destination - Time'])\n",
    "data['Pickup - Time'] = pd.to_datetime(data['Pickup - Time'])"
   ]
  },
  {
   "cell_type": "code",
   "execution_count": null,
   "metadata": {},
   "outputs": [],
   "source": [
    "data['Busy Day'] = (data['Pickup - Time'].dt.hour%24+4)//4\n",
    "data['Busy Day'].replace({1:'Late Night',\n",
    "                                2: 'Early morning',\n",
    "                               3: 'Morning',\n",
    "                               4: 'Afternoon',\n",
    "                               5: 'Evening',\n",
    "                               6: 'Night'},inplace = True)"
   ]
  },
  {
   "cell_type": "code",
   "execution_count": null,
   "metadata": {},
   "outputs": [],
   "source": [
    "plt.figure(figsize=(10,6))\n",
    "ax=sns.boxplot(x='Busy Day',y='Time from Pickup to Arrival',data=data)\n",
    "plt.setp(ax.artists,alpha=0.5,linewidth=2,edgecolor='K')\n",
    "plt.xticks(rotation=45)"
   ]
  },
  {
   "cell_type": "markdown",
   "metadata": {},
   "source": [
    "### Correlation"
   ]
  },
  {
   "cell_type": "code",
   "execution_count": null,
   "metadata": {},
   "outputs": [],
   "source": [
    "df_num_corr = df_num.corr()['Time from Pickup to Arrival'][:-1]\n",
    "best_features_list = df_num_corr[abs(df_num_corr)>0.5].sort_values(ascending = False)\n",
    "print('ther is {} strong correlated values with Time from Pickup to Arrival: \\n{}'.format(len(best_features_list),best_features_list))"
   ]
  }
 ],
 "metadata": {
  "kernelspec": {
   "display_name": "Python 3",
   "language": "python",
   "name": "python3"
  },
  "language_info": {
   "codemirror_mode": {
    "name": "ipython",
    "version": 3
   },
   "file_extension": ".py",
   "mimetype": "text/x-python",
   "name": "python",
   "nbconvert_exporter": "python",
   "pygments_lexer": "ipython3",
   "version": "3.7.3"
  }
 },
 "nbformat": 4,
 "nbformat_minor": 2
}
